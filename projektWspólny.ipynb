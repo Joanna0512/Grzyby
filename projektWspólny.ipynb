{
  "nbformat": 4,
  "nbformat_minor": 0,
  "metadata": {
    "colab": {
      "provenance": []
    },
    "kernelspec": {
      "name": "python3",
      "display_name": "Python 3"
    },
    "language_info": {
      "name": "python"
    }
  },
  "cells": [
    {
      "cell_type": "code",
      "execution_count": 77,
      "metadata": {
        "id": "9cdC4TLDYTGu"
      },
      "outputs": [],
      "source": [
        "import numpy as np\n",
        "import pandas as pd\n",
        "import matplotlib.pyplot as plt\n",
        "from sklearn.preprocessing import Normalizer, StandardScaler\n",
        "from pandas.core.internals.construction import dataclasses_to_dicts\n",
        "from sklearn.tree import plot_tree, DecisionTreeClassifier\n",
        "from sklearn.model_selection import train_test_split\n",
        "from sklearn.ensemble import AdaBoostClassifier,  RandomForestClassifier\n",
        "from sklearn.metrics import confusion_matrix, classification_report"
      ]
    },
    {
      "cell_type": "code",
      "source": [
        "from sklearn.linear_model import LinearRegression\n",
        "from sklearn.preprocessing import PolynomialFeatures\n",
        "import seaborn as sns\n",
        "from sklearn.tree import DecisionTreeRegressor\n",
        "import plotly.express as px\n",
        "import statsmodels\n",
        "from scipy.stats import norm"
      ],
      "metadata": {
        "id": "CY0pX7niYdr-"
      },
      "execution_count": 78,
      "outputs": []
    },
    {
      "cell_type": "code",
      "source": [
        "df=pd.read_csv('secondary_data.csv', sep=';')"
      ],
      "metadata": {
        "id": "P0yqKJMCY18X"
      },
      "execution_count": 79,
      "outputs": []
    },
    {
      "cell_type": "code",
      "source": [
        "pd.set_option('display.max_columns', None)\n",
        "df.head()"
      ],
      "metadata": {
        "colab": {
          "base_uri": "https://localhost:8080/",
          "height": 268
        },
        "id": "sZFkC5BLY6OO",
        "outputId": "5c3c31db-9abd-46ca-8825-42f068531305"
      },
      "execution_count": 80,
      "outputs": [
        {
          "output_type": "execute_result",
          "data": {
            "text/plain": [
              "  class  cap-diameter cap-shape cap-surface cap-color does-bruise-or-bleed  \\\n",
              "0     p         15.26         x           g         o                    f   \n",
              "1     p         16.60         x           g         o                    f   \n",
              "2     p         14.07         x           g         o                    f   \n",
              "3     p         14.17         f           h         e                    f   \n",
              "4     p         14.64         x           h         o                    f   \n",
              "\n",
              "  gill-attachment gill-spacing gill-color  stem-height  stem-width stem-root  \\\n",
              "0               e          NaN          w        16.95       17.09         s   \n",
              "1               e          NaN          w        17.99       18.19         s   \n",
              "2               e          NaN          w        17.80       17.74         s   \n",
              "3               e          NaN          w        15.77       15.98         s   \n",
              "4               e          NaN          w        16.53       17.20         s   \n",
              "\n",
              "  stem-surface stem-color veil-type veil-color has-ring ring-type  \\\n",
              "0            y          w         u          w        t         g   \n",
              "1            y          w         u          w        t         g   \n",
              "2            y          w         u          w        t         g   \n",
              "3            y          w         u          w        t         p   \n",
              "4            y          w         u          w        t         p   \n",
              "\n",
              "  spore-print-color habitat season  \n",
              "0               NaN       d      w  \n",
              "1               NaN       d      u  \n",
              "2               NaN       d      w  \n",
              "3               NaN       d      w  \n",
              "4               NaN       d      w  "
            ],
            "text/html": [
              "\n",
              "  <div id=\"df-20a9dbfb-b310-42b9-8537-eb1556b6a53f\">\n",
              "    <div class=\"colab-df-container\">\n",
              "      <div>\n",
              "<style scoped>\n",
              "    .dataframe tbody tr th:only-of-type {\n",
              "        vertical-align: middle;\n",
              "    }\n",
              "\n",
              "    .dataframe tbody tr th {\n",
              "        vertical-align: top;\n",
              "    }\n",
              "\n",
              "    .dataframe thead th {\n",
              "        text-align: right;\n",
              "    }\n",
              "</style>\n",
              "<table border=\"1\" class=\"dataframe\">\n",
              "  <thead>\n",
              "    <tr style=\"text-align: right;\">\n",
              "      <th></th>\n",
              "      <th>class</th>\n",
              "      <th>cap-diameter</th>\n",
              "      <th>cap-shape</th>\n",
              "      <th>cap-surface</th>\n",
              "      <th>cap-color</th>\n",
              "      <th>does-bruise-or-bleed</th>\n",
              "      <th>gill-attachment</th>\n",
              "      <th>gill-spacing</th>\n",
              "      <th>gill-color</th>\n",
              "      <th>stem-height</th>\n",
              "      <th>stem-width</th>\n",
              "      <th>stem-root</th>\n",
              "      <th>stem-surface</th>\n",
              "      <th>stem-color</th>\n",
              "      <th>veil-type</th>\n",
              "      <th>veil-color</th>\n",
              "      <th>has-ring</th>\n",
              "      <th>ring-type</th>\n",
              "      <th>spore-print-color</th>\n",
              "      <th>habitat</th>\n",
              "      <th>season</th>\n",
              "    </tr>\n",
              "  </thead>\n",
              "  <tbody>\n",
              "    <tr>\n",
              "      <th>0</th>\n",
              "      <td>p</td>\n",
              "      <td>15.26</td>\n",
              "      <td>x</td>\n",
              "      <td>g</td>\n",
              "      <td>o</td>\n",
              "      <td>f</td>\n",
              "      <td>e</td>\n",
              "      <td>NaN</td>\n",
              "      <td>w</td>\n",
              "      <td>16.95</td>\n",
              "      <td>17.09</td>\n",
              "      <td>s</td>\n",
              "      <td>y</td>\n",
              "      <td>w</td>\n",
              "      <td>u</td>\n",
              "      <td>w</td>\n",
              "      <td>t</td>\n",
              "      <td>g</td>\n",
              "      <td>NaN</td>\n",
              "      <td>d</td>\n",
              "      <td>w</td>\n",
              "    </tr>\n",
              "    <tr>\n",
              "      <th>1</th>\n",
              "      <td>p</td>\n",
              "      <td>16.60</td>\n",
              "      <td>x</td>\n",
              "      <td>g</td>\n",
              "      <td>o</td>\n",
              "      <td>f</td>\n",
              "      <td>e</td>\n",
              "      <td>NaN</td>\n",
              "      <td>w</td>\n",
              "      <td>17.99</td>\n",
              "      <td>18.19</td>\n",
              "      <td>s</td>\n",
              "      <td>y</td>\n",
              "      <td>w</td>\n",
              "      <td>u</td>\n",
              "      <td>w</td>\n",
              "      <td>t</td>\n",
              "      <td>g</td>\n",
              "      <td>NaN</td>\n",
              "      <td>d</td>\n",
              "      <td>u</td>\n",
              "    </tr>\n",
              "    <tr>\n",
              "      <th>2</th>\n",
              "      <td>p</td>\n",
              "      <td>14.07</td>\n",
              "      <td>x</td>\n",
              "      <td>g</td>\n",
              "      <td>o</td>\n",
              "      <td>f</td>\n",
              "      <td>e</td>\n",
              "      <td>NaN</td>\n",
              "      <td>w</td>\n",
              "      <td>17.80</td>\n",
              "      <td>17.74</td>\n",
              "      <td>s</td>\n",
              "      <td>y</td>\n",
              "      <td>w</td>\n",
              "      <td>u</td>\n",
              "      <td>w</td>\n",
              "      <td>t</td>\n",
              "      <td>g</td>\n",
              "      <td>NaN</td>\n",
              "      <td>d</td>\n",
              "      <td>w</td>\n",
              "    </tr>\n",
              "    <tr>\n",
              "      <th>3</th>\n",
              "      <td>p</td>\n",
              "      <td>14.17</td>\n",
              "      <td>f</td>\n",
              "      <td>h</td>\n",
              "      <td>e</td>\n",
              "      <td>f</td>\n",
              "      <td>e</td>\n",
              "      <td>NaN</td>\n",
              "      <td>w</td>\n",
              "      <td>15.77</td>\n",
              "      <td>15.98</td>\n",
              "      <td>s</td>\n",
              "      <td>y</td>\n",
              "      <td>w</td>\n",
              "      <td>u</td>\n",
              "      <td>w</td>\n",
              "      <td>t</td>\n",
              "      <td>p</td>\n",
              "      <td>NaN</td>\n",
              "      <td>d</td>\n",
              "      <td>w</td>\n",
              "    </tr>\n",
              "    <tr>\n",
              "      <th>4</th>\n",
              "      <td>p</td>\n",
              "      <td>14.64</td>\n",
              "      <td>x</td>\n",
              "      <td>h</td>\n",
              "      <td>o</td>\n",
              "      <td>f</td>\n",
              "      <td>e</td>\n",
              "      <td>NaN</td>\n",
              "      <td>w</td>\n",
              "      <td>16.53</td>\n",
              "      <td>17.20</td>\n",
              "      <td>s</td>\n",
              "      <td>y</td>\n",
              "      <td>w</td>\n",
              "      <td>u</td>\n",
              "      <td>w</td>\n",
              "      <td>t</td>\n",
              "      <td>p</td>\n",
              "      <td>NaN</td>\n",
              "      <td>d</td>\n",
              "      <td>w</td>\n",
              "    </tr>\n",
              "  </tbody>\n",
              "</table>\n",
              "</div>\n",
              "      <button class=\"colab-df-convert\" onclick=\"convertToInteractive('df-20a9dbfb-b310-42b9-8537-eb1556b6a53f')\"\n",
              "              title=\"Convert this dataframe to an interactive table.\"\n",
              "              style=\"display:none;\">\n",
              "        \n",
              "  <svg xmlns=\"http://www.w3.org/2000/svg\" height=\"24px\"viewBox=\"0 0 24 24\"\n",
              "       width=\"24px\">\n",
              "    <path d=\"M0 0h24v24H0V0z\" fill=\"none\"/>\n",
              "    <path d=\"M18.56 5.44l.94 2.06.94-2.06 2.06-.94-2.06-.94-.94-2.06-.94 2.06-2.06.94zm-11 1L8.5 8.5l.94-2.06 2.06-.94-2.06-.94L8.5 2.5l-.94 2.06-2.06.94zm10 10l.94 2.06.94-2.06 2.06-.94-2.06-.94-.94-2.06-.94 2.06-2.06.94z\"/><path d=\"M17.41 7.96l-1.37-1.37c-.4-.4-.92-.59-1.43-.59-.52 0-1.04.2-1.43.59L10.3 9.45l-7.72 7.72c-.78.78-.78 2.05 0 2.83L4 21.41c.39.39.9.59 1.41.59.51 0 1.02-.2 1.41-.59l7.78-7.78 2.81-2.81c.8-.78.8-2.07 0-2.86zM5.41 20L4 18.59l7.72-7.72 1.47 1.35L5.41 20z\"/>\n",
              "  </svg>\n",
              "      </button>\n",
              "      \n",
              "  <style>\n",
              "    .colab-df-container {\n",
              "      display:flex;\n",
              "      flex-wrap:wrap;\n",
              "      gap: 12px;\n",
              "    }\n",
              "\n",
              "    .colab-df-convert {\n",
              "      background-color: #E8F0FE;\n",
              "      border: none;\n",
              "      border-radius: 50%;\n",
              "      cursor: pointer;\n",
              "      display: none;\n",
              "      fill: #1967D2;\n",
              "      height: 32px;\n",
              "      padding: 0 0 0 0;\n",
              "      width: 32px;\n",
              "    }\n",
              "\n",
              "    .colab-df-convert:hover {\n",
              "      background-color: #E2EBFA;\n",
              "      box-shadow: 0px 1px 2px rgba(60, 64, 67, 0.3), 0px 1px 3px 1px rgba(60, 64, 67, 0.15);\n",
              "      fill: #174EA6;\n",
              "    }\n",
              "\n",
              "    [theme=dark] .colab-df-convert {\n",
              "      background-color: #3B4455;\n",
              "      fill: #D2E3FC;\n",
              "    }\n",
              "\n",
              "    [theme=dark] .colab-df-convert:hover {\n",
              "      background-color: #434B5C;\n",
              "      box-shadow: 0px 1px 3px 1px rgba(0, 0, 0, 0.15);\n",
              "      filter: drop-shadow(0px 1px 2px rgba(0, 0, 0, 0.3));\n",
              "      fill: #FFFFFF;\n",
              "    }\n",
              "  </style>\n",
              "\n",
              "      <script>\n",
              "        const buttonEl =\n",
              "          document.querySelector('#df-20a9dbfb-b310-42b9-8537-eb1556b6a53f button.colab-df-convert');\n",
              "        buttonEl.style.display =\n",
              "          google.colab.kernel.accessAllowed ? 'block' : 'none';\n",
              "\n",
              "        async function convertToInteractive(key) {\n",
              "          const element = document.querySelector('#df-20a9dbfb-b310-42b9-8537-eb1556b6a53f');\n",
              "          const dataTable =\n",
              "            await google.colab.kernel.invokeFunction('convertToInteractive',\n",
              "                                                     [key], {});\n",
              "          if (!dataTable) return;\n",
              "\n",
              "          const docLinkHtml = 'Like what you see? Visit the ' +\n",
              "            '<a target=\"_blank\" href=https://colab.research.google.com/notebooks/data_table.ipynb>data table notebook</a>'\n",
              "            + ' to learn more about interactive tables.';\n",
              "          element.innerHTML = '';\n",
              "          dataTable['output_type'] = 'display_data';\n",
              "          await google.colab.output.renderOutput(dataTable, element);\n",
              "          const docLink = document.createElement('div');\n",
              "          docLink.innerHTML = docLinkHtml;\n",
              "          element.appendChild(docLink);\n",
              "        }\n",
              "      </script>\n",
              "    </div>\n",
              "  </div>\n",
              "  "
            ]
          },
          "metadata": {},
          "execution_count": 80
        }
      ]
    },
    {
      "cell_type": "code",
      "source": [
        "df.info()"
      ],
      "metadata": {
        "colab": {
          "base_uri": "https://localhost:8080/"
        },
        "id": "Kojp-YQMaGNi",
        "outputId": "0b4cb5f3-9eda-4bcf-a5a8-d9282adad80c"
      },
      "execution_count": 81,
      "outputs": [
        {
          "output_type": "stream",
          "name": "stdout",
          "text": [
            "<class 'pandas.core.frame.DataFrame'>\n",
            "RangeIndex: 61069 entries, 0 to 61068\n",
            "Data columns (total 21 columns):\n",
            " #   Column                Non-Null Count  Dtype  \n",
            "---  ------                --------------  -----  \n",
            " 0   class                 61069 non-null  object \n",
            " 1   cap-diameter          61069 non-null  float64\n",
            " 2   cap-shape             61069 non-null  object \n",
            " 3   cap-surface           46949 non-null  object \n",
            " 4   cap-color             61069 non-null  object \n",
            " 5   does-bruise-or-bleed  61069 non-null  object \n",
            " 6   gill-attachment       51185 non-null  object \n",
            " 7   gill-spacing          36006 non-null  object \n",
            " 8   gill-color            61069 non-null  object \n",
            " 9   stem-height           61069 non-null  float64\n",
            " 10  stem-width            61069 non-null  float64\n",
            " 11  stem-root             9531 non-null   object \n",
            " 12  stem-surface          22945 non-null  object \n",
            " 13  stem-color            61069 non-null  object \n",
            " 14  veil-type             3177 non-null   object \n",
            " 15  veil-color            7413 non-null   object \n",
            " 16  has-ring              61069 non-null  object \n",
            " 17  ring-type             58598 non-null  object \n",
            " 18  spore-print-color     6354 non-null   object \n",
            " 19  habitat               61069 non-null  object \n",
            " 20  season                61069 non-null  object \n",
            "dtypes: float64(3), object(18)\n",
            "memory usage: 9.8+ MB\n"
          ]
        }
      ]
    },
    {
      "cell_type": "code",
      "source": [
        "df['veil-type']=df['veil-type'].fillna(0)"
      ],
      "metadata": {
        "id": "BoaSOrDQc0qF"
      },
      "execution_count": 82,
      "outputs": []
    },
    {
      "cell_type": "code",
      "source": [
        "#df.drop(['stem-color','veil-color','veil-type','spore-print-color'], axis=1, inplace=True)"
      ],
      "metadata": {
        "id": "M15tr5Lfa3cA"
      },
      "execution_count": 83,
      "outputs": []
    },
    {
      "cell_type": "code",
      "source": [
        "df.info()"
      ],
      "metadata": {
        "colab": {
          "base_uri": "https://localhost:8080/"
        },
        "id": "Cx7OvubKbiwo",
        "outputId": "a972aa79-77ff-4b13-a423-a5113500b59b"
      },
      "execution_count": 84,
      "outputs": [
        {
          "output_type": "stream",
          "name": "stdout",
          "text": [
            "<class 'pandas.core.frame.DataFrame'>\n",
            "RangeIndex: 61069 entries, 0 to 61068\n",
            "Data columns (total 21 columns):\n",
            " #   Column                Non-Null Count  Dtype  \n",
            "---  ------                --------------  -----  \n",
            " 0   class                 61069 non-null  object \n",
            " 1   cap-diameter          61069 non-null  float64\n",
            " 2   cap-shape             61069 non-null  object \n",
            " 3   cap-surface           46949 non-null  object \n",
            " 4   cap-color             61069 non-null  object \n",
            " 5   does-bruise-or-bleed  61069 non-null  object \n",
            " 6   gill-attachment       51185 non-null  object \n",
            " 7   gill-spacing          36006 non-null  object \n",
            " 8   gill-color            61069 non-null  object \n",
            " 9   stem-height           61069 non-null  float64\n",
            " 10  stem-width            61069 non-null  float64\n",
            " 11  stem-root             9531 non-null   object \n",
            " 12  stem-surface          22945 non-null  object \n",
            " 13  stem-color            61069 non-null  object \n",
            " 14  veil-type             61069 non-null  object \n",
            " 15  veil-color            7413 non-null   object \n",
            " 16  has-ring              61069 non-null  object \n",
            " 17  ring-type             58598 non-null  object \n",
            " 18  spore-print-color     6354 non-null   object \n",
            " 19  habitat               61069 non-null  object \n",
            " 20  season                61069 non-null  object \n",
            "dtypes: float64(3), object(18)\n",
            "memory usage: 9.8+ MB\n"
          ]
        }
      ]
    },
    {
      "cell_type": "code",
      "source": [
        "df['veil-type'] = df['veil-type'].replace({'u': 1})"
      ],
      "metadata": {
        "id": "d1akNbBUdKpV"
      },
      "execution_count": 85,
      "outputs": []
    },
    {
      "cell_type": "code",
      "source": [
        "df=df.rename(columns={'cap-diameter':'cap_diameter'})\n",
        "df=df.rename(columns={'cap-shape':'cap_shape'})\n",
        "df=df.rename(columns={'cap-surface':'cap_surface'})\n",
        "df=df.rename(columns={'cap-color':'cap_color'})\n",
        "df=df.rename(columns={'does-bruise-or-bleed':'does_bruise_or_bleed'})\n",
        "df=df.rename(columns={'gill-attachment':'gill_attachment'})\n",
        "df=df.rename(columns={'gill-spacing':'gill_spacing'})\n",
        "df=df.rename(columns={'gill-color':'gill_color'})\n",
        "df=df.rename(columns={'stem-height':'stem_height'})\n",
        "df=df.rename(columns={'stem-root':'stem_root'})\n",
        "df=df.rename(columns={'stem-surface':'stem_surface'})\n",
        "df=df.rename(columns={'has-ring':'has_ring'})\n",
        "df=df.rename(columns={'ring-type':'ring_type'})\n",
        "df=df.rename(columns={'veil-type':'veil_type'})\n",
        "df=df.rename(columns={'spore-print-color':'spore_print_color'})"
      ],
      "metadata": {
        "id": "ujNuWJLtbmTh"
      },
      "execution_count": 86,
      "outputs": []
    },
    {
      "cell_type": "code",
      "source": [
        "df['veil_type'] = df['veil_type'].astype(float)"
      ],
      "metadata": {
        "id": "GHcAKaUae2wh"
      },
      "execution_count": 87,
      "outputs": []
    },
    {
      "cell_type": "code",
      "source": [
        "df['class'] = df['class'].replace({'e': 1, 'p':0})"
      ],
      "metadata": {
        "id": "4ca0EDqngJ_J"
      },
      "execution_count": 88,
      "outputs": []
    },
    {
      "cell_type": "code",
      "source": [
        "df['class'] = df['class'].astype(float)"
      ],
      "metadata": {
        "id": "SL-VXl1pe3S-"
      },
      "execution_count": 89,
      "outputs": []
    },
    {
      "cell_type": "code",
      "source": [
        "set(df['stem_root'])"
      ],
      "metadata": {
        "colab": {
          "base_uri": "https://localhost:8080/"
        },
        "id": "9uiokgeuhdjn",
        "outputId": "7e7f62e8-c60b-4f9e-f291-c60b6e78ff47"
      },
      "execution_count": 90,
      "outputs": [
        {
          "output_type": "execute_result",
          "data": {
            "text/plain": [
              "{'b', 'c', 'f', nan, 'r', 's'}"
            ]
          },
          "metadata": {},
          "execution_count": 90
        }
      ]
    },
    {
      "cell_type": "code",
      "source": [
        "set(df['stem_surface'])"
      ],
      "metadata": {
        "colab": {
          "base_uri": "https://localhost:8080/"
        },
        "id": "bwYdoT5DhWSW",
        "outputId": "a8c88a2c-48c9-4d54-b477-2b1057653f1d"
      },
      "execution_count": 91,
      "outputs": [
        {
          "output_type": "execute_result",
          "data": {
            "text/plain": [
              "{'f', 'g', 'h', 'i', 'k', nan, 's', 't', 'y'}"
            ]
          },
          "metadata": {},
          "execution_count": 91
        }
      ]
    },
    {
      "cell_type": "code",
      "source": [
        "set(df['ring_type'])"
      ],
      "metadata": {
        "colab": {
          "base_uri": "https://localhost:8080/"
        },
        "id": "CXMrAEwie3iI",
        "outputId": "c3ff5bd2-135c-49c7-a28f-c5af04f32ecd"
      },
      "execution_count": 92,
      "outputs": [
        {
          "output_type": "execute_result",
          "data": {
            "text/plain": [
              "{'e', 'f', 'g', 'l', 'm', nan, 'p', 'r', 'z'}"
            ]
          },
          "metadata": {},
          "execution_count": 92
        }
      ]
    },
    {
      "cell_type": "code",
      "source": [
        "set(df['has_ring'])"
      ],
      "metadata": {
        "colab": {
          "base_uri": "https://localhost:8080/"
        },
        "id": "9MPSmSgygSwo",
        "outputId": "3e550285-6b6b-4388-cc9b-14d5f2cf3e00"
      },
      "execution_count": 93,
      "outputs": [
        {
          "output_type": "execute_result",
          "data": {
            "text/plain": [
              "{'f', 't'}"
            ]
          },
          "metadata": {},
          "execution_count": 93
        }
      ]
    },
    {
      "cell_type": "code",
      "source": [
        "df['has_ring'] = df['has_ring'].replace({'f': 0, 't':1}).astype(float)"
      ],
      "metadata": {
        "id": "NJTtIP3dgSs4"
      },
      "execution_count": 94,
      "outputs": []
    },
    {
      "cell_type": "code",
      "source": [
        "set(df['has_ring'])"
      ],
      "metadata": {
        "colab": {
          "base_uri": "https://localhost:8080/"
        },
        "id": "rWy7RZxngSmv",
        "outputId": "e4089c8c-af14-4b7f-f768-113de586e7b3"
      },
      "execution_count": 95,
      "outputs": [
        {
          "output_type": "execute_result",
          "data": {
            "text/plain": [
              "{0.0, 1.0}"
            ]
          },
          "metadata": {},
          "execution_count": 95
        }
      ]
    },
    {
      "cell_type": "code",
      "source": [
        "set(df['gill_color'])"
      ],
      "metadata": {
        "colab": {
          "base_uri": "https://localhost:8080/"
        },
        "id": "TCyScDmGk6Oe",
        "outputId": "bc3fb9fe-69a6-42dd-cf52-1e34b7bbdfc7"
      },
      "execution_count": 96,
      "outputs": [
        {
          "output_type": "execute_result",
          "data": {
            "text/plain": [
              "{'b', 'e', 'f', 'g', 'k', 'n', 'o', 'p', 'r', 'u', 'w', 'y'}"
            ]
          },
          "metadata": {},
          "execution_count": 96
        }
      ]
    },
    {
      "cell_type": "code",
      "source": [
        "df.drop(['spore_print_color'], axis=1, inplace=True)"
      ],
      "metadata": {
        "id": "CSG9xufFgSjI"
      },
      "execution_count": 97,
      "outputs": []
    },
    {
      "cell_type": "code",
      "source": [
        "df['does_bruise_or_bleed'] = df['does_bruise_or_bleed'].replace({'f': 1, 't':2}).astype(float)"
      ],
      "metadata": {
        "id": "fbOxGa_im_YC"
      },
      "execution_count": 98,
      "outputs": []
    },
    {
      "cell_type": "code",
      "source": [
        "corr=df.corr()"
      ],
      "metadata": {
        "id": "FdwvEfyPg4ez"
      },
      "execution_count": 99,
      "outputs": []
    },
    {
      "cell_type": "code",
      "source": [
        "plt.figure(figsize=(8,6))\n",
        "sns.heatmap(corr)"
      ],
      "metadata": {
        "colab": {
          "base_uri": "https://localhost:8080/",
          "height": 493
        },
        "id": "Ii9ABpYEg4a1",
        "outputId": "0cabe1bf-dd81-4d1d-9653-dc03ef39a04f"
      },
      "execution_count": 100,
      "outputs": [
        {
          "output_type": "execute_result",
          "data": {
            "text/plain": [
              "<matplotlib.axes._subplots.AxesSubplot at 0x7f090d5cd550>"
            ]
          },
          "metadata": {},
          "execution_count": 100
        },
        {
          "output_type": "display_data",
          "data": {
            "text/plain": [
              "<Figure size 576x432 with 2 Axes>"
            ],
            "image/png": "[encoded data removed]"
          },
          "metadata": {
            "needs_background": "light"
          }
        }
      ]
    },
    {
      "cell_type": "code",
      "source": [
        "df.info()"
      ],
      "metadata": {
        "colab": {
          "base_uri": "https://localhost:8080/"
        },
        "id": "sXLzIvkHg4X6",
        "outputId": "696381f0-7147-4db5-d325-23ec8328d0a5"
      },
      "execution_count": 101,
      "outputs": [
        {
          "output_type": "stream",
          "name": "stdout",
          "text": [
            "<class 'pandas.core.frame.DataFrame'>\n",
            "RangeIndex: 61069 entries, 0 to 61068\n",
            "Data columns (total 20 columns):\n",
            " #   Column                Non-Null Count  Dtype  \n",
            "---  ------                --------------  -----  \n",
            " 0   class                 61069 non-null  float64\n",
            " 1   cap_diameter          61069 non-null  float64\n",
            " 2   cap_shape             61069 non-null  object \n",
            " 3   cap_surface           46949 non-null  object \n",
            " 4   cap_color             61069 non-null  object \n",
            " 5   does_bruise_or_bleed  61069 non-null  float64\n",
            " 6   gill_attachment       51185 non-null  object \n",
            " 7   gill_spacing          36006 non-null  object \n",
            " 8   gill_color            61069 non-null  object \n",
            " 9   stem_height           61069 non-null  float64\n",
            " 10  stem-width            61069 non-null  float64\n",
            " 11  stem_root             9531 non-null   object \n",
            " 12  stem_surface          22945 non-null  object \n",
            " 13  stem-color            61069 non-null  object \n",
            " 14  veil_type             61069 non-null  float64\n",
            " 15  veil-color            7413 non-null   object \n",
            " 16  has_ring              61069 non-null  float64\n",
            " 17  ring_type             58598 non-null  object \n",
            " 18  habitat               61069 non-null  object \n",
            " 19  season                61069 non-null  object \n",
            "dtypes: float64(7), object(13)\n",
            "memory usage: 9.3+ MB\n"
          ]
        }
      ]
    },
    {
      "cell_type": "code",
      "source": [
        "set(df['stem_root'])"
      ],
      "metadata": {
        "colab": {
          "base_uri": "https://localhost:8080/"
        },
        "id": "yEDuUISenyUj",
        "outputId": "6306f7df-26a7-4482-b14f-61573c583787"
      },
      "execution_count": 102,
      "outputs": [
        {
          "output_type": "execute_result",
          "data": {
            "text/plain": [
              "{'b', 'c', 'f', nan, 'r', 's'}"
            ]
          },
          "metadata": {},
          "execution_count": 102
        }
      ]
    },
    {
      "cell_type": "code",
      "source": [
        "df.stem_root.value_counts()"
      ],
      "metadata": {
        "colab": {
          "base_uri": "https://localhost:8080/"
        },
        "id": "w8cKxEq1oBPy",
        "outputId": "11bd912a-97e2-4a1c-a74b-0b4321f1de45"
      },
      "execution_count": 103,
      "outputs": [
        {
          "output_type": "execute_result",
          "data": {
            "text/plain": [
              "s    3177\n",
              "b    3177\n",
              "r    1412\n",
              "f    1059\n",
              "c     706\n",
              "Name: stem_root, dtype: int64"
            ]
          },
          "metadata": {},
          "execution_count": 103
        }
      ]
    },
    {
      "cell_type": "code",
      "source": [
        "class0=df[df['class']==0]"
      ],
      "metadata": {
        "id": "dEy7411PoZyk"
      },
      "execution_count": 124,
      "outputs": []
    },
    {
      "cell_type": "code",
      "source": [
        "class0['ring_type'].value_counts()"
      ],
      "metadata": {
        "colab": {
          "base_uri": "https://localhost:8080/"
        },
        "id": "8o2SWhw5qARn",
        "outputId": "2ce56ba0-2aaa-4892-e7a0-2320fb7166d7"
      },
      "execution_count": 125,
      "outputs": [
        {
          "output_type": "execute_result",
          "data": {
            "text/plain": [
              "f    27887\n",
              "z     2118\n",
              "e     1376\n",
              "p      717\n",
              "r      706\n",
              "l      550\n",
              "g      534\n",
              "Name: ring_type, dtype: int64"
            ]
          },
          "metadata": {},
          "execution_count": 125
        }
      ]
    },
    {
      "cell_type": "code",
      "source": [
        "class1['ring_type'].value_counts()"
      ],
      "metadata": {
        "colab": {
          "base_uri": "https://localhost:8080/"
        },
        "id": "2dhZhz5zqIuy",
        "outputId": "a3929fe2-1d01-4e1c-8cff-4790a630bab5"
      },
      "execution_count": 126,
      "outputs": [
        {
          "output_type": "execute_result",
          "data": {
            "text/plain": [
              "f    22945\n",
              "e     1059\n",
              "l      877\n",
              "g      706\n",
              "r      693\n",
              "p      548\n",
              "m      353\n",
              "Name: ring_type, dtype: int64"
            ]
          },
          "metadata": {},
          "execution_count": 126
        }
      ]
    },
    {
      "cell_type": "code",
      "source": [
        "class1=df[df['class']==1]"
      ],
      "metadata": {
        "id": "9Bl8LXz3pfI2"
      },
      "execution_count": 123,
      "outputs": []
    },
    {
      "cell_type": "code",
      "source": [
        "df.drop(['stem_root'], axis=1, inplace=True)"
      ],
      "metadata": {
        "id": "TnKvGrOXp0tT"
      },
      "execution_count": 108,
      "outputs": []
    },
    {
      "cell_type": "code",
      "source": [
        "class0.info()"
      ],
      "metadata": {
        "colab": {
          "base_uri": "https://localhost:8080/"
        },
        "id": "x9bi1N7uo3-G",
        "outputId": "65f9ab07-15dd-48f7-cdd7-ad66222ae75b"
      },
      "execution_count": 109,
      "outputs": [
        {
          "output_type": "stream",
          "name": "stdout",
          "text": [
            "<class 'pandas.core.frame.DataFrame'>\n",
            "Int64Index: 33888 entries, 0 to 61068\n",
            "Data columns (total 20 columns):\n",
            " #   Column                Non-Null Count  Dtype  \n",
            "---  ------                --------------  -----  \n",
            " 0   class                 33888 non-null  float64\n",
            " 1   cap_diameter          33888 non-null  float64\n",
            " 2   cap_shape             33888 non-null  object \n",
            " 3   cap_surface           26475 non-null  object \n",
            " 4   cap_color             33888 non-null  object \n",
            " 5   does_bruise_or_bleed  33888 non-null  float64\n",
            " 6   gill_attachment       27534 non-null  object \n",
            " 7   gill_spacing          19768 non-null  object \n",
            " 8   gill_color            33888 non-null  object \n",
            " 9   stem_height           33888 non-null  float64\n",
            " 10  stem-width            33888 non-null  float64\n",
            " 11  stem_root             6001 non-null   object \n",
            " 12  stem_surface          14473 non-null  object \n",
            " 13  stem-color            33888 non-null  object \n",
            " 14  veil_type             33888 non-null  float64\n",
            " 15  veil-color            4236 non-null   object \n",
            " 16  has_ring              33888 non-null  float64\n",
            " 17  ring_type             32829 non-null  object \n",
            " 18  habitat               33888 non-null  object \n",
            " 19  season                33888 non-null  object \n",
            "dtypes: float64(7), object(13)\n",
            "memory usage: 5.4+ MB\n"
          ]
        }
      ]
    },
    {
      "cell_type": "code",
      "source": [
        "set(df['gill_spacing'])"
      ],
      "metadata": {
        "colab": {
          "base_uri": "https://localhost:8080/"
        },
        "id": "Kesxgh1GzCAw",
        "outputId": "c353ea17-4a2b-491b-e75c-7c6b99616226"
      },
      "execution_count": 110,
      "outputs": [
        {
          "output_type": "execute_result",
          "data": {
            "text/plain": [
              "{'c', 'd', 'f', nan}"
            ]
          },
          "metadata": {},
          "execution_count": 110
        }
      ]
    },
    {
      "cell_type": "code",
      "source": [
        "df.gill_spacing.value_counts()"
      ],
      "metadata": {
        "colab": {
          "base_uri": "https://localhost:8080/"
        },
        "id": "-QhzGM1LzXSw",
        "outputId": "5d85d155-747c-43d5-bf38-129c820b9ddc"
      },
      "execution_count": 111,
      "outputs": [
        {
          "output_type": "execute_result",
          "data": {
            "text/plain": [
              "c    24710\n",
              "d     7766\n",
              "f     3530\n",
              "Name: gill_spacing, dtype: int64"
            ]
          },
          "metadata": {},
          "execution_count": 111
        }
      ]
    },
    {
      "cell_type": "code",
      "source": [
        "class0.head()"
      ],
      "metadata": {
        "colab": {
          "base_uri": "https://localhost:8080/",
          "height": 288
        },
        "id": "Bh1Qfn1Fo-gE",
        "outputId": "3010a523-16bb-4e93-c2d3-40b61a3bca93"
      },
      "execution_count": 112,
      "outputs": [
        {
          "output_type": "execute_result",
          "data": {
            "text/plain": [
              "   class  cap_diameter cap_shape cap_surface cap_color  does_bruise_or_bleed  \\\n",
              "0    0.0         15.26         x           g         o                   1.0   \n",
              "1    0.0         16.60         x           g         o                   1.0   \n",
              "2    0.0         14.07         x           g         o                   1.0   \n",
              "3    0.0         14.17         f           h         e                   1.0   \n",
              "4    0.0         14.64         x           h         o                   1.0   \n",
              "\n",
              "  gill_attachment gill_spacing gill_color  stem_height  stem-width stem_root  \\\n",
              "0               e          NaN          w        16.95       17.09         s   \n",
              "1               e          NaN          w        17.99       18.19         s   \n",
              "2               e          NaN          w        17.80       17.74         s   \n",
              "3               e          NaN          w        15.77       15.98         s   \n",
              "4               e          NaN          w        16.53       17.20         s   \n",
              "\n",
              "  stem_surface stem-color  veil_type veil-color  has_ring ring_type habitat  \\\n",
              "0            y          w        1.0          w       1.0         g       d   \n",
              "1            y          w        1.0          w       1.0         g       d   \n",
              "2            y          w        1.0          w       1.0         g       d   \n",
              "3            y          w        1.0          w       1.0         p       d   \n",
              "4            y          w        1.0          w       1.0         p       d   \n",
              "\n",
              "  season  \n",
              "0      w  \n",
              "1      u  \n",
              "2      w  \n",
              "3      w  \n",
              "4      w  "
            ],
            "text/html": [
              "\n",
              "  <div id=\"df-f1742093-d89e-4245-b111-d62e789e1b2a\">\n",
              "    <div class=\"colab-df-container\">\n",
              "      <div>\n",
              "<style scoped>\n",
              "    .dataframe tbody tr th:only-of-type {\n",
              "        vertical-align: middle;\n",
              "    }\n",
              "\n",
              "    .dataframe tbody tr th {\n",
              "        vertical-align: top;\n",
              "    }\n",
              "\n",
              "    .dataframe thead th {\n",
              "        text-align: right;\n",
              "    }\n",
              "</style>\n",
              "<table border=\"1\" class=\"dataframe\">\n",
              "  <thead>\n",
              "    <tr style=\"text-align: right;\">\n",
              "      <th></th>\n",
              "      <th>class</th>\n",
              "      <th>cap_diameter</th>\n",
              "      <th>cap_shape</th>\n",
              "      <th>cap_surface</th>\n",
              "      <th>cap_color</th>\n",
              "      <th>does_bruise_or_bleed</th>\n",
              "      <th>gill_attachment</th>\n",
              "      <th>gill_spacing</th>\n",
              "      <th>gill_color</th>\n",
              "      <th>stem_height</th>\n",
              "      <th>stem-width</th>\n",
              "      <th>stem_root</th>\n",
              "      <th>stem_surface</th>\n",
              "      <th>stem-color</th>\n",
              "      <th>veil_type</th>\n",
              "      <th>veil-color</th>\n",
              "      <th>has_ring</th>\n",
              "      <th>ring_type</th>\n",
              "      <th>habitat</th>\n",
              "      <th>season</th>\n",
              "    </tr>\n",
              "  </thead>\n",
              "  <tbody>\n",
              "    <tr>\n",
              "      <th>0</th>\n",
              "      <td>0.0</td>\n",
              "      <td>15.26</td>\n",
              "      <td>x</td>\n",
              "      <td>g</td>\n",
              "      <td>o</td>\n",
              "      <td>1.0</td>\n",
              "      <td>e</td>\n",
              "      <td>NaN</td>\n",
              "      <td>w</td>\n",
              "      <td>16.95</td>\n",
              "      <td>17.09</td>\n",
              "      <td>s</td>\n",
              "      <td>y</td>\n",
              "      <td>w</td>\n",
              "      <td>1.0</td>\n",
              "      <td>w</td>\n",
              "      <td>1.0</td>\n",
              "      <td>g</td>\n",
              "      <td>d</td>\n",
              "      <td>w</td>\n",
              "    </tr>\n",
              "    <tr>\n",
              "      <th>1</th>\n",
              "      <td>0.0</td>\n",
              "      <td>16.60</td>\n",
              "      <td>x</td>\n",
              "      <td>g</td>\n",
              "      <td>o</td>\n",
              "      <td>1.0</td>\n",
              "      <td>e</td>\n",
              "      <td>NaN</td>\n",
              "      <td>w</td>\n",
              "      <td>17.99</td>\n",
              "      <td>18.19</td>\n",
              "      <td>s</td>\n",
              "      <td>y</td>\n",
              "      <td>w</td>\n",
              "      <td>1.0</td>\n",
              "      <td>w</td>\n",
              "      <td>1.0</td>\n",
              "      <td>g</td>\n",
              "      <td>d</td>\n",
              "      <td>u</td>\n",
              "    </tr>\n",
              "    <tr>\n",
              "      <th>2</th>\n",
              "      <td>0.0</td>\n",
              "      <td>14.07</td>\n",
              "      <td>x</td>\n",
              "      <td>g</td>\n",
              "      <td>o</td>\n",
              "      <td>1.0</td>\n",
              "      <td>e</td>\n",
              "      <td>NaN</td>\n",
              "      <td>w</td>\n",
              "      <td>17.80</td>\n",
              "      <td>17.74</td>\n",
              "      <td>s</td>\n",
              "      <td>y</td>\n",
              "      <td>w</td>\n",
              "      <td>1.0</td>\n",
              "      <td>w</td>\n",
              "      <td>1.0</td>\n",
              "      <td>g</td>\n",
              "      <td>d</td>\n",
              "      <td>w</td>\n",
              "    </tr>\n",
              "    <tr>\n",
              "      <th>3</th>\n",
              "      <td>0.0</td>\n",
              "      <td>14.17</td>\n",
              "      <td>f</td>\n",
              "      <td>h</td>\n",
              "      <td>e</td>\n",
              "      <td>1.0</td>\n",
              "      <td>e</td>\n",
              "      <td>NaN</td>\n",
              "      <td>w</td>\n",
              "      <td>15.77</td>\n",
              "      <td>15.98</td>\n",
              "      <td>s</td>\n",
              "      <td>y</td>\n",
              "      <td>w</td>\n",
              "      <td>1.0</td>\n",
              "      <td>w</td>\n",
              "      <td>1.0</td>\n",
              "      <td>p</td>\n",
              "      <td>d</td>\n",
              "      <td>w</td>\n",
              "    </tr>\n",
              "    <tr>\n",
              "      <th>4</th>\n",
              "      <td>0.0</td>\n",
              "      <td>14.64</td>\n",
              "      <td>x</td>\n",
              "      <td>h</td>\n",
              "      <td>o</td>\n",
              "      <td>1.0</td>\n",
              "      <td>e</td>\n",
              "      <td>NaN</td>\n",
              "      <td>w</td>\n",
              "      <td>16.53</td>\n",
              "      <td>17.20</td>\n",
              "      <td>s</td>\n",
              "      <td>y</td>\n",
              "      <td>w</td>\n",
              "      <td>1.0</td>\n",
              "      <td>w</td>\n",
              "      <td>1.0</td>\n",
              "      <td>p</td>\n",
              "      <td>d</td>\n",
              "      <td>w</td>\n",
              "    </tr>\n",
              "  </tbody>\n",
              "</table>\n",
              "</div>\n",
              "      <button class=\"colab-df-convert\" onclick=\"convertToInteractive('df-f1742093-d89e-4245-b111-d62e789e1b2a')\"\n",
              "              title=\"Convert this dataframe to an interactive table.\"\n",
              "              style=\"display:none;\">\n",
              "        \n",
              "  <svg xmlns=\"http://www.w3.org/2000/svg\" height=\"24px\"viewBox=\"0 0 24 24\"\n",
              "       width=\"24px\">\n",
              "    <path d=\"M0 0h24v24H0V0z\" fill=\"none\"/>\n",
              "    <path d=\"M18.56 5.44l.94 2.06.94-2.06 2.06-.94-2.06-.94-.94-2.06-.94 2.06-2.06.94zm-11 1L8.5 8.5l.94-2.06 2.06-.94-2.06-.94L8.5 2.5l-.94 2.06-2.06.94zm10 10l.94 2.06.94-2.06 2.06-.94-2.06-.94-.94-2.06-.94 2.06-2.06.94z\"/><path d=\"M17.41 7.96l-1.37-1.37c-.4-.4-.92-.59-1.43-.59-.52 0-1.04.2-1.43.59L10.3 9.45l-7.72 7.72c-.78.78-.78 2.05 0 2.83L4 21.41c.39.39.9.59 1.41.59.51 0 1.02-.2 1.41-.59l7.78-7.78 2.81-2.81c.8-.78.8-2.07 0-2.86zM5.41 20L4 18.59l7.72-7.72 1.47 1.35L5.41 20z\"/>\n",
              "  </svg>\n",
              "      </button>\n",
              "      \n",
              "  <style>\n",
              "    .colab-df-container {\n",
              "      display:flex;\n",
              "      flex-wrap:wrap;\n",
              "      gap: 12px;\n",
              "    }\n",
              "\n",
              "    .colab-df-convert {\n",
              "      background-color: #E8F0FE;\n",
              "      border: none;\n",
              "      border-radius: 50%;\n",
              "      cursor: pointer;\n",
              "      display: none;\n",
              "      fill: #1967D2;\n",
              "      height: 32px;\n",
              "      padding: 0 0 0 0;\n",
              "      width: 32px;\n",
              "    }\n",
              "\n",
              "    .colab-df-convert:hover {\n",
              "      background-color: #E2EBFA;\n",
              "      box-shadow: 0px 1px 2px rgba(60, 64, 67, 0.3), 0px 1px 3px 1px rgba(60, 64, 67, 0.15);\n",
              "      fill: #174EA6;\n",
              "    }\n",
              "\n",
              "    [theme=dark] .colab-df-convert {\n",
              "      background-color: #3B4455;\n",
              "      fill: #D2E3FC;\n",
              "    }\n",
              "\n",
              "    [theme=dark] .colab-df-convert:hover {\n",
              "      background-color: #434B5C;\n",
              "      box-shadow: 0px 1px 3px 1px rgba(0, 0, 0, 0.15);\n",
              "      filter: drop-shadow(0px 1px 2px rgba(0, 0, 0, 0.3));\n",
              "      fill: #FFFFFF;\n",
              "    }\n",
              "  </style>\n",
              "\n",
              "      <script>\n",
              "        const buttonEl =\n",
              "          document.querySelector('#df-f1742093-d89e-4245-b111-d62e789e1b2a button.colab-df-convert');\n",
              "        buttonEl.style.display =\n",
              "          google.colab.kernel.accessAllowed ? 'block' : 'none';\n",
              "\n",
              "        async function convertToInteractive(key) {\n",
              "          const element = document.querySelector('#df-f1742093-d89e-4245-b111-d62e789e1b2a');\n",
              "          const dataTable =\n",
              "            await google.colab.kernel.invokeFunction('convertToInteractive',\n",
              "                                                     [key], {});\n",
              "          if (!dataTable) return;\n",
              "\n",
              "          const docLinkHtml = 'Like what you see? Visit the ' +\n",
              "            '<a target=\"_blank\" href=https://colab.research.google.com/notebooks/data_table.ipynb>data table notebook</a>'\n",
              "            + ' to learn more about interactive tables.';\n",
              "          element.innerHTML = '';\n",
              "          dataTable['output_type'] = 'display_data';\n",
              "          await google.colab.output.renderOutput(dataTable, element);\n",
              "          const docLink = document.createElement('div');\n",
              "          docLink.innerHTML = docLinkHtml;\n",
              "          element.appendChild(docLink);\n",
              "        }\n",
              "      </script>\n",
              "    </div>\n",
              "  </div>\n",
              "  "
            ]
          },
          "metadata": {},
          "execution_count": 112
        }
      ]
    },
    {
      "cell_type": "code",
      "source": [
        "df['gill_spacing']=df['gill_spacing'].fillna(0)"
      ],
      "metadata": {
        "id": "wD85Yrr4ru7I"
      },
      "execution_count": 113,
      "outputs": []
    },
    {
      "cell_type": "code",
      "source": [
        "df['gill_spacing'] = df['gill_spacing'].replace({0: 'f'})"
      ],
      "metadata": {
        "id": "tjAFPsg32UPE"
      },
      "execution_count": 114,
      "outputs": []
    },
    {
      "cell_type": "code",
      "source": [
        "df2=df"
      ],
      "metadata": {
        "id": "bftEZlHm2UEc"
      },
      "execution_count": 142,
      "outputs": []
    },
    {
      "cell_type": "code",
      "source": [
        "cap_color_onehot=pd.get_dummies(df['cap_color'])"
      ],
      "metadata": {
        "id": "r424qlic2T0N"
      },
      "execution_count": 116,
      "outputs": []
    },
    {
      "cell_type": "code",
      "source": [
        "df2 = pd.concat([df2,cap_color_onehot ], axis=1)"
      ],
      "metadata": {
        "id": "N00U5-Ar2_qe"
      },
      "execution_count": 143,
      "outputs": []
    },
    {
      "cell_type": "code",
      "source": [
        "df['ring_type']=df['ring_type'].fillna(0).replace({0: 'f'})"
      ],
      "metadata": {
        "id": "nUKZ4hQw2_jc"
      },
      "execution_count": 119,
      "outputs": []
    },
    {
      "cell_type": "code",
      "source": [
        "df.ring_type.value_counts()"
      ],
      "metadata": {
        "colab": {
          "base_uri": "https://localhost:8080/"
        },
        "id": "36tOa_AO2_er",
        "outputId": "fd2961f7-7bd7-4e0d-dbed-4a419929ed9f"
      },
      "execution_count": 120,
      "outputs": [
        {
          "output_type": "execute_result",
          "data": {
            "text/plain": [
              "f    50832\n",
              "e     2435\n",
              "z     2118\n",
              "l     1427\n",
              "r     1399\n",
              "p     1265\n",
              "g     1240\n",
              "m      353\n",
              "Name: ring_type, dtype: int64"
            ]
          },
          "metadata": {},
          "execution_count": 120
        }
      ]
    },
    {
      "cell_type": "code",
      "source": [
        "df2.head()"
      ],
      "metadata": {
        "colab": {
          "base_uri": "https://localhost:8080/",
          "height": 288
        },
        "id": "FB3az0-N2_bm",
        "outputId": "17e18bc3-2f80-4dc3-d817-a03d7a01c5e9"
      },
      "execution_count": 144,
      "outputs": [
        {
          "output_type": "execute_result",
          "data": {
            "text/plain": [
              "   class  cap_diameter cap_shape cap_surface cap_color  does_bruise_or_bleed  \\\n",
              "0    0.0         15.26         x           g         o                   1.0   \n",
              "1    0.0         16.60         x           g         o                   1.0   \n",
              "2    0.0         14.07         x           g         o                   1.0   \n",
              "3    0.0         14.17         f           h         e                   1.0   \n",
              "4    0.0         14.64         x           h         o                   1.0   \n",
              "\n",
              "  gill_attachment gill_spacing gill_color  stem_height  stem-width stem-color  \\\n",
              "0               e            f          w        16.95       17.09          w   \n",
              "1               e            f          w        17.99       18.19          w   \n",
              "2               e            f          w        17.80       17.74          w   \n",
              "3               e            f          w        15.77       15.98          w   \n",
              "4               e            f          w        16.53       17.20          w   \n",
              "\n",
              "   veil_type  has_ring ring_type habitat season  b  e  g  k  l  n  o  p  r  u  \\\n",
              "0        1.0       1.0         g       d      w  0  0  0  0  0  0  1  0  0  0   \n",
              "1        1.0       1.0         g       d      u  0  0  0  0  0  0  1  0  0  0   \n",
              "2        1.0       1.0         g       d      w  0  0  0  0  0  0  1  0  0  0   \n",
              "3        1.0       1.0         p       d      w  0  1  0  0  0  0  0  0  0  0   \n",
              "4        1.0       1.0         p       d      w  0  0  0  0  0  0  1  0  0  0   \n",
              "\n",
              "   w  y  \n",
              "0  0  0  \n",
              "1  0  0  \n",
              "2  0  0  \n",
              "3  0  0  \n",
              "4  0  0  "
            ],
            "text/html": [
              "\n",
              "  <div id=\"df-62ab997b-2d22-4862-b3b5-0b4c4d1517f3\">\n",
              "    <div class=\"colab-df-container\">\n",
              "      <div>\n",
              "<style scoped>\n",
              "    .dataframe tbody tr th:only-of-type {\n",
              "        vertical-align: middle;\n",
              "    }\n",
              "\n",
              "    .dataframe tbody tr th {\n",
              "        vertical-align: top;\n",
              "    }\n",
              "\n",
              "    .dataframe thead th {\n",
              "        text-align: right;\n",
              "    }\n",
              "</style>\n",
              "<table border=\"1\" class=\"dataframe\">\n",
              "  <thead>\n",
              "    <tr style=\"text-align: right;\">\n",
              "      <th></th>\n",
              "      <th>class</th>\n",
              "      <th>cap_diameter</th>\n",
              "      <th>cap_shape</th>\n",
              "      <th>cap_surface</th>\n",
              "      <th>cap_color</th>\n",
              "      <th>does_bruise_or_bleed</th>\n",
              "      <th>gill_attachment</th>\n",
              "      <th>gill_spacing</th>\n",
              "      <th>gill_color</th>\n",
              "      <th>stem_height</th>\n",
              "      <th>stem-width</th>\n",
              "      <th>stem-color</th>\n",
              "      <th>veil_type</th>\n",
              "      <th>has_ring</th>\n",
              "      <th>ring_type</th>\n",
              "      <th>habitat</th>\n",
              "      <th>season</th>\n",
              "      <th>b</th>\n",
              "      <th>e</th>\n",
              "      <th>g</th>\n",
              "      <th>k</th>\n",
              "      <th>l</th>\n",
              "      <th>n</th>\n",
              "      <th>o</th>\n",
              "      <th>p</th>\n",
              "      <th>r</th>\n",
              "      <th>u</th>\n",
              "      <th>w</th>\n",
              "      <th>y</th>\n",
              "    </tr>\n",
              "  </thead>\n",
              "  <tbody>\n",
              "    <tr>\n",
              "      <th>0</th>\n",
              "      <td>0.0</td>\n",
              "      <td>15.26</td>\n",
              "      <td>x</td>\n",
              "      <td>g</td>\n",
              "      <td>o</td>\n",
              "      <td>1.0</td>\n",
              "      <td>e</td>\n",
              "      <td>f</td>\n",
              "      <td>w</td>\n",
              "      <td>16.95</td>\n",
              "      <td>17.09</td>\n",
              "      <td>w</td>\n",
              "      <td>1.0</td>\n",
              "      <td>1.0</td>\n",
              "      <td>g</td>\n",
              "      <td>d</td>\n",
              "      <td>w</td>\n",
              "      <td>0</td>\n",
              "      <td>0</td>\n",
              "      <td>0</td>\n",
              "      <td>0</td>\n",
              "      <td>0</td>\n",
              "      <td>0</td>\n",
              "      <td>1</td>\n",
              "      <td>0</td>\n",
              "      <td>0</td>\n",
              "      <td>0</td>\n",
              "      <td>0</td>\n",
              "      <td>0</td>\n",
              "    </tr>\n",
              "    <tr>\n",
              "      <th>1</th>\n",
              "      <td>0.0</td>\n",
              "      <td>16.60</td>\n",
              "      <td>x</td>\n",
              "      <td>g</td>\n",
              "      <td>o</td>\n",
              "      <td>1.0</td>\n",
              "      <td>e</td>\n",
              "      <td>f</td>\n",
              "      <td>w</td>\n",
              "      <td>17.99</td>\n",
              "      <td>18.19</td>\n",
              "      <td>w</td>\n",
              "      <td>1.0</td>\n",
              "      <td>1.0</td>\n",
              "      <td>g</td>\n",
              "      <td>d</td>\n",
              "      <td>u</td>\n",
              "      <td>0</td>\n",
              "      <td>0</td>\n",
              "      <td>0</td>\n",
              "      <td>0</td>\n",
              "      <td>0</td>\n",
              "      <td>0</td>\n",
              "      <td>1</td>\n",
              "      <td>0</td>\n",
              "      <td>0</td>\n",
              "      <td>0</td>\n",
              "      <td>0</td>\n",
              "      <td>0</td>\n",
              "    </tr>\n",
              "    <tr>\n",
              "      <th>2</th>\n",
              "      <td>0.0</td>\n",
              "      <td>14.07</td>\n",
              "      <td>x</td>\n",
              "      <td>g</td>\n",
              "      <td>o</td>\n",
              "      <td>1.0</td>\n",
              "      <td>e</td>\n",
              "      <td>f</td>\n",
              "      <td>w</td>\n",
              "      <td>17.80</td>\n",
              "      <td>17.74</td>\n",
              "      <td>w</td>\n",
              "      <td>1.0</td>\n",
              "      <td>1.0</td>\n",
              "      <td>g</td>\n",
              "      <td>d</td>\n",
              "      <td>w</td>\n",
              "      <td>0</td>\n",
              "      <td>0</td>\n",
              "      <td>0</td>\n",
              "      <td>0</td>\n",
              "      <td>0</td>\n",
              "      <td>0</td>\n",
              "      <td>1</td>\n",
              "      <td>0</td>\n",
              "      <td>0</td>\n",
              "      <td>0</td>\n",
              "      <td>0</td>\n",
              "      <td>0</td>\n",
              "    </tr>\n",
              "    <tr>\n",
              "      <th>3</th>\n",
              "      <td>0.0</td>\n",
              "      <td>14.17</td>\n",
              "      <td>f</td>\n",
              "      <td>h</td>\n",
              "      <td>e</td>\n",
              "      <td>1.0</td>\n",
              "      <td>e</td>\n",
              "      <td>f</td>\n",
              "      <td>w</td>\n",
              "      <td>15.77</td>\n",
              "      <td>15.98</td>\n",
              "      <td>w</td>\n",
              "      <td>1.0</td>\n",
              "      <td>1.0</td>\n",
              "      <td>p</td>\n",
              "      <td>d</td>\n",
              "      <td>w</td>\n",
              "      <td>0</td>\n",
              "      <td>1</td>\n",
              "      <td>0</td>\n",
              "      <td>0</td>\n",
              "      <td>0</td>\n",
              "      <td>0</td>\n",
              "      <td>0</td>\n",
              "      <td>0</td>\n",
              "      <td>0</td>\n",
              "      <td>0</td>\n",
              "      <td>0</td>\n",
              "      <td>0</td>\n",
              "    </tr>\n",
              "    <tr>\n",
              "      <th>4</th>\n",
              "      <td>0.0</td>\n",
              "      <td>14.64</td>\n",
              "      <td>x</td>\n",
              "      <td>h</td>\n",
              "      <td>o</td>\n",
              "      <td>1.0</td>\n",
              "      <td>e</td>\n",
              "      <td>f</td>\n",
              "      <td>w</td>\n",
              "      <td>16.53</td>\n",
              "      <td>17.20</td>\n",
              "      <td>w</td>\n",
              "      <td>1.0</td>\n",
              "      <td>1.0</td>\n",
              "      <td>p</td>\n",
              "      <td>d</td>\n",
              "      <td>w</td>\n",
              "      <td>0</td>\n",
              "      <td>0</td>\n",
              "      <td>0</td>\n",
              "      <td>0</td>\n",
              "      <td>0</td>\n",
              "      <td>0</td>\n",
              "      <td>1</td>\n",
              "      <td>0</td>\n",
              "      <td>0</td>\n",
              "      <td>0</td>\n",
              "      <td>0</td>\n",
              "      <td>0</td>\n",
              "    </tr>\n",
              "  </tbody>\n",
              "</table>\n",
              "</div>\n",
              "      <button class=\"colab-df-convert\" onclick=\"convertToInteractive('df-62ab997b-2d22-4862-b3b5-0b4c4d1517f3')\"\n",
              "              title=\"Convert this dataframe to an interactive table.\"\n",
              "              style=\"display:none;\">\n",
              "        \n",
              "  <svg xmlns=\"http://www.w3.org/2000/svg\" height=\"24px\"viewBox=\"0 0 24 24\"\n",
              "       width=\"24px\">\n",
              "    <path d=\"M0 0h24v24H0V0z\" fill=\"none\"/>\n",
              "    <path d=\"M18.56 5.44l.94 2.06.94-2.06 2.06-.94-2.06-.94-.94-2.06-.94 2.06-2.06.94zm-11 1L8.5 8.5l.94-2.06 2.06-.94-2.06-.94L8.5 2.5l-.94 2.06-2.06.94zm10 10l.94 2.06.94-2.06 2.06-.94-2.06-.94-.94-2.06-.94 2.06-2.06.94z\"/><path d=\"M17.41 7.96l-1.37-1.37c-.4-.4-.92-.59-1.43-.59-.52 0-1.04.2-1.43.59L10.3 9.45l-7.72 7.72c-.78.78-.78 2.05 0 2.83L4 21.41c.39.39.9.59 1.41.59.51 0 1.02-.2 1.41-.59l7.78-7.78 2.81-2.81c.8-.78.8-2.07 0-2.86zM5.41 20L4 18.59l7.72-7.72 1.47 1.35L5.41 20z\"/>\n",
              "  </svg>\n",
              "      </button>\n",
              "      \n",
              "  <style>\n",
              "    .colab-df-container {\n",
              "      display:flex;\n",
              "      flex-wrap:wrap;\n",
              "      gap: 12px;\n",
              "    }\n",
              "\n",
              "    .colab-df-convert {\n",
              "      background-color: #E8F0FE;\n",
              "      border: none;\n",
              "      border-radius: 50%;\n",
              "      cursor: pointer;\n",
              "      display: none;\n",
              "      fill: #1967D2;\n",
              "      height: 32px;\n",
              "      padding: 0 0 0 0;\n",
              "      width: 32px;\n",
              "    }\n",
              "\n",
              "    .colab-df-convert:hover {\n",
              "      background-color: #E2EBFA;\n",
              "      box-shadow: 0px 1px 2px rgba(60, 64, 67, 0.3), 0px 1px 3px 1px rgba(60, 64, 67, 0.15);\n",
              "      fill: #174EA6;\n",
              "    }\n",
              "\n",
              "    [theme=dark] .colab-df-convert {\n",
              "      background-color: #3B4455;\n",
              "      fill: #D2E3FC;\n",
              "    }\n",
              "\n",
              "    [theme=dark] .colab-df-convert:hover {\n",
              "      background-color: #434B5C;\n",
              "      box-shadow: 0px 1px 3px 1px rgba(0, 0, 0, 0.15);\n",
              "      filter: drop-shadow(0px 1px 2px rgba(0, 0, 0, 0.3));\n",
              "      fill: #FFFFFF;\n",
              "    }\n",
              "  </style>\n",
              "\n",
              "      <script>\n",
              "        const buttonEl =\n",
              "          document.querySelector('#df-62ab997b-2d22-4862-b3b5-0b4c4d1517f3 button.colab-df-convert');\n",
              "        buttonEl.style.display =\n",
              "          google.colab.kernel.accessAllowed ? 'block' : 'none';\n",
              "\n",
              "        async function convertToInteractive(key) {\n",
              "          const element = document.querySelector('#df-62ab997b-2d22-4862-b3b5-0b4c4d1517f3');\n",
              "          const dataTable =\n",
              "            await google.colab.kernel.invokeFunction('convertToInteractive',\n",
              "                                                     [key], {});\n",
              "          if (!dataTable) return;\n",
              "\n",
              "          const docLinkHtml = 'Like what you see? Visit the ' +\n",
              "            '<a target=\"_blank\" href=https://colab.research.google.com/notebooks/data_table.ipynb>data table notebook</a>'\n",
              "            + ' to learn more about interactive tables.';\n",
              "          element.innerHTML = '';\n",
              "          dataTable['output_type'] = 'display_data';\n",
              "          await google.colab.output.renderOutput(dataTable, element);\n",
              "          const docLink = document.createElement('div');\n",
              "          docLink.innerHTML = docLinkHtml;\n",
              "          element.appendChild(docLink);\n",
              "        }\n",
              "      </script>\n",
              "    </div>\n",
              "  </div>\n",
              "  "
            ]
          },
          "metadata": {},
          "execution_count": 144
        }
      ]
    },
    {
      "cell_type": "code",
      "source": [
        "df.info()"
      ],
      "metadata": {
        "colab": {
          "base_uri": "https://localhost:8080/"
        },
        "id": "2GkON6dS2_Rn",
        "outputId": "9f098b3e-3f00-4613-a30d-ac850570d421"
      },
      "execution_count": 129,
      "outputs": [
        {
          "output_type": "stream",
          "name": "stdout",
          "text": [
            "<class 'pandas.core.frame.DataFrame'>\n",
            "RangeIndex: 61069 entries, 0 to 61068\n",
            "Data columns (total 19 columns):\n",
            " #   Column                Non-Null Count  Dtype  \n",
            "---  ------                --------------  -----  \n",
            " 0   class                 61069 non-null  float64\n",
            " 1   cap_diameter          61069 non-null  float64\n",
            " 2   cap_shape             61069 non-null  object \n",
            " 3   cap_surface           46949 non-null  object \n",
            " 4   cap_color             61069 non-null  object \n",
            " 5   does_bruise_or_bleed  61069 non-null  float64\n",
            " 6   gill_attachment       51185 non-null  object \n",
            " 7   gill_spacing          61069 non-null  object \n",
            " 8   gill_color            61069 non-null  object \n",
            " 9   stem_height           61069 non-null  float64\n",
            " 10  stem-width            61069 non-null  float64\n",
            " 11  stem_surface          22945 non-null  object \n",
            " 12  stem-color            61069 non-null  object \n",
            " 13  veil_type             61069 non-null  float64\n",
            " 14  veil-color            7413 non-null   object \n",
            " 15  has_ring              61069 non-null  float64\n",
            " 16  ring_type             61069 non-null  object \n",
            " 17  habitat               61069 non-null  object \n",
            " 18  season                61069 non-null  object \n",
            "dtypes: float64(7), object(12)\n",
            "memory usage: 8.9+ MB\n"
          ]
        }
      ]
    },
    {
      "cell_type": "code",
      "source": [
        "df.drop(['veil-color', 'stem_surface'], axis=1, inplace=True)"
      ],
      "metadata": {
        "id": "e05xmCRl8-x7"
      },
      "execution_count": 130,
      "outputs": []
    },
    {
      "cell_type": "code",
      "source": [
        "set(df['habitat'])"
      ],
      "metadata": {
        "colab": {
          "base_uri": "https://localhost:8080/"
        },
        "id": "UIDMhMca9MKE",
        "outputId": "6a351b5f-7efe-41b4-d7cd-460d6f017053"
      },
      "execution_count": 131,
      "outputs": [
        {
          "output_type": "execute_result",
          "data": {
            "text/plain": [
              "{'d', 'g', 'h', 'l', 'm', 'p', 'u', 'w'}"
            ]
          },
          "metadata": {},
          "execution_count": 131
        }
      ]
    },
    {
      "cell_type": "code",
      "source": [
        "set(df['season'])"
      ],
      "metadata": {
        "colab": {
          "base_uri": "https://localhost:8080/"
        },
        "id": "dWNx3D559reK",
        "outputId": "2e8a0194-0e8e-4cd2-94a9-6b8b34cb93d9"
      },
      "execution_count": 132,
      "outputs": [
        {
          "output_type": "execute_result",
          "data": {
            "text/plain": [
              "{'a', 's', 'u', 'w'}"
            ]
          },
          "metadata": {},
          "execution_count": 132
        }
      ]
    },
    {
      "cell_type": "code",
      "source": [
        "df.season.value_counts()"
      ],
      "metadata": {
        "colab": {
          "base_uri": "https://localhost:8080/"
        },
        "id": "9pDzBb_6956z",
        "outputId": "b9ff725e-98ea-4330-ca2f-6ca7db6392a2"
      },
      "execution_count": 133,
      "outputs": [
        {
          "output_type": "execute_result",
          "data": {
            "text/plain": [
              "a    30177\n",
              "u    22898\n",
              "w     5267\n",
              "s     2727\n",
              "Name: season, dtype: int64"
            ]
          },
          "metadata": {},
          "execution_count": 133
        }
      ]
    },
    {
      "cell_type": "code",
      "source": [
        "seson_onehot=pd.get_dummies(df['season'])"
      ],
      "metadata": {
        "id": "KdX628ra-PdN"
      },
      "execution_count": 134,
      "outputs": []
    },
    {
      "cell_type": "code",
      "source": [
        "df2 = pd.concat([df2,seson_onehot ], axis=1)"
      ],
      "metadata": {
        "id": "AeFcvrzI-QG2"
      },
      "execution_count": 145,
      "outputs": []
    },
    {
      "cell_type": "code",
      "source": [
        "df2=df2.dropna(subset=['cap_surface'])#zmniejszenie zbioru"
      ],
      "metadata": {
        "id": "ojNld5w1-Qwv"
      },
      "execution_count": 139,
      "outputs": []
    },
    {
      "cell_type": "code",
      "source": [
        "habitat_onehot=pd.get_dummies(df['habitat'])"
      ],
      "metadata": {
        "id": "PjKtyTSW-RNH"
      },
      "execution_count": 138,
      "outputs": []
    },
    {
      "cell_type": "code",
      "source": [
        "df2 = pd.concat([df2,habitat_onehot ], axis=1)"
      ],
      "metadata": {
        "id": "OwDPx-JTA0w4"
      },
      "execution_count": 146,
      "outputs": []
    },
    {
      "cell_type": "code",
      "source": [
        "df2"
      ],
      "metadata": {
        "colab": {
          "base_uri": "https://localhost:8080/",
          "height": 505
        },
        "id": "jhO9MKUsBGUQ",
        "outputId": "71c06324-a52e-47ce-9f94-1f884358c899"
      },
      "execution_count": 147,
      "outputs": [
        {
          "output_type": "execute_result",
          "data": {
            "text/plain": [
              "       class  cap_diameter cap_shape cap_surface cap_color  \\\n",
              "0        0.0         15.26         x           g         o   \n",
              "1        0.0         16.60         x           g         o   \n",
              "2        0.0         14.07         x           g         o   \n",
              "3        0.0         14.17         f           h         e   \n",
              "4        0.0         14.64         x           h         o   \n",
              "...      ...           ...       ...         ...       ...   \n",
              "61064    0.0          1.18         s           s         y   \n",
              "61065    0.0          1.27         f           s         y   \n",
              "61066    0.0          1.27         s           s         y   \n",
              "61067    0.0          1.24         f           s         y   \n",
              "61068    0.0          1.17         s           s         y   \n",
              "\n",
              "       does_bruise_or_bleed gill_attachment gill_spacing gill_color  \\\n",
              "0                       1.0               e            f          w   \n",
              "1                       1.0               e            f          w   \n",
              "2                       1.0               e            f          w   \n",
              "3                       1.0               e            f          w   \n",
              "4                       1.0               e            f          w   \n",
              "...                     ...             ...          ...        ...   \n",
              "61064                   1.0               f            f          f   \n",
              "61065                   1.0               f            f          f   \n",
              "61066                   1.0               f            f          f   \n",
              "61067                   1.0               f            f          f   \n",
              "61068                   1.0               f            f          f   \n",
              "\n",
              "       stem_height  stem-width stem-color  veil_type  has_ring ring_type  \\\n",
              "0            16.95       17.09          w        1.0       1.0         g   \n",
              "1            17.99       18.19          w        1.0       1.0         g   \n",
              "2            17.80       17.74          w        1.0       1.0         g   \n",
              "3            15.77       15.98          w        1.0       1.0         p   \n",
              "4            16.53       17.20          w        1.0       1.0         p   \n",
              "...            ...         ...        ...        ...       ...       ...   \n",
              "61064         3.93        6.22          y        0.0       0.0         f   \n",
              "61065         3.18        5.43          y        0.0       0.0         f   \n",
              "61066         3.86        6.37          y        0.0       0.0         f   \n",
              "61067         3.56        5.44          y        0.0       0.0         f   \n",
              "61068         3.25        5.45          y        0.0       0.0         f   \n",
              "\n",
              "      habitat season  b  e  g  k  l  n  o  p  r  u  w  y  a  s  u  w  d  g  h  \\\n",
              "0           d      w  0  0  0  0  0  0  1  0  0  0  0  0  0  0  0  1  1  0  0   \n",
              "1           d      u  0  0  0  0  0  0  1  0  0  0  0  0  0  0  1  0  1  0  0   \n",
              "2           d      w  0  0  0  0  0  0  1  0  0  0  0  0  0  0  0  1  1  0  0   \n",
              "3           d      w  0  1  0  0  0  0  0  0  0  0  0  0  0  0  0  1  1  0  0   \n",
              "4           d      w  0  0  0  0  0  0  1  0  0  0  0  0  0  0  0  1  1  0  0   \n",
              "...       ...    ... .. .. .. .. .. .. .. .. .. .. .. .. .. .. .. .. .. .. ..   \n",
              "61064       d      a  0  0  0  0  0  0  0  0  0  0  0  1  1  0  0  0  1  0  0   \n",
              "61065       d      a  0  0  0  0  0  0  0  0  0  0  0  1  1  0  0  0  1  0  0   \n",
              "61066       d      u  0  0  0  0  0  0  0  0  0  0  0  1  0  0  1  0  1  0  0   \n",
              "61067       d      u  0  0  0  0  0  0  0  0  0  0  0  1  0  0  1  0  1  0  0   \n",
              "61068       d      u  0  0  0  0  0  0  0  0  0  0  0  1  0  0  1  0  1  0  0   \n",
              "\n",
              "       l  m  p  u  w  \n",
              "0      0  0  0  0  0  \n",
              "1      0  0  0  0  0  \n",
              "2      0  0  0  0  0  \n",
              "3      0  0  0  0  0  \n",
              "4      0  0  0  0  0  \n",
              "...   .. .. .. .. ..  \n",
              "61064  0  0  0  0  0  \n",
              "61065  0  0  0  0  0  \n",
              "61066  0  0  0  0  0  \n",
              "61067  0  0  0  0  0  \n",
              "61068  0  0  0  0  0  \n",
              "\n",
              "[61069 rows x 41 columns]"
            ],
            "text/html": [
              "\n",
              "  <div id=\"df-e5a1a615-7a06-4174-b918-a8c949c77b09\">\n",
              "    <div class=\"colab-df-container\">\n",
              "      <div>\n",
              "<style scoped>\n",
              "    .dataframe tbody tr th:only-of-type {\n",
              "        vertical-align: middle;\n",
              "    }\n",
              "\n",
              "    .dataframe tbody tr th {\n",
              "        vertical-align: top;\n",
              "    }\n",
              "\n",
              "    .dataframe thead th {\n",
              "        text-align: right;\n",
              "    }\n",
              "</style>\n",
              "<table border=\"1\" class=\"dataframe\">\n",
              "  <thead>\n",
              "    <tr style=\"text-align: right;\">\n",
              "      <th></th>\n",
              "      <th>class</th>\n",
              "      <th>cap_diameter</th>\n",
              "      <th>cap_shape</th>\n",
              "      <th>cap_surface</th>\n",
              "      <th>cap_color</th>\n",
              "      <th>does_bruise_or_bleed</th>\n",
              "      <th>gill_attachment</th>\n",
              "      <th>gill_spacing</th>\n",
              "      <th>gill_color</th>\n",
              "      <th>stem_height</th>\n",
              "      <th>stem-width</th>\n",
              "      <th>stem-color</th>\n",
              "      <th>veil_type</th>\n",
              "      <th>has_ring</th>\n",
              "      <th>ring_type</th>\n",
              "      <th>habitat</th>\n",
              "      <th>season</th>\n",
              "      <th>b</th>\n",
              "      <th>e</th>\n",
              "      <th>g</th>\n",
              "      <th>k</th>\n",
              "      <th>l</th>\n",
              "      <th>n</th>\n",
              "      <th>o</th>\n",
              "      <th>p</th>\n",
              "      <th>r</th>\n",
              "      <th>u</th>\n",
              "      <th>w</th>\n",
              "      <th>y</th>\n",
              "      <th>a</th>\n",
              "      <th>s</th>\n",
              "      <th>u</th>\n",
              "      <th>w</th>\n",
              "      <th>d</th>\n",
              "      <th>g</th>\n",
              "      <th>h</th>\n",
              "      <th>l</th>\n",
              "      <th>m</th>\n",
              "      <th>p</th>\n",
              "      <th>u</th>\n",
              "      <th>w</th>\n",
              "    </tr>\n",
              "  </thead>\n",
              "  <tbody>\n",
              "    <tr>\n",
              "      <th>0</th>\n",
              "      <td>0.0</td>\n",
              "      <td>15.26</td>\n",
              "      <td>x</td>\n",
              "      <td>g</td>\n",
              "      <td>o</td>\n",
              "      <td>1.0</td>\n",
              "      <td>e</td>\n",
              "      <td>f</td>\n",
              "      <td>w</td>\n",
              "      <td>16.95</td>\n",
              "      <td>17.09</td>\n",
              "      <td>w</td>\n",
              "      <td>1.0</td>\n",
              "      <td>1.0</td>\n",
              "      <td>g</td>\n",
              "      <td>d</td>\n",
              "      <td>w</td>\n",
              "      <td>0</td>\n",
              "      <td>0</td>\n",
              "      <td>0</td>\n",
              "      <td>0</td>\n",
              "      <td>0</td>\n",
              "      <td>0</td>\n",
              "      <td>1</td>\n",
              "      <td>0</td>\n",
              "      <td>0</td>\n",
              "      <td>0</td>\n",
              "      <td>0</td>\n",
              "      <td>0</td>\n",
              "      <td>0</td>\n",
              "      <td>0</td>\n",
              "      <td>0</td>\n",
              "      <td>1</td>\n",
              "      <td>1</td>\n",
              "      <td>0</td>\n",
              "      <td>0</td>\n",
              "      <td>0</td>\n",
              "      <td>0</td>\n",
              "      <td>0</td>\n",
              "      <td>0</td>\n",
              "      <td>0</td>\n",
              "    </tr>\n",
              "    <tr>\n",
              "      <th>1</th>\n",
              "      <td>0.0</td>\n",
              "      <td>16.60</td>\n",
              "      <td>x</td>\n",
              "      <td>g</td>\n",
              "      <td>o</td>\n",
              "      <td>1.0</td>\n",
              "      <td>e</td>\n",
              "      <td>f</td>\n",
              "      <td>w</td>\n",
              "      <td>17.99</td>\n",
              "      <td>18.19</td>\n",
              "      <td>w</td>\n",
              "      <td>1.0</td>\n",
              "      <td>1.0</td>\n",
              "      <td>g</td>\n",
              "      <td>d</td>\n",
              "      <td>u</td>\n",
              "      <td>0</td>\n",
              "      <td>0</td>\n",
              "      <td>0</td>\n",
              "      <td>0</td>\n",
              "      <td>0</td>\n",
              "      <td>0</td>\n",
              "      <td>1</td>\n",
              "      <td>0</td>\n",
              "      <td>0</td>\n",
              "      <td>0</td>\n",
              "      <td>0</td>\n",
              "      <td>0</td>\n",
              "      <td>0</td>\n",
              "      <td>0</td>\n",
              "      <td>1</td>\n",
              "      <td>0</td>\n",
              "      <td>1</td>\n",
              "      <td>0</td>\n",
              "      <td>0</td>\n",
              "      <td>0</td>\n",
              "      <td>0</td>\n",
              "      <td>0</td>\n",
              "      <td>0</td>\n",
              "      <td>0</td>\n",
              "    </tr>\n",
              "    <tr>\n",
              "      <th>2</th>\n",
              "      <td>0.0</td>\n",
              "      <td>14.07</td>\n",
              "      <td>x</td>\n",
              "      <td>g</td>\n",
              "      <td>o</td>\n",
              "      <td>1.0</td>\n",
              "      <td>e</td>\n",
              "      <td>f</td>\n",
              "      <td>w</td>\n",
              "      <td>17.80</td>\n",
              "      <td>17.74</td>\n",
              "      <td>w</td>\n",
              "      <td>1.0</td>\n",
              "      <td>1.0</td>\n",
              "      <td>g</td>\n",
              "      <td>d</td>\n",
              "      <td>w</td>\n",
              "      <td>0</td>\n",
              "      <td>0</td>\n",
              "      <td>0</td>\n",
              "      <td>0</td>\n",
              "      <td>0</td>\n",
              "      <td>0</td>\n",
              "      <td>1</td>\n",
              "      <td>0</td>\n",
              "      <td>0</td>\n",
              "      <td>0</td>\n",
              "      <td>0</td>\n",
              "      <td>0</td>\n",
              "      <td>0</td>\n",
              "      <td>0</td>\n",
              "      <td>0</td>\n",
              "      <td>1</td>\n",
              "      <td>1</td>\n",
              "      <td>0</td>\n",
              "      <td>0</td>\n",
              "      <td>0</td>\n",
              "      <td>0</td>\n",
              "      <td>0</td>\n",
              "      <td>0</td>\n",
              "      <td>0</td>\n",
              "    </tr>\n",
              "    <tr>\n",
              "      <th>3</th>\n",
              "      <td>0.0</td>\n",
              "      <td>14.17</td>\n",
              "      <td>f</td>\n",
              "      <td>h</td>\n",
              "      <td>e</td>\n",
              "      <td>1.0</td>\n",
              "      <td>e</td>\n",
              "      <td>f</td>\n",
              "      <td>w</td>\n",
              "      <td>15.77</td>\n",
              "      <td>15.98</td>\n",
              "      <td>w</td>\n",
              "      <td>1.0</td>\n",
              "      <td>1.0</td>\n",
              "      <td>p</td>\n",
              "      <td>d</td>\n",
              "      <td>w</td>\n",
              "      <td>0</td>\n",
              "      <td>1</td>\n",
              "      <td>0</td>\n",
              "      <td>0</td>\n",
              "      <td>0</td>\n",
              "      <td>0</td>\n",
              "      <td>0</td>\n",
              "      <td>0</td>\n",
              "      <td>0</td>\n",
              "      <td>0</td>\n",
              "      <td>0</td>\n",
              "      <td>0</td>\n",
              "      <td>0</td>\n",
              "      <td>0</td>\n",
              "      <td>0</td>\n",
              "      <td>1</td>\n",
              "      <td>1</td>\n",
              "      <td>0</td>\n",
              "      <td>0</td>\n",
              "      <td>0</td>\n",
              "      <td>0</td>\n",
              "      <td>0</td>\n",
              "      <td>0</td>\n",
              "      <td>0</td>\n",
              "    </tr>\n",
              "    <tr>\n",
              "      <th>4</th>\n",
              "      <td>0.0</td>\n",
              "      <td>14.64</td>\n",
              "      <td>x</td>\n",
              "      <td>h</td>\n",
              "      <td>o</td>\n",
              "      <td>1.0</td>\n",
              "      <td>e</td>\n",
              "      <td>f</td>\n",
              "      <td>w</td>\n",
              "      <td>16.53</td>\n",
              "      <td>17.20</td>\n",
              "      <td>w</td>\n",
              "      <td>1.0</td>\n",
              "      <td>1.0</td>\n",
              "      <td>p</td>\n",
              "      <td>d</td>\n",
              "      <td>w</td>\n",
              "      <td>0</td>\n",
              "      <td>0</td>\n",
              "      <td>0</td>\n",
              "      <td>0</td>\n",
              "      <td>0</td>\n",
              "      <td>0</td>\n",
              "      <td>1</td>\n",
              "      <td>0</td>\n",
              "      <td>0</td>\n",
              "      <td>0</td>\n",
              "      <td>0</td>\n",
              "      <td>0</td>\n",
              "      <td>0</td>\n",
              "      <td>0</td>\n",
              "      <td>0</td>\n",
              "      <td>1</td>\n",
              "      <td>1</td>\n",
              "      <td>0</td>\n",
              "      <td>0</td>\n",
              "      <td>0</td>\n",
              "      <td>0</td>\n",
              "      <td>0</td>\n",
              "      <td>0</td>\n",
              "      <td>0</td>\n",
              "    </tr>\n",
              "    <tr>\n",
              "      <th>...</th>\n",
              "      <td>...</td>\n",
              "      <td>...</td>\n",
              "      <td>...</td>\n",
              "      <td>...</td>\n",
              "      <td>...</td>\n",
              "      <td>...</td>\n",
              "      <td>...</td>\n",
              "      <td>...</td>\n",
              "      <td>...</td>\n",
              "      <td>...</td>\n",
              "      <td>...</td>\n",
              "      <td>...</td>\n",
              "      <td>...</td>\n",
              "      <td>...</td>\n",
              "      <td>...</td>\n",
              "      <td>...</td>\n",
              "      <td>...</td>\n",
              "      <td>...</td>\n",
              "      <td>...</td>\n",
              "      <td>...</td>\n",
              "      <td>...</td>\n",
              "      <td>...</td>\n",
              "      <td>...</td>\n",
              "      <td>...</td>\n",
              "      <td>...</td>\n",
              "      <td>...</td>\n",
              "      <td>...</td>\n",
              "      <td>...</td>\n",
              "      <td>...</td>\n",
              "      <td>...</td>\n",
              "      <td>...</td>\n",
              "      <td>...</td>\n",
              "      <td>...</td>\n",
              "      <td>...</td>\n",
              "      <td>...</td>\n",
              "      <td>...</td>\n",
              "      <td>...</td>\n",
              "      <td>...</td>\n",
              "      <td>...</td>\n",
              "      <td>...</td>\n",
              "      <td>...</td>\n",
              "    </tr>\n",
              "    <tr>\n",
              "      <th>61064</th>\n",
              "      <td>0.0</td>\n",
              "      <td>1.18</td>\n",
              "      <td>s</td>\n",
              "      <td>s</td>\n",
              "      <td>y</td>\n",
              "      <td>1.0</td>\n",
              "      <td>f</td>\n",
              "      <td>f</td>\n",
              "      <td>f</td>\n",
              "      <td>3.93</td>\n",
              "      <td>6.22</td>\n",
              "      <td>y</td>\n",
              "      <td>0.0</td>\n",
              "      <td>0.0</td>\n",
              "      <td>f</td>\n",
              "      <td>d</td>\n",
              "      <td>a</td>\n",
              "      <td>0</td>\n",
              "      <td>0</td>\n",
              "      <td>0</td>\n",
              "      <td>0</td>\n",
              "      <td>0</td>\n",
              "      <td>0</td>\n",
              "      <td>0</td>\n",
              "      <td>0</td>\n",
              "      <td>0</td>\n",
              "      <td>0</td>\n",
              "      <td>0</td>\n",
              "      <td>1</td>\n",
              "      <td>1</td>\n",
              "      <td>0</td>\n",
              "      <td>0</td>\n",
              "      <td>0</td>\n",
              "      <td>1</td>\n",
              "      <td>0</td>\n",
              "      <td>0</td>\n",
              "      <td>0</td>\n",
              "      <td>0</td>\n",
              "      <td>0</td>\n",
              "      <td>0</td>\n",
              "      <td>0</td>\n",
              "    </tr>\n",
              "    <tr>\n",
              "      <th>61065</th>\n",
              "      <td>0.0</td>\n",
              "      <td>1.27</td>\n",
              "      <td>f</td>\n",
              "      <td>s</td>\n",
              "      <td>y</td>\n",
              "      <td>1.0</td>\n",
              "      <td>f</td>\n",
              "      <td>f</td>\n",
              "      <td>f</td>\n",
              "      <td>3.18</td>\n",
              "      <td>5.43</td>\n",
              "      <td>y</td>\n",
              "      <td>0.0</td>\n",
              "      <td>0.0</td>\n",
              "      <td>f</td>\n",
              "      <td>d</td>\n",
              "      <td>a</td>\n",
              "      <td>0</td>\n",
              "      <td>0</td>\n",
              "      <td>0</td>\n",
              "      <td>0</td>\n",
              "      <td>0</td>\n",
              "      <td>0</td>\n",
              "      <td>0</td>\n",
              "      <td>0</td>\n",
              "      <td>0</td>\n",
              "      <td>0</td>\n",
              "      <td>0</td>\n",
              "      <td>1</td>\n",
              "      <td>1</td>\n",
              "      <td>0</td>\n",
              "      <td>0</td>\n",
              "      <td>0</td>\n",
              "      <td>1</td>\n",
              "      <td>0</td>\n",
              "      <td>0</td>\n",
              "      <td>0</td>\n",
              "      <td>0</td>\n",
              "      <td>0</td>\n",
              "      <td>0</td>\n",
              "      <td>0</td>\n",
              "    </tr>\n",
              "    <tr>\n",
              "      <th>61066</th>\n",
              "      <td>0.0</td>\n",
              "      <td>1.27</td>\n",
              "      <td>s</td>\n",
              "      <td>s</td>\n",
              "      <td>y</td>\n",
              "      <td>1.0</td>\n",
              "      <td>f</td>\n",
              "      <td>f</td>\n",
              "      <td>f</td>\n",
              "      <td>3.86</td>\n",
              "      <td>6.37</td>\n",
              "      <td>y</td>\n",
              "      <td>0.0</td>\n",
              "      <td>0.0</td>\n",
              "      <td>f</td>\n",
              "      <td>d</td>\n",
              "      <td>u</td>\n",
              "      <td>0</td>\n",
              "      <td>0</td>\n",
              "      <td>0</td>\n",
              "      <td>0</td>\n",
              "      <td>0</td>\n",
              "      <td>0</td>\n",
              "      <td>0</td>\n",
              "      <td>0</td>\n",
              "      <td>0</td>\n",
              "      <td>0</td>\n",
              "      <td>0</td>\n",
              "      <td>1</td>\n",
              "      <td>0</td>\n",
              "      <td>0</td>\n",
              "      <td>1</td>\n",
              "      <td>0</td>\n",
              "      <td>1</td>\n",
              "      <td>0</td>\n",
              "      <td>0</td>\n",
              "      <td>0</td>\n",
              "      <td>0</td>\n",
              "      <td>0</td>\n",
              "      <td>0</td>\n",
              "      <td>0</td>\n",
              "    </tr>\n",
              "    <tr>\n",
              "      <th>61067</th>\n",
              "      <td>0.0</td>\n",
              "      <td>1.24</td>\n",
              "      <td>f</td>\n",
              "      <td>s</td>\n",
              "      <td>y</td>\n",
              "      <td>1.0</td>\n",
              "      <td>f</td>\n",
              "      <td>f</td>\n",
              "      <td>f</td>\n",
              "      <td>3.56</td>\n",
              "      <td>5.44</td>\n",
              "      <td>y</td>\n",
              "      <td>0.0</td>\n",
              "      <td>0.0</td>\n",
              "      <td>f</td>\n",
              "      <td>d</td>\n",
              "      <td>u</td>\n",
              "      <td>0</td>\n",
              "      <td>0</td>\n",
              "      <td>0</td>\n",
              "      <td>0</td>\n",
              "      <td>0</td>\n",
              "      <td>0</td>\n",
              "      <td>0</td>\n",
              "      <td>0</td>\n",
              "      <td>0</td>\n",
              "      <td>0</td>\n",
              "      <td>0</td>\n",
              "      <td>1</td>\n",
              "      <td>0</td>\n",
              "      <td>0</td>\n",
              "      <td>1</td>\n",
              "      <td>0</td>\n",
              "      <td>1</td>\n",
              "      <td>0</td>\n",
              "      <td>0</td>\n",
              "      <td>0</td>\n",
              "      <td>0</td>\n",
              "      <td>0</td>\n",
              "      <td>0</td>\n",
              "      <td>0</td>\n",
              "    </tr>\n",
              "    <tr>\n",
              "      <th>61068</th>\n",
              "      <td>0.0</td>\n",
              "      <td>1.17</td>\n",
              "      <td>s</td>\n",
              "      <td>s</td>\n",
              "      <td>y</td>\n",
              "      <td>1.0</td>\n",
              "      <td>f</td>\n",
              "      <td>f</td>\n",
              "      <td>f</td>\n",
              "      <td>3.25</td>\n",
              "      <td>5.45</td>\n",
              "      <td>y</td>\n",
              "      <td>0.0</td>\n",
              "      <td>0.0</td>\n",
              "      <td>f</td>\n",
              "      <td>d</td>\n",
              "      <td>u</td>\n",
              "      <td>0</td>\n",
              "      <td>0</td>\n",
              "      <td>0</td>\n",
              "      <td>0</td>\n",
              "      <td>0</td>\n",
              "      <td>0</td>\n",
              "      <td>0</td>\n",
              "      <td>0</td>\n",
              "      <td>0</td>\n",
              "      <td>0</td>\n",
              "      <td>0</td>\n",
              "      <td>1</td>\n",
              "      <td>0</td>\n",
              "      <td>0</td>\n",
              "      <td>1</td>\n",
              "      <td>0</td>\n",
              "      <td>1</td>\n",
              "      <td>0</td>\n",
              "      <td>0</td>\n",
              "      <td>0</td>\n",
              "      <td>0</td>\n",
              "      <td>0</td>\n",
              "      <td>0</td>\n",
              "      <td>0</td>\n",
              "    </tr>\n",
              "  </tbody>\n",
              "</table>\n",
              "<p>61069 rows × 41 columns</p>\n",
              "</div>\n",
              "      <button class=\"colab-df-convert\" onclick=\"convertToInteractive('df-e5a1a615-7a06-4174-b918-a8c949c77b09')\"\n",
              "              title=\"Convert this dataframe to an interactive table.\"\n",
              "              style=\"display:none;\">\n",
              "        \n",
              "  <svg xmlns=\"http://www.w3.org/2000/svg\" height=\"24px\"viewBox=\"0 0 24 24\"\n",
              "       width=\"24px\">\n",
              "    <path d=\"M0 0h24v24H0V0z\" fill=\"none\"/>\n",
              "    <path d=\"M18.56 5.44l.94 2.06.94-2.06 2.06-.94-2.06-.94-.94-2.06-.94 2.06-2.06.94zm-11 1L8.5 8.5l.94-2.06 2.06-.94-2.06-.94L8.5 2.5l-.94 2.06-2.06.94zm10 10l.94 2.06.94-2.06 2.06-.94-2.06-.94-.94-2.06-.94 2.06-2.06.94z\"/><path d=\"M17.41 7.96l-1.37-1.37c-.4-.4-.92-.59-1.43-.59-.52 0-1.04.2-1.43.59L10.3 9.45l-7.72 7.72c-.78.78-.78 2.05 0 2.83L4 21.41c.39.39.9.59 1.41.59.51 0 1.02-.2 1.41-.59l7.78-7.78 2.81-2.81c.8-.78.8-2.07 0-2.86zM5.41 20L4 18.59l7.72-7.72 1.47 1.35L5.41 20z\"/>\n",
              "  </svg>\n",
              "      </button>\n",
              "      \n",
              "  <style>\n",
              "    .colab-df-container {\n",
              "      display:flex;\n",
              "      flex-wrap:wrap;\n",
              "      gap: 12px;\n",
              "    }\n",
              "\n",
              "    .colab-df-convert {\n",
              "      background-color: #E8F0FE;\n",
              "      border: none;\n",
              "      border-radius: 50%;\n",
              "      cursor: pointer;\n",
              "      display: none;\n",
              "      fill: #1967D2;\n",
              "      height: 32px;\n",
              "      padding: 0 0 0 0;\n",
              "      width: 32px;\n",
              "    }\n",
              "\n",
              "    .colab-df-convert:hover {\n",
              "      background-color: #E2EBFA;\n",
              "      box-shadow: 0px 1px 2px rgba(60, 64, 67, 0.3), 0px 1px 3px 1px rgba(60, 64, 67, 0.15);\n",
              "      fill: #174EA6;\n",
              "    }\n",
              "\n",
              "    [theme=dark] .colab-df-convert {\n",
              "      background-color: #3B4455;\n",
              "      fill: #D2E3FC;\n",
              "    }\n",
              "\n",
              "    [theme=dark] .colab-df-convert:hover {\n",
              "      background-color: #434B5C;\n",
              "      box-shadow: 0px 1px 3px 1px rgba(0, 0, 0, 0.15);\n",
              "      filter: drop-shadow(0px 1px 2px rgba(0, 0, 0, 0.3));\n",
              "      fill: #FFFFFF;\n",
              "    }\n",
              "  </style>\n",
              "\n",
              "      <script>\n",
              "        const buttonEl =\n",
              "          document.querySelector('#df-e5a1a615-7a06-4174-b918-a8c949c77b09 button.colab-df-convert');\n",
              "        buttonEl.style.display =\n",
              "          google.colab.kernel.accessAllowed ? 'block' : 'none';\n",
              "\n",
              "        async function convertToInteractive(key) {\n",
              "          const element = document.querySelector('#df-e5a1a615-7a06-4174-b918-a8c949c77b09');\n",
              "          const dataTable =\n",
              "            await google.colab.kernel.invokeFunction('convertToInteractive',\n",
              "                                                     [key], {});\n",
              "          if (!dataTable) return;\n",
              "\n",
              "          const docLinkHtml = 'Like what you see? Visit the ' +\n",
              "            '<a target=\"_blank\" href=https://colab.research.google.com/notebooks/data_table.ipynb>data table notebook</a>'\n",
              "            + ' to learn more about interactive tables.';\n",
              "          element.innerHTML = '';\n",
              "          dataTable['output_type'] = 'display_data';\n",
              "          await google.colab.output.renderOutput(dataTable, element);\n",
              "          const docLink = document.createElement('div');\n",
              "          docLink.innerHTML = docLinkHtml;\n",
              "          element.appendChild(docLink);\n",
              "        }\n",
              "      </script>\n",
              "    </div>\n",
              "  </div>\n",
              "  "
            ]
          },
          "metadata": {},
          "execution_count": 147
        }
      ]
    }
  ]
}