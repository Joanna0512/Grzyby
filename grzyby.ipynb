{
  "nbformat": 4,
  "nbformat_minor": 0,
  "metadata": {
    "colab": {
      "provenance": []
    },
    "kernelspec": {
      "name": "python3",
      "display_name": "Python 3"
    },
    "language_info": {
      "name": "python"
    }
  },
  "cells": [
    {
      "cell_type": "code",
      "execution_count": 99,
      "metadata": {
        "id": "sjUFyYvdVuAt"
      },
      "outputs": [],
      "source": [
        "import pandas as pd"
      ]
    },
    {
      "cell_type": "code",
      "source": [
        "df=pd.read_csv('secondary_data.csv', sep=';')"
      ],
      "metadata": {
        "id": "R6OrGdd2XZVn"
      },
      "execution_count": 100,
      "outputs": []
    },
    {
      "cell_type": "code",
      "source": [
        "df"
      ],
      "metadata": {
        "id": "1wX6qAz_YvQf"
      },
      "execution_count": null,
      "outputs": []
    },
    {
      "cell_type": "code",
      "source": [
        "df.columns"
      ],
      "metadata": {
        "colab": {
          "base_uri": "https://localhost:8080/"
        },
        "id": "8y4oGhnkYvvb",
        "outputId": "68c4ff66-24f6-4403-a29b-406fd92d7286"
      },
      "execution_count": 4,
      "outputs": [
        {
          "output_type": "execute_result",
          "data": {
            "text/plain": [
              "Index(['class', 'cap-diameter', 'cap-shape', 'cap-surface', 'cap-color',\n",
              "       'does-bruise-or-bleed', 'gill-attachment', 'gill-spacing', 'gill-color',\n",
              "       'stem-height', 'stem-width', 'stem-root', 'stem-surface', 'stem-color',\n",
              "       'veil-type', 'veil-color', 'has-ring', 'ring-type', 'spore-print-color',\n",
              "       'habitat', 'season'],\n",
              "      dtype='object')"
            ]
          },
          "metadata": {},
          "execution_count": 4
        }
      ]
    },
    {
      "cell_type": "markdown",
      "source": [
        "Sprawdzamy zawartości kolumn"
      ],
      "metadata": {
        "id": "7BJeaPAdJP-e"
      }
    },
    {
      "cell_type": "code",
      "source": [
        "set(df['class'])"
      ],
      "metadata": {
        "colab": {
          "base_uri": "https://localhost:8080/"
        },
        "id": "QVWi0DXvY1Bw",
        "outputId": "721f943a-b432-4482-9604-d2705e27a172"
      },
      "execution_count": 5,
      "outputs": [
        {
          "output_type": "execute_result",
          "data": {
            "text/plain": [
              "{'e', 'p'}"
            ]
          },
          "metadata": {},
          "execution_count": 5
        }
      ]
    },
    {
      "cell_type": "code",
      "source": [
        "set(df['cap-shape'])"
      ],
      "metadata": {
        "colab": {
          "base_uri": "https://localhost:8080/"
        },
        "id": "rYq1sNY5Y8ZB",
        "outputId": "354e443f-5cc4-4485-9d78-826fc8d82141"
      },
      "execution_count": 6,
      "outputs": [
        {
          "output_type": "execute_result",
          "data": {
            "text/plain": [
              "{'b', 'c', 'f', 'o', 'p', 's', 'x'}"
            ]
          },
          "metadata": {},
          "execution_count": 6
        }
      ]
    },
    {
      "cell_type": "code",
      "source": [
        "set(df['cap-color'])"
      ],
      "metadata": {
        "colab": {
          "base_uri": "https://localhost:8080/"
        },
        "id": "p43TGmlIZGII",
        "outputId": "ee3399e5-5ebc-4065-a573-d0061da393ca"
      },
      "execution_count": 7,
      "outputs": [
        {
          "output_type": "execute_result",
          "data": {
            "text/plain": [
              "{'b', 'e', 'g', 'k', 'l', 'n', 'o', 'p', 'r', 'u', 'w', 'y'}"
            ]
          },
          "metadata": {},
          "execution_count": 7
        }
      ]
    },
    {
      "cell_type": "code",
      "source": [
        "df.info()"
      ],
      "metadata": {
        "colab": {
          "base_uri": "https://localhost:8080/"
        },
        "id": "LyNjoZxnZt-_",
        "outputId": "0c956f5a-b4b9-4cfd-de92-5c95c32e6e70"
      },
      "execution_count": 8,
      "outputs": [
        {
          "output_type": "stream",
          "name": "stdout",
          "text": [
            "<class 'pandas.core.frame.DataFrame'>\n",
            "RangeIndex: 61069 entries, 0 to 61068\n",
            "Data columns (total 21 columns):\n",
            " #   Column                Non-Null Count  Dtype  \n",
            "---  ------                --------------  -----  \n",
            " 0   class                 61069 non-null  object \n",
            " 1   cap-diameter          61069 non-null  float64\n",
            " 2   cap-shape             61069 non-null  object \n",
            " 3   cap-surface           46949 non-null  object \n",
            " 4   cap-color             61069 non-null  object \n",
            " 5   does-bruise-or-bleed  61069 non-null  object \n",
            " 6   gill-attachment       51185 non-null  object \n",
            " 7   gill-spacing          36006 non-null  object \n",
            " 8   gill-color            61069 non-null  object \n",
            " 9   stem-height           61069 non-null  float64\n",
            " 10  stem-width            61069 non-null  float64\n",
            " 11  stem-root             9531 non-null   object \n",
            " 12  stem-surface          22945 non-null  object \n",
            " 13  stem-color            61069 non-null  object \n",
            " 14  veil-type             3177 non-null   object \n",
            " 15  veil-color            7413 non-null   object \n",
            " 16  has-ring              61069 non-null  object \n",
            " 17  ring-type             58598 non-null  object \n",
            " 18  spore-print-color     6354 non-null   object \n",
            " 19  habitat               61069 non-null  object \n",
            " 20  season                61069 non-null  object \n",
            "dtypes: float64(3), object(18)\n",
            "memory usage: 9.8+ MB\n"
          ]
        }
      ]
    },
    {
      "cell_type": "code",
      "source": [
        "set(df['stem-root'])"
      ],
      "metadata": {
        "colab": {
          "base_uri": "https://localhost:8080/"
        },
        "id": "x5pxw_lia6BD",
        "outputId": "162b2165-0462-4824-c439-2303f52b35f6"
      },
      "execution_count": 9,
      "outputs": [
        {
          "output_type": "execute_result",
          "data": {
            "text/plain": [
              "{'b', 'c', 'f', nan, 'r', 's'}"
            ]
          },
          "metadata": {},
          "execution_count": 9
        }
      ]
    },
    {
      "cell_type": "markdown",
      "source": [
        "Zmiana zawartości kolumny 'veil-type' na dane 0,1 oraz typ float"
      ],
      "metadata": {
        "id": "bBKO-vrcJWIY"
      }
    },
    {
      "cell_type": "code",
      "source": [
        "set(df['veil-type'])"
      ],
      "metadata": {
        "colab": {
          "base_uri": "https://localhost:8080/"
        },
        "id": "PQD0l_ksbdIC",
        "outputId": "f7f6de5a-da8d-4c24-dae7-9a8a8d14ae53"
      },
      "execution_count": 10,
      "outputs": [
        {
          "output_type": "execute_result",
          "data": {
            "text/plain": [
              "{nan, 'u'}"
            ]
          },
          "metadata": {},
          "execution_count": 10
        }
      ]
    },
    {
      "cell_type": "code",
      "source": [
        "df['veil-type']=df['veil-type'].fillna(0)"
      ],
      "metadata": {
        "id": "G_YXYI4Db6Pv"
      },
      "execution_count": 101,
      "outputs": []
    },
    {
      "cell_type": "code",
      "source": [
        "set(df['veil-type'])"
      ],
      "metadata": {
        "colab": {
          "base_uri": "https://localhost:8080/"
        },
        "id": "Ox-T-uPTck_Q",
        "outputId": "6990317c-796a-40d1-dd6f-e761e0c10f14"
      },
      "execution_count": 12,
      "outputs": [
        {
          "output_type": "execute_result",
          "data": {
            "text/plain": [
              "{0, 'u'}"
            ]
          },
          "metadata": {},
          "execution_count": 12
        }
      ]
    },
    {
      "cell_type": "code",
      "source": [
        "df['veil-type'] = df['veil-type'].replace({'u': 1})"
      ],
      "metadata": {
        "id": "TrSDye_Kcvjl"
      },
      "execution_count": 102,
      "outputs": []
    },
    {
      "cell_type": "code",
      "source": [
        "set(df['veil-type'])"
      ],
      "metadata": {
        "colab": {
          "base_uri": "https://localhost:8080/"
        },
        "id": "dZ3YLbjfc_YQ",
        "outputId": "6a11c82d-8990-4c8e-bc32-8da2a74d3a6e"
      },
      "execution_count": 14,
      "outputs": [
        {
          "output_type": "execute_result",
          "data": {
            "text/plain": [
              "{0, 1}"
            ]
          },
          "metadata": {},
          "execution_count": 14
        }
      ]
    },
    {
      "cell_type": "code",
      "source": [
        "df['veil-type'] = df['veil-type'].astype(float)"
      ],
      "metadata": {
        "id": "cDeyBhaWdB9I"
      },
      "execution_count": 15,
      "outputs": []
    },
    {
      "cell_type": "markdown",
      "source": [
        "Zmiana zawartości kolumny 'class' na dane 0,1 oraz typ float"
      ],
      "metadata": {
        "id": "WiXz46gQJ2OQ"
      }
    },
    {
      "cell_type": "code",
      "source": [
        "df['class'] = df['class'].replace({'e': 1, 'p':0})"
      ],
      "metadata": {
        "id": "GH3SReuvflDs"
      },
      "execution_count": 103,
      "outputs": []
    },
    {
      "cell_type": "code",
      "source": [
        "df['class'] = df['class'].astype(float)"
      ],
      "metadata": {
        "id": "8ZM2N2kifuTJ"
      },
      "execution_count": 104,
      "outputs": []
    },
    {
      "cell_type": "markdown",
      "source": [
        "Zmiana nazw kolumn, zmiana '-' na '_'"
      ],
      "metadata": {
        "id": "jR-xCLbqJ93m"
      }
    },
    {
      "cell_type": "code",
      "source": [
        "df.info()"
      ],
      "metadata": {
        "id": "ydNNuTKGfzbw",
        "colab": {
          "base_uri": "https://localhost:8080/"
        },
        "outputId": "37f5980e-8cbb-4e05-e2cf-bfa21bd3ae1f"
      },
      "execution_count": 18,
      "outputs": [
        {
          "output_type": "stream",
          "name": "stdout",
          "text": [
            "<class 'pandas.core.frame.DataFrame'>\n",
            "RangeIndex: 61069 entries, 0 to 61068\n",
            "Data columns (total 21 columns):\n",
            " #   Column                Non-Null Count  Dtype  \n",
            "---  ------                --------------  -----  \n",
            " 0   class                 61069 non-null  float64\n",
            " 1   cap-diameter          61069 non-null  float64\n",
            " 2   cap-shape             61069 non-null  object \n",
            " 3   cap-surface           46949 non-null  object \n",
            " 4   cap-color             61069 non-null  object \n",
            " 5   does-bruise-or-bleed  61069 non-null  object \n",
            " 6   gill-attachment       51185 non-null  object \n",
            " 7   gill-spacing          36006 non-null  object \n",
            " 8   gill-color            61069 non-null  object \n",
            " 9   stem-height           61069 non-null  float64\n",
            " 10  stem-width            61069 non-null  float64\n",
            " 11  stem-root             9531 non-null   object \n",
            " 12  stem-surface          22945 non-null  object \n",
            " 13  stem-color            61069 non-null  object \n",
            " 14  veil-type             61069 non-null  float64\n",
            " 15  veil-color            7413 non-null   object \n",
            " 16  has-ring              61069 non-null  object \n",
            " 17  ring-type             58598 non-null  object \n",
            " 18  spore-print-color     6354 non-null   object \n",
            " 19  habitat               61069 non-null  object \n",
            " 20  season                61069 non-null  object \n",
            "dtypes: float64(5), object(16)\n",
            "memory usage: 9.8+ MB\n"
          ]
        }
      ]
    },
    {
      "cell_type": "code",
      "source": [
        "df=df.rename(columns={'cap-diameter':'cap_diameter'})\n",
        "df=df.rename(columns={'cap-shape':'cap_shape'})\n",
        "df=df.rename(columns={'cap-surface':'cap_surface'})\n",
        "df=df.rename(columns={'cap-color':'cap_color'})\n",
        "df=df.rename(columns={'does-bruise-or-bleed':'does_bruise_or_bleed'})\n",
        "df=df.rename(columns={'gill-attachment':'gill_attachment'})\n",
        "df=df.rename(columns={'gill-spacing':'gill_spacing'})\n",
        "df=df.rename(columns={'gill-color':'gill_color'})\n",
        "df=df.rename(columns={'stem-height':'stem_height'})\n",
        "df=df.rename(columns={'stem-root':'stem_root'})\n",
        "df=df.rename(columns={'stem-surface':'stem_surface'})\n",
        "df=df.rename(columns={'has-ring':'has_ring'})\n",
        "df=df.rename(columns={'ring-type':'ring_type'})\n",
        "df=df.rename(columns={'veil-type':'veil_type'})\n",
        "df=df.rename(columns={'veil-color':'veil_color'})\n",
        "df=df.rename(columns={'spore-print-color':'spore_print_color'})\n",
        "df=df.rename(columns={'stem-width':'stem_width'})\n",
        "df=df.rename(columns={'stem-color':'stem_color'})"
      ],
      "metadata": {
        "id": "YLuSTmf1hruJ"
      },
      "execution_count": 105,
      "outputs": []
    },
    {
      "cell_type": "markdown",
      "source": [
        "Zmiany danych na 0,1 w kolejncyh kolumnach"
      ],
      "metadata": {
        "id": "qDsvGHjHOTje"
      }
    },
    {
      "cell_type": "code",
      "source": [
        "df['has_ring'] = df['has_ring'].replace({'f': 1, 't':2}).astype(float)"
      ],
      "metadata": {
        "id": "CXdpeQ9aifh5"
      },
      "execution_count": 106,
      "outputs": []
    },
    {
      "cell_type": "code",
      "source": [
        "df['does_bruise_or_bleed'] = df['does_bruise_or_bleed'].replace({'f': 1, 't':2}).astype(float)"
      ],
      "metadata": {
        "id": "zOtNfdemijqX"
      },
      "execution_count": 107,
      "outputs": []
    },
    {
      "cell_type": "markdown",
      "source": [
        "Z uwagi na bardzo małą ilość danych usuwamy kolumnę 'veil_color' oraz 'spore_print_color'"
      ],
      "metadata": {
        "id": "iHz2y3DdObb6"
      }
    },
    {
      "cell_type": "code",
      "source": [
        "df.drop(['veil_color'], axis=1, inplace=True)"
      ],
      "metadata": {
        "id": "vXz-qtOvkmEL"
      },
      "execution_count": 108,
      "outputs": []
    },
    {
      "cell_type": "code",
      "source": [
        "df.drop(['spore_print_color'], axis=1, inplace=True)"
      ],
      "metadata": {
        "id": "EFHmgs1qmUxA"
      },
      "execution_count": 109,
      "outputs": []
    },
    {
      "cell_type": "code",
      "source": [
        "df.info()"
      ],
      "metadata": {
        "id": "Qf8MIGuEiipr"
      },
      "execution_count": null,
      "outputs": []
    },
    {
      "cell_type": "code",
      "source": [
        "set(df['cap_color'])"
      ],
      "metadata": {
        "colab": {
          "base_uri": "https://localhost:8080/"
        },
        "id": "FetjJb8YkMII",
        "outputId": "8e9f77a0-c0bc-44f0-e7bc-67f6de415794"
      },
      "execution_count": 25,
      "outputs": [
        {
          "output_type": "execute_result",
          "data": {
            "text/plain": [
              "{'b', 'e', 'g', 'k', 'l', 'n', 'o', 'p', 'r', 'u', 'w', 'y'}"
            ]
          },
          "metadata": {},
          "execution_count": 25
        }
      ]
    },
    {
      "cell_type": "markdown",
      "source": [
        "Podział zbioru na grzyby jadalne i niejadalne\n"
      ],
      "metadata": {
        "id": "QMd4sZZ5PRBH"
      }
    },
    {
      "cell_type": "code",
      "source": [
        "edible=df[df['class']==1]"
      ],
      "metadata": {
        "id": "9FIne-7cos26"
      },
      "execution_count": 111,
      "outputs": []
    },
    {
      "cell_type": "code",
      "source": [
        "poisonous=df[df['class']==0]"
      ],
      "metadata": {
        "id": "FJnqWlR2PcJH"
      },
      "execution_count": 112,
      "outputs": []
    },
    {
      "cell_type": "code",
      "source": [
        "poisonous.info()"
      ],
      "metadata": {
        "id": "XyQ0HYgpREJe"
      },
      "execution_count": null,
      "outputs": []
    },
    {
      "cell_type": "code",
      "source": [
        "edible.info()\n"
      ],
      "metadata": {
        "id": "fqlmpZWwPik_",
        "colab": {
          "base_uri": "https://localhost:8080/"
        },
        "outputId": "12bd2500-f74a-46d2-c847-8477e9ebfbe0"
      },
      "execution_count": 29,
      "outputs": [
        {
          "output_type": "stream",
          "name": "stdout",
          "text": [
            "<class 'pandas.core.frame.DataFrame'>\n",
            "Int64Index: 27181 entries, 1059 to 60715\n",
            "Data columns (total 19 columns):\n",
            " #   Column                Non-Null Count  Dtype  \n",
            "---  ------                --------------  -----  \n",
            " 0   class                 27181 non-null  float64\n",
            " 1   cap_diameter          27181 non-null  float64\n",
            " 2   cap_shape             27181 non-null  object \n",
            " 3   cap_surface           20474 non-null  object \n",
            " 4   cap_color             27181 non-null  object \n",
            " 5   does_bruise_or_bleed  27181 non-null  float64\n",
            " 6   gill_attachment       23651 non-null  object \n",
            " 7   gill_spacing          16238 non-null  object \n",
            " 8   gill_color            27181 non-null  object \n",
            " 9   stem_height           27181 non-null  float64\n",
            " 10  stem_width            27181 non-null  float64\n",
            " 11  stem_root             3530 non-null   object \n",
            " 12  stem_surface          8472 non-null   object \n",
            " 13  stem_color            27181 non-null  object \n",
            " 14  veil_type             27181 non-null  float64\n",
            " 15  has_ring              27181 non-null  float64\n",
            " 16  ring_type             25769 non-null  object \n",
            " 17  habitat               27181 non-null  object \n",
            " 18  season                27181 non-null  object \n",
            "dtypes: float64(7), object(12)\n",
            "memory usage: 4.1+ MB\n"
          ]
        }
      ]
    },
    {
      "cell_type": "markdown",
      "source": [
        "Sprawdzamy kolumnę 'steam_root'"
      ],
      "metadata": {
        "id": "9RELoNqCS9nP"
      }
    },
    {
      "cell_type": "code",
      "source": [
        "df[['stem_root']]"
      ],
      "metadata": {
        "colab": {
          "base_uri": "https://localhost:8080/",
          "height": 424
        },
        "id": "BhRG8zFYne9b",
        "outputId": "7e2ba59a-d485-4bc3-f103-c178695fd095"
      },
      "execution_count": 30,
      "outputs": [
        {
          "output_type": "execute_result",
          "data": {
            "text/plain": [
              "      stem_root\n",
              "0             s\n",
              "1             s\n",
              "2             s\n",
              "3             s\n",
              "4             s\n",
              "...         ...\n",
              "61064       NaN\n",
              "61065       NaN\n",
              "61066       NaN\n",
              "61067       NaN\n",
              "61068       NaN\n",
              "\n",
              "[61069 rows x 1 columns]"
            ],
            "text/html": [
              "\n",
              "  <div id=\"df-88c7df4b-f056-41ca-a9e6-9fd7d0393f48\">\n",
              "    <div class=\"colab-df-container\">\n",
              "      <div>\n",
              "<style scoped>\n",
              "    .dataframe tbody tr th:only-of-type {\n",
              "        vertical-align: middle;\n",
              "    }\n",
              "\n",
              "    .dataframe tbody tr th {\n",
              "        vertical-align: top;\n",
              "    }\n",
              "\n",
              "    .dataframe thead th {\n",
              "        text-align: right;\n",
              "    }\n",
              "</style>\n",
              "<table border=\"1\" class=\"dataframe\">\n",
              "  <thead>\n",
              "    <tr style=\"text-align: right;\">\n",
              "      <th></th>\n",
              "      <th>stem_root</th>\n",
              "    </tr>\n",
              "  </thead>\n",
              "  <tbody>\n",
              "    <tr>\n",
              "      <th>0</th>\n",
              "      <td>s</td>\n",
              "    </tr>\n",
              "    <tr>\n",
              "      <th>1</th>\n",
              "      <td>s</td>\n",
              "    </tr>\n",
              "    <tr>\n",
              "      <th>2</th>\n",
              "      <td>s</td>\n",
              "    </tr>\n",
              "    <tr>\n",
              "      <th>3</th>\n",
              "      <td>s</td>\n",
              "    </tr>\n",
              "    <tr>\n",
              "      <th>4</th>\n",
              "      <td>s</td>\n",
              "    </tr>\n",
              "    <tr>\n",
              "      <th>...</th>\n",
              "      <td>...</td>\n",
              "    </tr>\n",
              "    <tr>\n",
              "      <th>61064</th>\n",
              "      <td>NaN</td>\n",
              "    </tr>\n",
              "    <tr>\n",
              "      <th>61065</th>\n",
              "      <td>NaN</td>\n",
              "    </tr>\n",
              "    <tr>\n",
              "      <th>61066</th>\n",
              "      <td>NaN</td>\n",
              "    </tr>\n",
              "    <tr>\n",
              "      <th>61067</th>\n",
              "      <td>NaN</td>\n",
              "    </tr>\n",
              "    <tr>\n",
              "      <th>61068</th>\n",
              "      <td>NaN</td>\n",
              "    </tr>\n",
              "  </tbody>\n",
              "</table>\n",
              "<p>61069 rows × 1 columns</p>\n",
              "</div>\n",
              "      <button class=\"colab-df-convert\" onclick=\"convertToInteractive('df-88c7df4b-f056-41ca-a9e6-9fd7d0393f48')\"\n",
              "              title=\"Convert this dataframe to an interactive table.\"\n",
              "              style=\"display:none;\">\n",
              "        \n",
              "  <svg xmlns=\"http://www.w3.org/2000/svg\" height=\"24px\"viewBox=\"0 0 24 24\"\n",
              "       width=\"24px\">\n",
              "    <path d=\"M0 0h24v24H0V0z\" fill=\"none\"/>\n",
              "    <path d=\"M18.56 5.44l.94 2.06.94-2.06 2.06-.94-2.06-.94-.94-2.06-.94 2.06-2.06.94zm-11 1L8.5 8.5l.94-2.06 2.06-.94-2.06-.94L8.5 2.5l-.94 2.06-2.06.94zm10 10l.94 2.06.94-2.06 2.06-.94-2.06-.94-.94-2.06-.94 2.06-2.06.94z\"/><path d=\"M17.41 7.96l-1.37-1.37c-.4-.4-.92-.59-1.43-.59-.52 0-1.04.2-1.43.59L10.3 9.45l-7.72 7.72c-.78.78-.78 2.05 0 2.83L4 21.41c.39.39.9.59 1.41.59.51 0 1.02-.2 1.41-.59l7.78-7.78 2.81-2.81c.8-.78.8-2.07 0-2.86zM5.41 20L4 18.59l7.72-7.72 1.47 1.35L5.41 20z\"/>\n",
              "  </svg>\n",
              "      </button>\n",
              "      \n",
              "  <style>\n",
              "    .colab-df-container {\n",
              "      display:flex;\n",
              "      flex-wrap:wrap;\n",
              "      gap: 12px;\n",
              "    }\n",
              "\n",
              "    .colab-df-convert {\n",
              "      background-color: #E8F0FE;\n",
              "      border: none;\n",
              "      border-radius: 50%;\n",
              "      cursor: pointer;\n",
              "      display: none;\n",
              "      fill: #1967D2;\n",
              "      height: 32px;\n",
              "      padding: 0 0 0 0;\n",
              "      width: 32px;\n",
              "    }\n",
              "\n",
              "    .colab-df-convert:hover {\n",
              "      background-color: #E2EBFA;\n",
              "      box-shadow: 0px 1px 2px rgba(60, 64, 67, 0.3), 0px 1px 3px 1px rgba(60, 64, 67, 0.15);\n",
              "      fill: #174EA6;\n",
              "    }\n",
              "\n",
              "    [theme=dark] .colab-df-convert {\n",
              "      background-color: #3B4455;\n",
              "      fill: #D2E3FC;\n",
              "    }\n",
              "\n",
              "    [theme=dark] .colab-df-convert:hover {\n",
              "      background-color: #434B5C;\n",
              "      box-shadow: 0px 1px 3px 1px rgba(0, 0, 0, 0.15);\n",
              "      filter: drop-shadow(0px 1px 2px rgba(0, 0, 0, 0.3));\n",
              "      fill: #FFFFFF;\n",
              "    }\n",
              "  </style>\n",
              "\n",
              "      <script>\n",
              "        const buttonEl =\n",
              "          document.querySelector('#df-88c7df4b-f056-41ca-a9e6-9fd7d0393f48 button.colab-df-convert');\n",
              "        buttonEl.style.display =\n",
              "          google.colab.kernel.accessAllowed ? 'block' : 'none';\n",
              "\n",
              "        async function convertToInteractive(key) {\n",
              "          const element = document.querySelector('#df-88c7df4b-f056-41ca-a9e6-9fd7d0393f48');\n",
              "          const dataTable =\n",
              "            await google.colab.kernel.invokeFunction('convertToInteractive',\n",
              "                                                     [key], {});\n",
              "          if (!dataTable) return;\n",
              "\n",
              "          const docLinkHtml = 'Like what you see? Visit the ' +\n",
              "            '<a target=\"_blank\" href=https://colab.research.google.com/notebooks/data_table.ipynb>data table notebook</a>'\n",
              "            + ' to learn more about interactive tables.';\n",
              "          element.innerHTML = '';\n",
              "          dataTable['output_type'] = 'display_data';\n",
              "          await google.colab.output.renderOutput(dataTable, element);\n",
              "          const docLink = document.createElement('div');\n",
              "          docLink.innerHTML = docLinkHtml;\n",
              "          element.appendChild(docLink);\n",
              "        }\n",
              "      </script>\n",
              "    </div>\n",
              "  </div>\n",
              "  "
            ]
          },
          "metadata": {},
          "execution_count": 30
        }
      ]
    },
    {
      "cell_type": "code",
      "source": [
        "\n",
        "edible['stem_root'].value_counts()"
      ],
      "metadata": {
        "colab": {
          "base_uri": "https://localhost:8080/"
        },
        "id": "HBmA-nDfpPWX",
        "outputId": "7514c1c7-00f3-4434-84c5-e6fe80b2bac4"
      },
      "execution_count": 113,
      "outputs": [
        {
          "output_type": "execute_result",
          "data": {
            "text/plain": [
              "b    2118\n",
              "s    1412\n",
              "Name: stem_root, dtype: int64"
            ]
          },
          "metadata": {},
          "execution_count": 113
        }
      ]
    },
    {
      "cell_type": "code",
      "source": [
        "poisonous['stem_root'].value_counts()"
      ],
      "metadata": {
        "colab": {
          "base_uri": "https://localhost:8080/"
        },
        "id": "Cvjn6jtIQ7j-",
        "outputId": "297e20c8-7bbe-4a72-e0e8-4e73760be7a6"
      },
      "execution_count": 114,
      "outputs": [
        {
          "output_type": "execute_result",
          "data": {
            "text/plain": [
              "s    1765\n",
              "r    1412\n",
              "b    1059\n",
              "f    1059\n",
              "c     706\n",
              "Name: stem_root, dtype: int64"
            ]
          },
          "metadata": {},
          "execution_count": 114
        }
      ]
    },
    {
      "cell_type": "code",
      "source": [
        "import matplotlib.pyplot as plt\n",
        "import seaborn as sns"
      ],
      "metadata": {
        "id": "YgMhiX-4mlv4"
      },
      "execution_count": 115,
      "outputs": []
    },
    {
      "cell_type": "code",
      "source": [
        "plt.figure(figsize=(8,6))\n",
        "sns.countplot(x='stem_root', data=edible)\n",
        "plt.title('Podział grzybów jadalnych, wg łodyg', fontsize=16)"
      ],
      "metadata": {
        "colab": {
          "base_uri": "https://localhost:8080/",
          "height": 424
        },
        "id": "hLKWuFwRRUHv",
        "outputId": "b22b080f-fea7-4de5-d9f4-04fddab8ac0c"
      },
      "execution_count": 116,
      "outputs": [
        {
          "output_type": "execute_result",
          "data": {
            "text/plain": [
              "Text(0.5, 1.0, 'Podział grzybów jadalnych, wg łodyg')"
            ]
          },
          "metadata": {},
          "execution_count": 116
        },
        {
          "output_type": "display_data",
          "data": {
            "text/plain": [
              "<Figure size 576x432 with 1 Axes>"
            ],
            "image/png": "[encoded data removed]"
          },
          "metadata": {
            "needs_background": "light"
          }
        }
      ]
    },
    {
      "cell_type": "code",
      "source": [
        "plt.figure(figsize=(8,6))\n",
        "sns.countplot(x='stem_root', data=poisonous)\n",
        "plt.title('Podział grzybów trujących, wg łodyg', fontsize=16)"
      ],
      "metadata": {
        "colab": {
          "base_uri": "https://localhost:8080/",
          "height": 424
        },
        "id": "4_TPNs0ARpPu",
        "outputId": "de18f1ac-b889-4003-9f60-02f98f13db95"
      },
      "execution_count": 117,
      "outputs": [
        {
          "output_type": "execute_result",
          "data": {
            "text/plain": [
              "Text(0.5, 1.0, 'Podział grzybów trujących, wg łodyg')"
            ]
          },
          "metadata": {},
          "execution_count": 117
        },
        {
          "output_type": "display_data",
          "data": {
            "text/plain": [
              "<Figure size 576x432 with 1 Axes>"
            ],
            "image/png": "[encoded data removed]"
          },
          "metadata": {
            "needs_background": "light"
          }
        }
      ]
    },
    {
      "cell_type": "code",
      "source": [
        "df.drop(['stem_root'], axis=1, inplace=True)"
      ],
      "metadata": {
        "id": "fNq36bpkSkHG"
      },
      "execution_count": 118,
      "outputs": []
    },
    {
      "cell_type": "markdown",
      "source": [
        "Zarówno w zbiorze grzybów jadalnych, jak i trujących zauwazyć można przeważającą ilość grzybów o łodygach bulbous='b' oraz swollen='s'. Dane te nie są kluczowe w podziale rodzaj grzybów. Dodatkowo kolumna ta zawiera bardzo małą ilość danych, dlatego zostaje usunięta."
      ],
      "metadata": {
        "id": "gUXcC_L2SLd-"
      }
    },
    {
      "cell_type": "code",
      "source": [
        "df.info()"
      ],
      "metadata": {
        "id": "WVYPT1XSkhXR"
      },
      "execution_count": null,
      "outputs": []
    },
    {
      "cell_type": "markdown",
      "source": [
        "Zmiana nanów w 'gill_spacing' na f(zgodnie z opisem zbioru)"
      ],
      "metadata": {
        "id": "pT7PDGggThX-"
      }
    },
    {
      "cell_type": "code",
      "source": [
        "set(df['gill_spacing'])"
      ],
      "metadata": {
        "colab": {
          "base_uri": "https://localhost:8080/"
        },
        "id": "YrMiRU_HyW8F",
        "outputId": "8dc31c04-419a-49a6-ea53-825a5d432580"
      },
      "execution_count": 38,
      "outputs": [
        {
          "output_type": "execute_result",
          "data": {
            "text/plain": [
              "{'c', 'd', 'f', nan}"
            ]
          },
          "metadata": {},
          "execution_count": 38
        }
      ]
    },
    {
      "cell_type": "code",
      "source": [
        "df['gill_spacing']=df['gill_spacing'].fillna(0)"
      ],
      "metadata": {
        "id": "vttsKN121JXH"
      },
      "execution_count": 119,
      "outputs": []
    },
    {
      "cell_type": "code",
      "source": [
        "df['gill_spacing'] = df['gill_spacing'].replace({0: 'f'})"
      ],
      "metadata": {
        "id": "fSJ5-OGU2PA5"
      },
      "execution_count": 120,
      "outputs": []
    },
    {
      "cell_type": "markdown",
      "source": [
        "Zmiana nanów w 'ring_type' na f(zgodnie z opisem zbioru)"
      ],
      "metadata": {
        "id": "X08jEOEGT6KA"
      }
    },
    {
      "cell_type": "code",
      "source": [
        "df['ring_type']=df['ring_type'].fillna(0).replace({0: 'f'})"
      ],
      "metadata": {
        "id": "M5k7yn244sgh"
      },
      "execution_count": 121,
      "outputs": []
    },
    {
      "cell_type": "code",
      "source": [
        "df[['ring_type']]"
      ],
      "metadata": {
        "id": "4YnSyUlu42TC",
        "colab": {
          "base_uri": "https://localhost:8080/",
          "height": 424
        },
        "outputId": "4f50cbdb-b2a3-4ceb-9df4-84965fd9b261"
      },
      "execution_count": 122,
      "outputs": [
        {
          "output_type": "execute_result",
          "data": {
            "text/plain": [
              "      ring_type\n",
              "0             g\n",
              "1             g\n",
              "2             g\n",
              "3             p\n",
              "4             p\n",
              "...         ...\n",
              "61064         f\n",
              "61065         f\n",
              "61066         f\n",
              "61067         f\n",
              "61068         f\n",
              "\n",
              "[61069 rows x 1 columns]"
            ],
            "text/html": [
              "\n",
              "  <div id=\"df-5081207b-6c24-45f8-b23c-43e5fe5b4436\">\n",
              "    <div class=\"colab-df-container\">\n",
              "      <div>\n",
              "<style scoped>\n",
              "    .dataframe tbody tr th:only-of-type {\n",
              "        vertical-align: middle;\n",
              "    }\n",
              "\n",
              "    .dataframe tbody tr th {\n",
              "        vertical-align: top;\n",
              "    }\n",
              "\n",
              "    .dataframe thead th {\n",
              "        text-align: right;\n",
              "    }\n",
              "</style>\n",
              "<table border=\"1\" class=\"dataframe\">\n",
              "  <thead>\n",
              "    <tr style=\"text-align: right;\">\n",
              "      <th></th>\n",
              "      <th>ring_type</th>\n",
              "    </tr>\n",
              "  </thead>\n",
              "  <tbody>\n",
              "    <tr>\n",
              "      <th>0</th>\n",
              "      <td>g</td>\n",
              "    </tr>\n",
              "    <tr>\n",
              "      <th>1</th>\n",
              "      <td>g</td>\n",
              "    </tr>\n",
              "    <tr>\n",
              "      <th>2</th>\n",
              "      <td>g</td>\n",
              "    </tr>\n",
              "    <tr>\n",
              "      <th>3</th>\n",
              "      <td>p</td>\n",
              "    </tr>\n",
              "    <tr>\n",
              "      <th>4</th>\n",
              "      <td>p</td>\n",
              "    </tr>\n",
              "    <tr>\n",
              "      <th>...</th>\n",
              "      <td>...</td>\n",
              "    </tr>\n",
              "    <tr>\n",
              "      <th>61064</th>\n",
              "      <td>f</td>\n",
              "    </tr>\n",
              "    <tr>\n",
              "      <th>61065</th>\n",
              "      <td>f</td>\n",
              "    </tr>\n",
              "    <tr>\n",
              "      <th>61066</th>\n",
              "      <td>f</td>\n",
              "    </tr>\n",
              "    <tr>\n",
              "      <th>61067</th>\n",
              "      <td>f</td>\n",
              "    </tr>\n",
              "    <tr>\n",
              "      <th>61068</th>\n",
              "      <td>f</td>\n",
              "    </tr>\n",
              "  </tbody>\n",
              "</table>\n",
              "<p>61069 rows × 1 columns</p>\n",
              "</div>\n",
              "      <button class=\"colab-df-convert\" onclick=\"convertToInteractive('df-5081207b-6c24-45f8-b23c-43e5fe5b4436')\"\n",
              "              title=\"Convert this dataframe to an interactive table.\"\n",
              "              style=\"display:none;\">\n",
              "        \n",
              "  <svg xmlns=\"http://www.w3.org/2000/svg\" height=\"24px\"viewBox=\"0 0 24 24\"\n",
              "       width=\"24px\">\n",
              "    <path d=\"M0 0h24v24H0V0z\" fill=\"none\"/>\n",
              "    <path d=\"M18.56 5.44l.94 2.06.94-2.06 2.06-.94-2.06-.94-.94-2.06-.94 2.06-2.06.94zm-11 1L8.5 8.5l.94-2.06 2.06-.94-2.06-.94L8.5 2.5l-.94 2.06-2.06.94zm10 10l.94 2.06.94-2.06 2.06-.94-2.06-.94-.94-2.06-.94 2.06-2.06.94z\"/><path d=\"M17.41 7.96l-1.37-1.37c-.4-.4-.92-.59-1.43-.59-.52 0-1.04.2-1.43.59L10.3 9.45l-7.72 7.72c-.78.78-.78 2.05 0 2.83L4 21.41c.39.39.9.59 1.41.59.51 0 1.02-.2 1.41-.59l7.78-7.78 2.81-2.81c.8-.78.8-2.07 0-2.86zM5.41 20L4 18.59l7.72-7.72 1.47 1.35L5.41 20z\"/>\n",
              "  </svg>\n",
              "      </button>\n",
              "      \n",
              "  <style>\n",
              "    .colab-df-container {\n",
              "      display:flex;\n",
              "      flex-wrap:wrap;\n",
              "      gap: 12px;\n",
              "    }\n",
              "\n",
              "    .colab-df-convert {\n",
              "      background-color: #E8F0FE;\n",
              "      border: none;\n",
              "      border-radius: 50%;\n",
              "      cursor: pointer;\n",
              "      display: none;\n",
              "      fill: #1967D2;\n",
              "      height: 32px;\n",
              "      padding: 0 0 0 0;\n",
              "      width: 32px;\n",
              "    }\n",
              "\n",
              "    .colab-df-convert:hover {\n",
              "      background-color: #E2EBFA;\n",
              "      box-shadow: 0px 1px 2px rgba(60, 64, 67, 0.3), 0px 1px 3px 1px rgba(60, 64, 67, 0.15);\n",
              "      fill: #174EA6;\n",
              "    }\n",
              "\n",
              "    [theme=dark] .colab-df-convert {\n",
              "      background-color: #3B4455;\n",
              "      fill: #D2E3FC;\n",
              "    }\n",
              "\n",
              "    [theme=dark] .colab-df-convert:hover {\n",
              "      background-color: #434B5C;\n",
              "      box-shadow: 0px 1px 3px 1px rgba(0, 0, 0, 0.15);\n",
              "      filter: drop-shadow(0px 1px 2px rgba(0, 0, 0, 0.3));\n",
              "      fill: #FFFFFF;\n",
              "    }\n",
              "  </style>\n",
              "\n",
              "      <script>\n",
              "        const buttonEl =\n",
              "          document.querySelector('#df-5081207b-6c24-45f8-b23c-43e5fe5b4436 button.colab-df-convert');\n",
              "        buttonEl.style.display =\n",
              "          google.colab.kernel.accessAllowed ? 'block' : 'none';\n",
              "\n",
              "        async function convertToInteractive(key) {\n",
              "          const element = document.querySelector('#df-5081207b-6c24-45f8-b23c-43e5fe5b4436');\n",
              "          const dataTable =\n",
              "            await google.colab.kernel.invokeFunction('convertToInteractive',\n",
              "                                                     [key], {});\n",
              "          if (!dataTable) return;\n",
              "\n",
              "          const docLinkHtml = 'Like what you see? Visit the ' +\n",
              "            '<a target=\"_blank\" href=https://colab.research.google.com/notebooks/data_table.ipynb>data table notebook</a>'\n",
              "            + ' to learn more about interactive tables.';\n",
              "          element.innerHTML = '';\n",
              "          dataTable['output_type'] = 'display_data';\n",
              "          await google.colab.output.renderOutput(dataTable, element);\n",
              "          const docLink = document.createElement('div');\n",
              "          docLink.innerHTML = docLinkHtml;\n",
              "          element.appendChild(docLink);\n",
              "        }\n",
              "      </script>\n",
              "    </div>\n",
              "  </div>\n",
              "  "
            ]
          },
          "metadata": {},
          "execution_count": 122
        }
      ]
    },
    {
      "cell_type": "code",
      "source": [
        "df['ring_type'].value_counts()"
      ],
      "metadata": {
        "colab": {
          "base_uri": "https://localhost:8080/"
        },
        "id": "wI24mjZL5NkP",
        "outputId": "ae67006b-06a1-4724-f331-bb50085684c0"
      },
      "execution_count": 123,
      "outputs": [
        {
          "output_type": "execute_result",
          "data": {
            "text/plain": [
              "f    50832\n",
              "e     2435\n",
              "z     2118\n",
              "l     1427\n",
              "r     1399\n",
              "p     1265\n",
              "g     1240\n",
              "m      353\n",
              "Name: ring_type, dtype: int64"
            ]
          },
          "metadata": {},
          "execution_count": 123
        }
      ]
    },
    {
      "cell_type": "markdown",
      "source": [
        "#Sprawdzamy czy kolory kapeluszy mają wpływ na rodzaj grzyba(jadalny/niejadalny)"
      ],
      "metadata": {
        "id": "lqUISVG6UFIl"
      }
    },
    {
      "cell_type": "code",
      "source": [
        "plt.figure(figsize=(8,6))\n",
        "sns.countplot(x='class', data=df, hue=df['cap_color'])\n",
        "plt.title('X', fontsize=16)"
      ],
      "metadata": {
        "colab": {
          "base_uri": "https://localhost:8080/",
          "height": 423
        },
        "id": "opycJIUhDn2c",
        "outputId": "aa0b6c85-5011-435b-f03e-d614b78058e8"
      },
      "execution_count": 124,
      "outputs": [
        {
          "output_type": "execute_result",
          "data": {
            "text/plain": [
              "Text(0.5, 1.0, 'X')"
            ]
          },
          "metadata": {},
          "execution_count": 124
        },
        {
          "output_type": "display_data",
          "data": {
            "text/plain": [
              "<Figure size 576x432 with 1 Axes>"
            ],
            "image/png": "[encoded data removed]"
          },
          "metadata": {
            "needs_background": "light"
          }
        }
      ]
    },
    {
      "cell_type": "code",
      "source": [
        "df.drop(['cap_color'], axis=1, inplace=True)"
      ],
      "metadata": {
        "id": "ZY5g6FusXxHA"
      },
      "execution_count": 125,
      "outputs": []
    },
    {
      "cell_type": "markdown",
      "source": [
        "Z powyższego wykresy, jasno wynika, że kolor kapelusza grzyba(przewaga kapeluszy brązowych), nie ma wpływu na jego funckję spożywczą. W związku z czym kolumna koloru kapelusza zostaje usunięta."
      ],
      "metadata": {
        "id": "fDNxMjM4USCO"
      }
    },
    {
      "cell_type": "markdown",
      "source": [
        "#Na podstawie danych dostępnych w formie float wykonujemy pierwszą heatmapę"
      ],
      "metadata": {
        "id": "zYi2TVoQX-tR"
      }
    },
    {
      "cell_type": "code",
      "source": [
        "corr2=df.corr()"
      ],
      "metadata": {
        "id": "W7adqMPx43n5"
      },
      "execution_count": 46,
      "outputs": []
    },
    {
      "cell_type": "code",
      "source": [
        "plt.figure(figsize=(8,6))\n",
        "sns.heatmap(corr2)"
      ],
      "metadata": {
        "colab": {
          "base_uri": "https://localhost:8080/",
          "height": 493
        },
        "id": "HOEZNtKe5zfe",
        "outputId": "98669a19-f44c-4d58-b70b-a05369f6fe51"
      },
      "execution_count": 126,
      "outputs": [
        {
          "output_type": "execute_result",
          "data": {
            "text/plain": [
              "<matplotlib.axes._subplots.AxesSubplot at 0x7f4ec5190d10>"
            ]
          },
          "metadata": {},
          "execution_count": 126
        },
        {
          "output_type": "display_data",
          "data": {
            "text/plain": [
              "<Figure size 576x432 with 2 Axes>"
            ],
            "image/png": "[encoded data removed]"
          },
          "metadata": {
            "needs_background": "light"
          }
        }
      ]
    },
    {
      "cell_type": "markdown",
      "source": [
        "#Regresja logistyczna na podstawie powyższej heatmapy"
      ],
      "metadata": {
        "id": "tpsQ7cqOYG7-"
      }
    },
    {
      "cell_type": "code",
      "source": [
        "from sklearn.metrics import f1_score, precision_score, recall_score, confusion_matrix\n",
        "from sklearn.linear_model import LogisticRegression\n",
        "from sklearn.model_selection import train_test_split"
      ],
      "metadata": {
        "id": "qi1ueoRF7NGb"
      },
      "execution_count": 127,
      "outputs": []
    },
    {
      "cell_type": "code",
      "source": [
        "y=df['class']\n",
        "X=df[['has_ring', 'veil_type', 'stem_width', 'stem_height', 'does_bruise_or_bleed', 'cap_diameter']]"
      ],
      "metadata": {
        "id": "-3aYfJfq7P5m"
      },
      "execution_count": 128,
      "outputs": []
    },
    {
      "cell_type": "code",
      "source": [
        "X_train, X_test, y_train, y_test=train_test_split(X,y)"
      ],
      "metadata": {
        "id": "rZPb0eNr7stO"
      },
      "execution_count": 129,
      "outputs": []
    },
    {
      "cell_type": "code",
      "source": [
        "model=LogisticRegression()\n",
        "model.fit(X_train, y_train)"
      ],
      "metadata": {
        "colab": {
          "base_uri": "https://localhost:8080/"
        },
        "id": "LwzbIw4m7x4u",
        "outputId": "d85b2433-3a53-4116-e6cc-6c4beb507411"
      },
      "execution_count": 130,
      "outputs": [
        {
          "output_type": "execute_result",
          "data": {
            "text/plain": [
              "LogisticRegression()"
            ]
          },
          "metadata": {},
          "execution_count": 130
        }
      ]
    },
    {
      "cell_type": "code",
      "source": [
        "y_pred_train=model.predict(X_train)\n",
        "y_pred_test=model.predict(X_test)"
      ],
      "metadata": {
        "id": "A9JVES_w9lkz"
      },
      "execution_count": 131,
      "outputs": []
    },
    {
      "cell_type": "code",
      "source": [
        "from sklearn.metrics import confusion_matrix, classification_report "
      ],
      "metadata": {
        "id": "tepI40SD92eY"
      },
      "execution_count": 132,
      "outputs": []
    },
    {
      "cell_type": "code",
      "source": [
        "print(classification_report(y_test, y_pred_test))"
      ],
      "metadata": {
        "colab": {
          "base_uri": "https://localhost:8080/"
        },
        "id": "bdmrRt949qSI",
        "outputId": "9621a27c-58c3-43db-c1ca-002349dcfb25"
      },
      "execution_count": 133,
      "outputs": [
        {
          "output_type": "stream",
          "name": "stdout",
          "text": [
            "              precision    recall  f1-score   support\n",
            "\n",
            "         0.0       0.60      0.80      0.69      8546\n",
            "         1.0       0.57      0.33      0.42      6722\n",
            "\n",
            "    accuracy                           0.60     15268\n",
            "   macro avg       0.59      0.57      0.55     15268\n",
            "weighted avg       0.59      0.60      0.57     15268\n",
            "\n"
          ]
        }
      ]
    },
    {
      "cell_type": "code",
      "source": [
        "print(classification_report(y_train, y_pred_train))"
      ],
      "metadata": {
        "colab": {
          "base_uri": "https://localhost:8080/"
        },
        "id": "Gu2x7JYq94Zx",
        "outputId": "c8124ac6-d15e-4a96-c63c-21da69f8acb0"
      },
      "execution_count": 134,
      "outputs": [
        {
          "output_type": "stream",
          "name": "stdout",
          "text": [
            "              precision    recall  f1-score   support\n",
            "\n",
            "         0.0       0.60      0.80      0.69     25342\n",
            "         1.0       0.58      0.33      0.42     20459\n",
            "\n",
            "    accuracy                           0.59     45801\n",
            "   macro avg       0.59      0.57      0.55     45801\n",
            "weighted avg       0.59      0.59      0.57     45801\n",
            "\n"
          ]
        }
      ]
    },
    {
      "cell_type": "markdown",
      "source": [
        "Po powyższych wynikach, widać, że model nie jest dobrze wytrenowany, sprawdzamy CM"
      ],
      "metadata": {
        "id": "fDOpn77FYWs_"
      }
    },
    {
      "cell_type": "markdown",
      "source": [
        "Confusion matrix"
      ],
      "metadata": {
        "id": "OpfH__7GAf8C"
      }
    },
    {
      "cell_type": "code",
      "source": [
        "cm_train=confusion_matrix(y_train, y_pred_train)\n",
        "sns.heatmap(cm_train, annot=True, fmt='d')\n",
        "plt.show()"
      ],
      "metadata": {
        "colab": {
          "base_uri": "https://localhost:8080/",
          "height": 265
        },
        "id": "3iCy2661ASFW",
        "outputId": "49a1f126-0502-491d-b712-9d158abc0f1c"
      },
      "execution_count": 135,
      "outputs": [
        {
          "output_type": "display_data",
          "data": {
            "text/plain": [
              "<Figure size 432x288 with 2 Axes>"
            ],
            "image/png": "[encoded data removed]"
          },
          "metadata": {
            "needs_background": "light"
          }
        }
      ]
    },
    {
      "cell_type": "code",
      "source": [
        "cm_train=confusion_matrix(y_test, y_pred_test)\n",
        "sns.heatmap(cm_train, annot=True, fmt='d')\n",
        "plt.show()"
      ],
      "metadata": {
        "colab": {
          "base_uri": "https://localhost:8080/",
          "height": 265
        },
        "id": "Jid0-qy3AiXH",
        "outputId": "beddd63a-0337-4a0c-d6de-46aa38877f3b"
      },
      "execution_count": 136,
      "outputs": [
        {
          "output_type": "display_data",
          "data": {
            "text/plain": [
              "<Figure size 432x288 with 2 Axes>"
            ],
            "image/png": "[encoded data removed]"
          },
          "metadata": {
            "needs_background": "light"
          }
        }
      ]
    },
    {
      "cell_type": "markdown",
      "source": [
        "Krzywa ROC"
      ],
      "metadata": {
        "id": "CnKETdy6Avf1"
      }
    },
    {
      "cell_type": "code",
      "source": [
        "from sklearn.metrics import roc_curve, roc_auc_score"
      ],
      "metadata": {
        "id": "mP75Y3MWAk2S"
      },
      "execution_count": 58,
      "outputs": []
    },
    {
      "cell_type": "code",
      "source": [
        "fpr, tpr, thresholds=roc_curve(y_test, y_pred_test)"
      ],
      "metadata": {
        "id": "PElZkHx6Axnn"
      },
      "execution_count": 59,
      "outputs": []
    },
    {
      "cell_type": "code",
      "source": [
        "auc=roc_auc_score(y_test, y_pred_test)"
      ],
      "metadata": {
        "id": "ivCvpkzZBFD6"
      },
      "execution_count": 60,
      "outputs": []
    },
    {
      "cell_type": "code",
      "source": [
        "print('AUC: %.3f' % auc)"
      ],
      "metadata": {
        "colab": {
          "base_uri": "https://localhost:8080/"
        },
        "id": "R6UpOENMBGaZ",
        "outputId": "76a8b875-15c5-4554-a9c0-a25d9cec5a73"
      },
      "execution_count": 61,
      "outputs": [
        {
          "output_type": "stream",
          "name": "stdout",
          "text": [
            "AUC: 0.562\n"
          ]
        }
      ]
    },
    {
      "cell_type": "code",
      "source": [
        "help_prob=[0 for _ in range(len(y_test))]"
      ],
      "metadata": {
        "id": "xmtzfHRoBWO2"
      },
      "execution_count": 62,
      "outputs": []
    },
    {
      "cell_type": "code",
      "source": [
        "help_fpr, help_tpr, _=roc_curve(y_test, help_prob)"
      ],
      "metadata": {
        "id": "r7gGYfyjBXgW"
      },
      "execution_count": 63,
      "outputs": []
    },
    {
      "cell_type": "code",
      "source": [
        "plt.plot(help_fpr, help_tpr, linestyle='--', label='No model')\n",
        "plt.plot(fpr, tpr, marker='.', label='Logistic')\n",
        "plt.xlabel('False positive rate')\n",
        "plt.ylabel('True positive rate')\n",
        "plt.legend()\n",
        "plt.show()\n"
      ],
      "metadata": {
        "colab": {
          "base_uri": "https://localhost:8080/",
          "height": 279
        },
        "id": "-aiX-2BZBaIH",
        "outputId": "caec8d1f-d99b-4967-a497-503f1b0fee76"
      },
      "execution_count": 64,
      "outputs": [
        {
          "output_type": "display_data",
          "data": {
            "text/plain": [
              "<Figure size 432x288 with 1 Axes>"
            ],
            "image/png": "[encoded data removed]"
          },
          "metadata": {
            "needs_background": "light"
          }
        }
      ]
    },
    {
      "cell_type": "markdown",
      "source": [
        "Modele nie wychodzą dobrze, prawdopodobnie zbyt mała ilość danych. Poniżej opracowane zostaną kolejne kolumny w sposób numeryczny."
      ],
      "metadata": {
        "id": "rI2CXI1JBojK"
      }
    },
    {
      "cell_type": "code",
      "source": [
        "df.info()"
      ],
      "metadata": {
        "colab": {
          "base_uri": "https://localhost:8080/"
        },
        "id": "2L-ARH0lCICC",
        "outputId": "c944338a-fee7-43d9-cb15-69c4a7f096cb"
      },
      "execution_count": 65,
      "outputs": [
        {
          "output_type": "stream",
          "name": "stdout",
          "text": [
            "<class 'pandas.core.frame.DataFrame'>\n",
            "RangeIndex: 61069 entries, 0 to 61068\n",
            "Data columns (total 17 columns):\n",
            " #   Column                Non-Null Count  Dtype  \n",
            "---  ------                --------------  -----  \n",
            " 0   class                 61069 non-null  float64\n",
            " 1   cap_diameter          61069 non-null  float64\n",
            " 2   cap_shape             61069 non-null  object \n",
            " 3   cap_surface           46949 non-null  object \n",
            " 4   does_bruise_or_bleed  61069 non-null  float64\n",
            " 5   gill_attachment       51185 non-null  object \n",
            " 6   gill_spacing          61069 non-null  object \n",
            " 7   gill_color            61069 non-null  object \n",
            " 8   stem_height           61069 non-null  float64\n",
            " 9   stem_width            61069 non-null  float64\n",
            " 10  stem_surface          22945 non-null  object \n",
            " 11  stem_color            61069 non-null  object \n",
            " 12  veil_type             61069 non-null  float64\n",
            " 13  has_ring              61069 non-null  float64\n",
            " 14  ring_type             61069 non-null  object \n",
            " 15  habitat               61069 non-null  object \n",
            " 16  season                61069 non-null  object \n",
            "dtypes: float64(7), object(10)\n",
            "memory usage: 7.9+ MB\n"
          ]
        }
      ]
    },
    {
      "cell_type": "markdown",
      "source": [
        "Kształ kapelusza a rodzaj grzyba"
      ],
      "metadata": {
        "id": "F0StNgepfMhw"
      }
    },
    {
      "cell_type": "code",
      "source": [
        "set(df['cap_shape'])"
      ],
      "metadata": {
        "id": "riF7eRWKCKjp",
        "colab": {
          "base_uri": "https://localhost:8080/"
        },
        "outputId": "816fd05e-5d5b-426d-d4d1-4de144e4952d"
      },
      "execution_count": 66,
      "outputs": [
        {
          "output_type": "execute_result",
          "data": {
            "text/plain": [
              "{'b', 'c', 'f', 'o', 'p', 's', 'x'}"
            ]
          },
          "metadata": {},
          "execution_count": 66
        }
      ]
    },
    {
      "cell_type": "code",
      "source": [
        "plt.figure(figsize=(8,6))\n",
        "sns.countplot(x='class', data=df, hue=df['cap_shape'])\n",
        "plt.title('Podział grzybów, wg kształtu kapelusza', fontsize=16)"
      ],
      "metadata": {
        "colab": {
          "base_uri": "https://localhost:8080/",
          "height": 424
        },
        "id": "aitLt7_SdHuo",
        "outputId": "bdc3304e-84da-46ba-e275-0447616a994c"
      },
      "execution_count": 137,
      "outputs": [
        {
          "output_type": "execute_result",
          "data": {
            "text/plain": [
              "Text(0.5, 1.0, 'Podział grzybów, wg kształtu kapelusza')"
            ]
          },
          "metadata": {},
          "execution_count": 137
        },
        {
          "output_type": "display_data",
          "data": {
            "text/plain": [
              "<Figure size 576x432 with 1 Axes>"
            ],
            "image/png": "[encoded data removed]"
          },
          "metadata": {
            "needs_background": "light"
          }
        }
      ]
    },
    {
      "cell_type": "code",
      "source": [
        "df.drop(['cap_shape'], axis=1, inplace=True)"
      ],
      "metadata": {
        "id": "DNop50VGfGgn"
      },
      "execution_count": 138,
      "outputs": []
    },
    {
      "cell_type": "markdown",
      "source": [
        "Dominujace kształy kapelusza w obu grupach to convex=x oraz flat=f co świadczy o braku zależności między tym czynnikiem, na rodzajem grzybów."
      ],
      "metadata": {
        "id": "4yRyjeT7dt9Z"
      }
    },
    {
      "cell_type": "code",
      "source": [
        "plt.figure(figsize=(8,6))\n",
        "sns.countplot(x='class', data=df, hue=df['gill_attachment'])\n",
        "plt.title('Podział grzybów, wg blaszek', fontsize=16)"
      ],
      "metadata": {
        "colab": {
          "base_uri": "https://localhost:8080/",
          "height": 424
        },
        "id": "dvJ19YJtfKjX",
        "outputId": "972aa24d-0686-4a9c-8cc8-12148cdf542b"
      },
      "execution_count": 139,
      "outputs": [
        {
          "output_type": "execute_result",
          "data": {
            "text/plain": [
              "Text(0.5, 1.0, 'Podział grzybów, wg blaszek')"
            ]
          },
          "metadata": {},
          "execution_count": 139
        },
        {
          "output_type": "display_data",
          "data": {
            "text/plain": [
              "<Figure size 576x432 with 1 Axes>"
            ],
            "image/png": "[encoded data removed]"
          },
          "metadata": {
            "needs_background": "light"
          }
        }
      ]
    },
    {
      "cell_type": "markdown",
      "source": [
        "ozdobiony=a, załączony=x, zbieżny=d, wolny=e, sinusoidalny=s, pores=p, none=f, unknown=?"
      ],
      "metadata": {
        "id": "zS7cnHQzgxwv"
      }
    },
    {
      "cell_type": "markdown",
      "source": [
        "Bardzo duża różnorodność danych, widizmy, że w grupie trującej dominuja blaszki, ale w grupie jadalnej także stanowią one sporą grupę. Dane zostaną przerobione na 0 i 1"
      ],
      "metadata": {
        "id": "5owHVbv5hR_a"
      }
    },
    {
      "cell_type": "code",
      "source": [
        "gill_attach=pd.get_dummies(df['gill_attachment'], dummy_na=True, prefix='Gill_attachment')"
      ],
      "metadata": {
        "id": "bEHo3f93vfZ3"
      },
      "execution_count": 227,
      "outputs": []
    },
    {
      "cell_type": "code",
      "source": [
        "gill_attach"
      ],
      "metadata": {
        "id": "ZEm0Xow0ldpB"
      },
      "execution_count": null,
      "outputs": []
    },
    {
      "cell_type": "markdown",
      "source": [
        "Przypisujemy dane do nowego zbioru danych"
      ],
      "metadata": {
        "id": "9DhPRLAziY44"
      }
    },
    {
      "cell_type": "code",
      "source": [
        "df2 = pd.concat([df, gill_attach], axis=1)"
      ],
      "metadata": {
        "id": "6dyJASv0wseG"
      },
      "execution_count": 228,
      "outputs": []
    },
    {
      "cell_type": "code",
      "source": [
        "corr3=df2.corr()"
      ],
      "metadata": {
        "id": "pLNAagR9mfGp"
      },
      "execution_count": 142,
      "outputs": []
    },
    {
      "cell_type": "code",
      "source": [
        "plt.figure(figsize=(8,6))\n",
        "sns.heatmap(corr3)"
      ],
      "metadata": {
        "colab": {
          "base_uri": "https://localhost:8080/",
          "height": 493
        },
        "id": "tePOfwzYmiaA",
        "outputId": "bf143357-26e5-4913-a9ff-76e5618c3dea"
      },
      "execution_count": 143,
      "outputs": [
        {
          "output_type": "execute_result",
          "data": {
            "text/plain": [
              "<matplotlib.axes._subplots.AxesSubplot at 0x7f4ec54d7150>"
            ]
          },
          "metadata": {},
          "execution_count": 143
        },
        {
          "output_type": "display_data",
          "data": {
            "text/plain": [
              "<Figure size 576x432 with 2 Axes>"
            ],
            "image/png": "[encoded data removed]"
          },
          "metadata": {
            "needs_background": "light"
          }
        }
      ]
    },
    {
      "cell_type": "markdown",
      "source": [
        "Powyższa heatmapa niewiele mówi, dlatego podzielimy nowy zbiór na grzyby jadalne i niejadalne\n"
      ],
      "metadata": {
        "id": "lYJR4f9dySGv"
      }
    },
    {
      "cell_type": "markdown",
      "source": [
        "#Podział df2 na jadalne i niejadalne"
      ],
      "metadata": {
        "id": "V42IYaxNmrvg"
      }
    },
    {
      "cell_type": "code",
      "source": [
        "edible2=df2[df2['class']==1]"
      ],
      "metadata": {
        "id": "1uWwijcmnB6C"
      },
      "execution_count": 144,
      "outputs": []
    },
    {
      "cell_type": "code",
      "source": [
        "poisonous2=df2[df2['class']==0]"
      ],
      "metadata": {
        "id": "0swF39EwnEWw"
      },
      "execution_count": 145,
      "outputs": []
    },
    {
      "cell_type": "code",
      "source": [
        "corr4=edible2.corr()"
      ],
      "metadata": {
        "id": "cz41_k1dnJWw"
      },
      "execution_count": 146,
      "outputs": []
    },
    {
      "cell_type": "code",
      "source": [
        "plt.figure(figsize=(8,6))\n",
        "sns.heatmap(corr4)"
      ],
      "metadata": {
        "colab": {
          "base_uri": "https://localhost:8080/",
          "height": 493
        },
        "id": "7vP3joAmnPpI",
        "outputId": "c0d837fd-dba7-4fff-d256-712343e9506f"
      },
      "execution_count": 147,
      "outputs": [
        {
          "output_type": "execute_result",
          "data": {
            "text/plain": [
              "<matplotlib.axes._subplots.AxesSubplot at 0x7f4ec4f8e390>"
            ]
          },
          "metadata": {},
          "execution_count": 147
        },
        {
          "output_type": "display_data",
          "data": {
            "text/plain": [
              "<Figure size 576x432 with 2 Axes>"
            ],
            "image/png": "[encoded data removed]"
          },
          "metadata": {
            "needs_background": "light"
          }
        }
      ]
    },
    {
      "cell_type": "code",
      "source": [
        "corr5=poisonous2.corr()"
      ],
      "metadata": {
        "id": "1KwqlSp_ncYY"
      },
      "execution_count": 148,
      "outputs": []
    },
    {
      "cell_type": "code",
      "source": [
        "plt.figure(figsize=(8,6))\n",
        "sns.heatmap(corr5)"
      ],
      "metadata": {
        "colab": {
          "base_uri": "https://localhost:8080/",
          "height": 493
        },
        "id": "iHSVwnANngLY",
        "outputId": "250faa0c-8360-44a8-e2ec-4c079fd450c4"
      },
      "execution_count": 149,
      "outputs": [
        {
          "output_type": "execute_result",
          "data": {
            "text/plain": [
              "<matplotlib.axes._subplots.AxesSubplot at 0x7f4ec4ca83d0>"
            ]
          },
          "metadata": {},
          "execution_count": 149
        },
        {
          "output_type": "display_data",
          "data": {
            "text/plain": [
              "<Figure size 576x432 with 2 Axes>"
            ],
            "image/png": "[encoded data removed]"
          },
          "metadata": {
            "needs_background": "light"
          }
        }
      ]
    },
    {
      "cell_type": "markdown",
      "source": [
        "Dalsze oczyszczanie danych"
      ],
      "metadata": {
        "id": "iHW9ErfIhj60"
      }
    },
    {
      "cell_type": "code",
      "source": [
        "df2.info()"
      ],
      "metadata": {
        "colab": {
          "base_uri": "https://localhost:8080/"
        },
        "id": "cFAoZmMwhkUN",
        "outputId": "4a081f0b-e7b9-4f38-b6be-085118213ac4"
      },
      "execution_count": 203,
      "outputs": [
        {
          "output_type": "stream",
          "name": "stdout",
          "text": [
            "<class 'pandas.core.frame.DataFrame'>\n",
            "RangeIndex: 61069 entries, 0 to 61068\n",
            "Data columns (total 24 columns):\n",
            " #   Column                Non-Null Count  Dtype  \n",
            "---  ------                --------------  -----  \n",
            " 0   class                 61069 non-null  float64\n",
            " 1   cap_diameter          61069 non-null  float64\n",
            " 2   cap_surface           46949 non-null  object \n",
            " 3   does_bruise_or_bleed  61069 non-null  float64\n",
            " 4   gill_attachment       51185 non-null  object \n",
            " 5   gill_spacing          61069 non-null  object \n",
            " 6   gill_color            61069 non-null  object \n",
            " 7   stem_height           61069 non-null  float64\n",
            " 8   stem_width            61069 non-null  float64\n",
            " 9   stem_surface          22945 non-null  object \n",
            " 10  stem_color            61069 non-null  object \n",
            " 11  veil_type             61069 non-null  int64  \n",
            " 12  has_ring              61069 non-null  float64\n",
            " 13  ring_type             61069 non-null  object \n",
            " 14  habitat               61069 non-null  object \n",
            " 15  season                61069 non-null  object \n",
            " 16  Gill_attachment_a     61069 non-null  uint8  \n",
            " 17  Gill_attachment_d     61069 non-null  uint8  \n",
            " 18  Gill_attachment_e     61069 non-null  uint8  \n",
            " 19  Gill_attachment_f     61069 non-null  uint8  \n",
            " 20  Gill_attachment_p     61069 non-null  uint8  \n",
            " 21  Gill_attachment_s     61069 non-null  uint8  \n",
            " 22  Gill_attachment_x     61069 non-null  uint8  \n",
            " 23  Gill_attachment_nan   61069 non-null  uint8  \n",
            "dtypes: float64(6), int64(1), object(9), uint8(8)\n",
            "memory usage: 7.9+ MB\n"
          ]
        }
      ]
    },
    {
      "cell_type": "code",
      "source": [
        "ringtype_onehot=pd.get_dummies(df2['ring_type'])"
      ],
      "metadata": {
        "id": "XzzC_H3hh4h9"
      },
      "execution_count": 229,
      "outputs": []
    },
    {
      "cell_type": "code",
      "source": [
        "ringtype_onehot=ringtype_onehot.rename(columns={'f':'brak','m':'movable','y':'scaly','z':'zone','s':'sheathing','p':'pendant','l':'large','g':'grooved','r':'flaring'})"
      ],
      "metadata": {
        "id": "7RLztiwNkCGL"
      },
      "execution_count": 230,
      "outputs": []
    },
    {
      "cell_type": "code",
      "source": [
        "df2 = pd.concat([df2,ringtype_onehot ], axis=1)"
      ],
      "metadata": {
        "id": "YIqrH3GLkITa"
      },
      "execution_count": 231,
      "outputs": []
    },
    {
      "cell_type": "code",
      "source": [
        "habitat_onehot=pd.get_dummies(df2['habitat'])"
      ],
      "metadata": {
        "id": "cDWBLdg5kMTV"
      },
      "execution_count": 232,
      "outputs": []
    },
    {
      "cell_type": "code",
      "source": [
        "habitat_onehot=habitat_onehot.rename(columns={'l':'hab_leaves','m':'hab_meadows','p':'hab_paths','h':'hab_heaths','u':'hab_urban','w':'hab_waste','d':'hab_woods','g':'hab_grasses'})"
      ],
      "metadata": {
        "id": "HfOZy2RYkMkg"
      },
      "execution_count": 233,
      "outputs": []
    },
    {
      "cell_type": "code",
      "source": [
        "df2 = pd.concat([df2,habitat_onehot ], axis=1)"
      ],
      "metadata": {
        "id": "dbAqxH5VkWXG"
      },
      "execution_count": 234,
      "outputs": []
    },
    {
      "cell_type": "code",
      "source": [
        "seson_onehot=pd.get_dummies(df2['season'])"
      ],
      "metadata": {
        "id": "IgtNA793kWmh"
      },
      "execution_count": 235,
      "outputs": []
    },
    {
      "cell_type": "code",
      "source": [
        "seson_onehot=seson_onehot.rename(columns={'a':'seson_autumn','s':'seson_spring','u':'seson_sammer','w':'seson_winter'})"
      ],
      "metadata": {
        "id": "o8DMDBT7kW1C"
      },
      "execution_count": 237,
      "outputs": []
    },
    {
      "cell_type": "code",
      "source": [
        "df2 = pd.concat([df2,seson_onehot ],axis=1)"
      ],
      "metadata": {
        "id": "zLVSEAAfkf-4"
      },
      "execution_count": 238,
      "outputs": []
    },
    {
      "cell_type": "code",
      "source": [
        "df2.info()"
      ],
      "metadata": {
        "colab": {
          "base_uri": "https://localhost:8080/"
        },
        "id": "ghjZAghNkh9f",
        "outputId": "a3971b26-414a-4883-f96b-c2232e09c49e"
      },
      "execution_count": 239,
      "outputs": [
        {
          "output_type": "stream",
          "name": "stdout",
          "text": [
            "<class 'pandas.core.frame.DataFrame'>\n",
            "RangeIndex: 61069 entries, 0 to 61068\n",
            "Data columns (total 44 columns):\n",
            " #   Column                Non-Null Count  Dtype  \n",
            "---  ------                --------------  -----  \n",
            " 0   class                 61069 non-null  float64\n",
            " 1   cap_diameter          61069 non-null  float64\n",
            " 2   cap_surface           46949 non-null  object \n",
            " 3   does_bruise_or_bleed  61069 non-null  float64\n",
            " 4   gill_attachment       51185 non-null  object \n",
            " 5   gill_spacing          61069 non-null  object \n",
            " 6   gill_color            61069 non-null  object \n",
            " 7   stem_height           61069 non-null  float64\n",
            " 8   stem_width            61069 non-null  float64\n",
            " 9   stem_surface          22945 non-null  object \n",
            " 10  stem_color            61069 non-null  object \n",
            " 11  veil_type             61069 non-null  int64  \n",
            " 12  has_ring              61069 non-null  float64\n",
            " 13  ring_type             61069 non-null  object \n",
            " 14  habitat               61069 non-null  object \n",
            " 15  season                61069 non-null  object \n",
            " 16  Gill_attachment_a     61069 non-null  uint8  \n",
            " 17  Gill_attachment_d     61069 non-null  uint8  \n",
            " 18  Gill_attachment_e     61069 non-null  uint8  \n",
            " 19  Gill_attachment_f     61069 non-null  uint8  \n",
            " 20  Gill_attachment_p     61069 non-null  uint8  \n",
            " 21  Gill_attachment_s     61069 non-null  uint8  \n",
            " 22  Gill_attachment_x     61069 non-null  uint8  \n",
            " 23  Gill_attachment_nan   61069 non-null  uint8  \n",
            " 24  e                     61069 non-null  uint8  \n",
            " 25  brak                  61069 non-null  uint8  \n",
            " 26  grooved               61069 non-null  uint8  \n",
            " 27  large                 61069 non-null  uint8  \n",
            " 28  movable               61069 non-null  uint8  \n",
            " 29  pendant               61069 non-null  uint8  \n",
            " 30  flaring               61069 non-null  uint8  \n",
            " 31  zone                  61069 non-null  uint8  \n",
            " 32  hab_woods             61069 non-null  uint8  \n",
            " 33  hab_grasses           61069 non-null  uint8  \n",
            " 34  hab_heaths            61069 non-null  uint8  \n",
            " 35  hab_leaves            61069 non-null  uint8  \n",
            " 36  hab_meadows           61069 non-null  uint8  \n",
            " 37  hab_paths             61069 non-null  uint8  \n",
            " 38  hab_urban             61069 non-null  uint8  \n",
            " 39  hab_waste             61069 non-null  uint8  \n",
            " 40  seson_autumn          61069 non-null  uint8  \n",
            " 41  seson_spring          61069 non-null  uint8  \n",
            " 42  seson_sammer          61069 non-null  uint8  \n",
            " 43  seson_winter          61069 non-null  uint8  \n",
            "dtypes: float64(6), int64(1), object(9), uint8(28)\n",
            "memory usage: 9.1+ MB\n"
          ]
        }
      ]
    },
    {
      "cell_type": "code",
      "source": [
        "df2.drop(['stem_surface'], axis=1, inplace=True)"
      ],
      "metadata": {
        "id": "DeFW7hO7kjEv"
      },
      "execution_count": 240,
      "outputs": []
    },
    {
      "cell_type": "code",
      "source": [
        "df2.drop(['gill_attachment'], axis=1, inplace=True)"
      ],
      "metadata": {
        "id": "hVDJ9515le7Y"
      },
      "execution_count": 241,
      "outputs": []
    },
    {
      "cell_type": "markdown",
      "source": [
        "Z uwagi na małą ilość danych usuwamy kolumnę 'stem_surface'"
      ],
      "metadata": {
        "id": "ClBHxdSrk-kZ"
      }
    },
    {
      "cell_type": "code",
      "source": [
        "cap_surface_oh=pd.get_dummies(df2['cap_surface'], dummy_na=True, prefix='cap_surface')"
      ],
      "metadata": {
        "id": "S24VbFG4m57n"
      },
      "execution_count": 242,
      "outputs": []
    },
    {
      "cell_type": "code",
      "source": [
        "df2 = pd.concat([df2, cap_surface_oh], axis=1)"
      ],
      "metadata": {
        "id": "wqQ1QBLHnXd9"
      },
      "execution_count": 243,
      "outputs": []
    },
    {
      "cell_type": "code",
      "source": [
        "df2.drop(['cap_surface'], axis=1, inplace=True)"
      ],
      "metadata": {
        "id": "kscveaRNqz2J"
      },
      "execution_count": 244,
      "outputs": []
    },
    {
      "cell_type": "code",
      "source": [
        "df2.drop(['gill_attachment'], axis=1, inplace=True)"
      ],
      "metadata": {
        "id": "uZFhCTLcnl19"
      },
      "execution_count": null,
      "outputs": []
    },
    {
      "cell_type": "code",
      "source": [
        "df2.head()"
      ],
      "metadata": {
        "id": "9JqVlWuSndyA"
      },
      "execution_count": null,
      "outputs": []
    },
    {
      "cell_type": "code",
      "source": [
        "df2.drop(['stem_surface'], axis=1, inplace=True)"
      ],
      "metadata": {
        "id": "08hK1H9Rnerq"
      },
      "execution_count": null,
      "outputs": []
    },
    {
      "cell_type": "code",
      "source": [
        "gill_spacing_onehot=pd.get_dummies(df2['gill_spacing'], dummy_na=True, prefix='gill_space')"
      ],
      "metadata": {
        "id": "q_sUSGbfsNKc"
      },
      "execution_count": 222,
      "outputs": []
    },
    {
      "cell_type": "code",
      "source": [
        "df2 = pd.concat([df2, gill_spacing_onehot], axis=1)"
      ],
      "metadata": {
        "id": "OtQ3NNZss9R-"
      },
      "execution_count": 247,
      "outputs": []
    },
    {
      "cell_type": "code",
      "source": [
        "df2.drop(['gill_spacing'], axis=1, inplace=True)"
      ],
      "metadata": {
        "id": "P-_QRr77tOWs"
      },
      "execution_count": 248,
      "outputs": []
    },
    {
      "cell_type": "code",
      "source": [
        "gill_spacing_onehot=pd.get_dummies(df2['gill_spacing'], dummy_na=True, prefix='gill_space')"
      ],
      "metadata": {
        "id": "NB3ghYZzvV3x"
      },
      "execution_count": null,
      "outputs": []
    },
    {
      "cell_type": "code",
      "source": [
        "plt.figure(figsize=(8,6))\n",
        "sns.countplot(x='class', data=df2, hue=df['gill_color'])\n",
        "plt.title('Podział grzybów, wg koloru blaszek', fontsize=16)"
      ],
      "metadata": {
        "colab": {
          "base_uri": "https://localhost:8080/",
          "height": 424
        },
        "id": "pztxor9kviic",
        "outputId": "8dee17b5-33ea-4c8d-ecdc-ab944a12aa08"
      },
      "execution_count": 252,
      "outputs": [
        {
          "output_type": "execute_result",
          "data": {
            "text/plain": [
              "Text(0.5, 1.0, 'Podział grzybów, wg koloru blaszek')"
            ]
          },
          "metadata": {},
          "execution_count": 252
        },
        {
          "output_type": "display_data",
          "data": {
            "text/plain": [
              "<Figure size 576x432 with 1 Axes>"
            ],
            "image/png": "[encoded data removed]"
          },
          "metadata": {
            "needs_background": "light"
          }
        }
      ]
    },
    {
      "cell_type": "code",
      "source": [
        "gill_color_onehot=pd.get_dummies(df2['gill_color'], dummy_na=True, prefix='gill_color')"
      ],
      "metadata": {
        "id": "4gB_mHd7vwOT"
      },
      "execution_count": 253,
      "outputs": []
    },
    {
      "cell_type": "code",
      "source": [
        "df2 = pd.concat([df2, gill_color_onehot], axis=1)"
      ],
      "metadata": {
        "id": "HZF1jrXyv6sT"
      },
      "execution_count": 255,
      "outputs": []
    },
    {
      "cell_type": "code",
      "source": [
        "df2.drop(['gill_color'], axis=1, inplace=True)"
      ],
      "metadata": {
        "id": "mwyftQ2DwHeA"
      },
      "execution_count": 257,
      "outputs": []
    },
    {
      "cell_type": "code",
      "source": [
        "df2.info()"
      ],
      "metadata": {
        "colab": {
          "base_uri": "https://localhost:8080/"
        },
        "id": "a5lRETixsMMK",
        "outputId": "b601a6fd-2046-43ac-bc93-e81471944b78"
      },
      "execution_count": 258,
      "outputs": [
        {
          "output_type": "stream",
          "name": "stdout",
          "text": [
            "<class 'pandas.core.frame.DataFrame'>\n",
            "RangeIndex: 61069 entries, 0 to 61068\n",
            "Data columns (total 68 columns):\n",
            " #   Column                Non-Null Count  Dtype  \n",
            "---  ------                --------------  -----  \n",
            " 0   class                 61069 non-null  float64\n",
            " 1   cap_diameter          61069 non-null  float64\n",
            " 2   does_bruise_or_bleed  61069 non-null  float64\n",
            " 3   stem_height           61069 non-null  float64\n",
            " 4   stem_width            61069 non-null  float64\n",
            " 5   stem_color            61069 non-null  object \n",
            " 6   veil_type             61069 non-null  int64  \n",
            " 7   has_ring              61069 non-null  float64\n",
            " 8   ring_type             61069 non-null  object \n",
            " 9   habitat               61069 non-null  object \n",
            " 10  season                61069 non-null  object \n",
            " 11  Gill_attachment_a     61069 non-null  uint8  \n",
            " 12  Gill_attachment_d     61069 non-null  uint8  \n",
            " 13  Gill_attachment_e     61069 non-null  uint8  \n",
            " 14  Gill_attachment_f     61069 non-null  uint8  \n",
            " 15  Gill_attachment_p     61069 non-null  uint8  \n",
            " 16  Gill_attachment_s     61069 non-null  uint8  \n",
            " 17  Gill_attachment_x     61069 non-null  uint8  \n",
            " 18  Gill_attachment_nan   61069 non-null  uint8  \n",
            " 19  e                     61069 non-null  uint8  \n",
            " 20  brak                  61069 non-null  uint8  \n",
            " 21  grooved               61069 non-null  uint8  \n",
            " 22  large                 61069 non-null  uint8  \n",
            " 23  movable               61069 non-null  uint8  \n",
            " 24  pendant               61069 non-null  uint8  \n",
            " 25  flaring               61069 non-null  uint8  \n",
            " 26  zone                  61069 non-null  uint8  \n",
            " 27  hab_woods             61069 non-null  uint8  \n",
            " 28  hab_grasses           61069 non-null  uint8  \n",
            " 29  hab_heaths            61069 non-null  uint8  \n",
            " 30  hab_leaves            61069 non-null  uint8  \n",
            " 31  hab_meadows           61069 non-null  uint8  \n",
            " 32  hab_paths             61069 non-null  uint8  \n",
            " 33  hab_urban             61069 non-null  uint8  \n",
            " 34  hab_waste             61069 non-null  uint8  \n",
            " 35  seson_autumn          61069 non-null  uint8  \n",
            " 36  seson_spring          61069 non-null  uint8  \n",
            " 37  seson_sammer          61069 non-null  uint8  \n",
            " 38  seson_winter          61069 non-null  uint8  \n",
            " 39  cap_surface_d         61069 non-null  uint8  \n",
            " 40  cap_surface_e         61069 non-null  uint8  \n",
            " 41  cap_surface_g         61069 non-null  uint8  \n",
            " 42  cap_surface_h         61069 non-null  uint8  \n",
            " 43  cap_surface_i         61069 non-null  uint8  \n",
            " 44  cap_surface_k         61069 non-null  uint8  \n",
            " 45  cap_surface_l         61069 non-null  uint8  \n",
            " 46  cap_surface_s         61069 non-null  uint8  \n",
            " 47  cap_surface_t         61069 non-null  uint8  \n",
            " 48  cap_surface_w         61069 non-null  uint8  \n",
            " 49  cap_surface_y         61069 non-null  uint8  \n",
            " 50  cap_surface_nan       61069 non-null  uint8  \n",
            " 51  gill_space_c          61069 non-null  uint8  \n",
            " 52  gill_space_d          61069 non-null  uint8  \n",
            " 53  gill_space_f          61069 non-null  uint8  \n",
            " 54  gill_space_nan        61069 non-null  uint8  \n",
            " 55  gill_color_b          61069 non-null  uint8  \n",
            " 56  gill_color_e          61069 non-null  uint8  \n",
            " 57  gill_color_f          61069 non-null  uint8  \n",
            " 58  gill_color_g          61069 non-null  uint8  \n",
            " 59  gill_color_k          61069 non-null  uint8  \n",
            " 60  gill_color_n          61069 non-null  uint8  \n",
            " 61  gill_color_o          61069 non-null  uint8  \n",
            " 62  gill_color_p          61069 non-null  uint8  \n",
            " 63  gill_color_r          61069 non-null  uint8  \n",
            " 64  gill_color_u          61069 non-null  uint8  \n",
            " 65  gill_color_w          61069 non-null  uint8  \n",
            " 66  gill_color_y          61069 non-null  uint8  \n",
            " 67  gill_color_nan        61069 non-null  uint8  \n",
            "dtypes: float64(6), int64(1), object(4), uint8(57)\n",
            "memory usage: 8.4+ MB\n"
          ]
        }
      ]
    },
    {
      "cell_type": "code",
      "source": [
        "plt.figure(figsize=(8,6))\n",
        "sns.countplot(x='class', data=df2, hue=df['stem_color'])\n",
        "plt.title('Podział grzybów, wg koloru łodygi', fontsize=16)"
      ],
      "metadata": {
        "colab": {
          "base_uri": "https://localhost:8080/",
          "height": 424
        },
        "id": "g2gbJLajwxAj",
        "outputId": "b81e4b0c-41d1-45be-e3ac-ac2e4d5b16d5"
      },
      "execution_count": 259,
      "outputs": [
        {
          "output_type": "execute_result",
          "data": {
            "text/plain": [
              "Text(0.5, 1.0, 'Podział grzybów, wg koloru łodygi')"
            ]
          },
          "metadata": {},
          "execution_count": 259
        },
        {
          "output_type": "display_data",
          "data": {
            "text/plain": [
              "<Figure size 576x432 with 1 Axes>"
            ],
            "image/png": "[encoded data removed]"
          },
          "metadata": {
            "needs_background": "light"
          }
        }
      ]
    },
    {
      "cell_type": "markdown",
      "source": [
        "Przeważają te same dane, usuwam kolor łodyg"
      ],
      "metadata": {
        "id": "WOPm25Thw3FC"
      }
    },
    {
      "cell_type": "code",
      "source": [
        "df2.drop(['stem_color'], axis=1, inplace=True)"
      ],
      "metadata": {
        "id": "xOY18VIcw6G5"
      },
      "execution_count": 260,
      "outputs": []
    },
    {
      "cell_type": "code",
      "source": [
        "df2.drop(['season'], axis=1, inplace=True)"
      ],
      "metadata": {
        "id": "Z6gGdAgVxdV1"
      },
      "execution_count": 262,
      "outputs": []
    },
    {
      "cell_type": "code",
      "source": [
        "df2.drop(['habitat'], axis=1, inplace=True)"
      ],
      "metadata": {
        "id": "0cTupDzMxjH2"
      },
      "execution_count": 263,
      "outputs": []
    },
    {
      "cell_type": "code",
      "source": [
        "df2.info()"
      ],
      "metadata": {
        "colab": {
          "base_uri": "https://localhost:8080/"
        },
        "id": "uEWHDvs9xCFB",
        "outputId": "7e3f5fe8-1352-4f45-954f-d400ad389c55"
      },
      "execution_count": 264,
      "outputs": [
        {
          "output_type": "stream",
          "name": "stdout",
          "text": [
            "<class 'pandas.core.frame.DataFrame'>\n",
            "RangeIndex: 61069 entries, 0 to 61068\n",
            "Data columns (total 65 columns):\n",
            " #   Column                Non-Null Count  Dtype  \n",
            "---  ------                --------------  -----  \n",
            " 0   class                 61069 non-null  float64\n",
            " 1   cap_diameter          61069 non-null  float64\n",
            " 2   does_bruise_or_bleed  61069 non-null  float64\n",
            " 3   stem_height           61069 non-null  float64\n",
            " 4   stem_width            61069 non-null  float64\n",
            " 5   veil_type             61069 non-null  int64  \n",
            " 6   has_ring              61069 non-null  float64\n",
            " 7   ring_type             61069 non-null  object \n",
            " 8   Gill_attachment_a     61069 non-null  uint8  \n",
            " 9   Gill_attachment_d     61069 non-null  uint8  \n",
            " 10  Gill_attachment_e     61069 non-null  uint8  \n",
            " 11  Gill_attachment_f     61069 non-null  uint8  \n",
            " 12  Gill_attachment_p     61069 non-null  uint8  \n",
            " 13  Gill_attachment_s     61069 non-null  uint8  \n",
            " 14  Gill_attachment_x     61069 non-null  uint8  \n",
            " 15  Gill_attachment_nan   61069 non-null  uint8  \n",
            " 16  e                     61069 non-null  uint8  \n",
            " 17  brak                  61069 non-null  uint8  \n",
            " 18  grooved               61069 non-null  uint8  \n",
            " 19  large                 61069 non-null  uint8  \n",
            " 20  movable               61069 non-null  uint8  \n",
            " 21  pendant               61069 non-null  uint8  \n",
            " 22  flaring               61069 non-null  uint8  \n",
            " 23  zone                  61069 non-null  uint8  \n",
            " 24  hab_woods             61069 non-null  uint8  \n",
            " 25  hab_grasses           61069 non-null  uint8  \n",
            " 26  hab_heaths            61069 non-null  uint8  \n",
            " 27  hab_leaves            61069 non-null  uint8  \n",
            " 28  hab_meadows           61069 non-null  uint8  \n",
            " 29  hab_paths             61069 non-null  uint8  \n",
            " 30  hab_urban             61069 non-null  uint8  \n",
            " 31  hab_waste             61069 non-null  uint8  \n",
            " 32  seson_autumn          61069 non-null  uint8  \n",
            " 33  seson_spring          61069 non-null  uint8  \n",
            " 34  seson_sammer          61069 non-null  uint8  \n",
            " 35  seson_winter          61069 non-null  uint8  \n",
            " 36  cap_surface_d         61069 non-null  uint8  \n",
            " 37  cap_surface_e         61069 non-null  uint8  \n",
            " 38  cap_surface_g         61069 non-null  uint8  \n",
            " 39  cap_surface_h         61069 non-null  uint8  \n",
            " 40  cap_surface_i         61069 non-null  uint8  \n",
            " 41  cap_surface_k         61069 non-null  uint8  \n",
            " 42  cap_surface_l         61069 non-null  uint8  \n",
            " 43  cap_surface_s         61069 non-null  uint8  \n",
            " 44  cap_surface_t         61069 non-null  uint8  \n",
            " 45  cap_surface_w         61069 non-null  uint8  \n",
            " 46  cap_surface_y         61069 non-null  uint8  \n",
            " 47  cap_surface_nan       61069 non-null  uint8  \n",
            " 48  gill_space_c          61069 non-null  uint8  \n",
            " 49  gill_space_d          61069 non-null  uint8  \n",
            " 50  gill_space_f          61069 non-null  uint8  \n",
            " 51  gill_space_nan        61069 non-null  uint8  \n",
            " 52  gill_color_b          61069 non-null  uint8  \n",
            " 53  gill_color_e          61069 non-null  uint8  \n",
            " 54  gill_color_f          61069 non-null  uint8  \n",
            " 55  gill_color_g          61069 non-null  uint8  \n",
            " 56  gill_color_k          61069 non-null  uint8  \n",
            " 57  gill_color_n          61069 non-null  uint8  \n",
            " 58  gill_color_o          61069 non-null  uint8  \n",
            " 59  gill_color_p          61069 non-null  uint8  \n",
            " 60  gill_color_r          61069 non-null  uint8  \n",
            " 61  gill_color_u          61069 non-null  uint8  \n",
            " 62  gill_color_w          61069 non-null  uint8  \n",
            " 63  gill_color_y          61069 non-null  uint8  \n",
            " 64  gill_color_nan        61069 non-null  uint8  \n",
            "dtypes: float64(6), int64(1), object(1), uint8(57)\n",
            "memory usage: 7.0+ MB\n"
          ]
        }
      ]
    },
    {
      "cell_type": "code",
      "source": [
        "ring_type_onehot=pd.get_dummies(df2['ring_type'], dummy_na=True, prefix='ring_type')"
      ],
      "metadata": {
        "id": "gxPNRn8sxC99"
      },
      "execution_count": 265,
      "outputs": []
    },
    {
      "cell_type": "code",
      "source": [
        "df2 = pd.concat([df2, ring_type_onehot], axis=1)"
      ],
      "metadata": {
        "id": "ocfYB2Ejx9zc"
      },
      "execution_count": 266,
      "outputs": []
    },
    {
      "cell_type": "code",
      "source": [
        "df2.drop(['ring_type'], axis=1, inplace=True)"
      ],
      "metadata": {
        "id": "azChD_PeyJtP"
      },
      "execution_count": 267,
      "outputs": []
    },
    {
      "cell_type": "code",
      "source": [
        "df2.info()"
      ],
      "metadata": {
        "colab": {
          "base_uri": "https://localhost:8080/"
        },
        "id": "n40NlCCeyQyJ",
        "outputId": "dbb65d54-edd4-4769-9e6d-2fb0ed4a8615"
      },
      "execution_count": 268,
      "outputs": [
        {
          "output_type": "stream",
          "name": "stdout",
          "text": [
            "<class 'pandas.core.frame.DataFrame'>\n",
            "RangeIndex: 61069 entries, 0 to 61068\n",
            "Data columns (total 73 columns):\n",
            " #   Column                Non-Null Count  Dtype  \n",
            "---  ------                --------------  -----  \n",
            " 0   class                 61069 non-null  float64\n",
            " 1   cap_diameter          61069 non-null  float64\n",
            " 2   does_bruise_or_bleed  61069 non-null  float64\n",
            " 3   stem_height           61069 non-null  float64\n",
            " 4   stem_width            61069 non-null  float64\n",
            " 5   veil_type             61069 non-null  int64  \n",
            " 6   has_ring              61069 non-null  float64\n",
            " 7   Gill_attachment_a     61069 non-null  uint8  \n",
            " 8   Gill_attachment_d     61069 non-null  uint8  \n",
            " 9   Gill_attachment_e     61069 non-null  uint8  \n",
            " 10  Gill_attachment_f     61069 non-null  uint8  \n",
            " 11  Gill_attachment_p     61069 non-null  uint8  \n",
            " 12  Gill_attachment_s     61069 non-null  uint8  \n",
            " 13  Gill_attachment_x     61069 non-null  uint8  \n",
            " 14  Gill_attachment_nan   61069 non-null  uint8  \n",
            " 15  e                     61069 non-null  uint8  \n",
            " 16  brak                  61069 non-null  uint8  \n",
            " 17  grooved               61069 non-null  uint8  \n",
            " 18  large                 61069 non-null  uint8  \n",
            " 19  movable               61069 non-null  uint8  \n",
            " 20  pendant               61069 non-null  uint8  \n",
            " 21  flaring               61069 non-null  uint8  \n",
            " 22  zone                  61069 non-null  uint8  \n",
            " 23  hab_woods             61069 non-null  uint8  \n",
            " 24  hab_grasses           61069 non-null  uint8  \n",
            " 25  hab_heaths            61069 non-null  uint8  \n",
            " 26  hab_leaves            61069 non-null  uint8  \n",
            " 27  hab_meadows           61069 non-null  uint8  \n",
            " 28  hab_paths             61069 non-null  uint8  \n",
            " 29  hab_urban             61069 non-null  uint8  \n",
            " 30  hab_waste             61069 non-null  uint8  \n",
            " 31  seson_autumn          61069 non-null  uint8  \n",
            " 32  seson_spring          61069 non-null  uint8  \n",
            " 33  seson_sammer          61069 non-null  uint8  \n",
            " 34  seson_winter          61069 non-null  uint8  \n",
            " 35  cap_surface_d         61069 non-null  uint8  \n",
            " 36  cap_surface_e         61069 non-null  uint8  \n",
            " 37  cap_surface_g         61069 non-null  uint8  \n",
            " 38  cap_surface_h         61069 non-null  uint8  \n",
            " 39  cap_surface_i         61069 non-null  uint8  \n",
            " 40  cap_surface_k         61069 non-null  uint8  \n",
            " 41  cap_surface_l         61069 non-null  uint8  \n",
            " 42  cap_surface_s         61069 non-null  uint8  \n",
            " 43  cap_surface_t         61069 non-null  uint8  \n",
            " 44  cap_surface_w         61069 non-null  uint8  \n",
            " 45  cap_surface_y         61069 non-null  uint8  \n",
            " 46  cap_surface_nan       61069 non-null  uint8  \n",
            " 47  gill_space_c          61069 non-null  uint8  \n",
            " 48  gill_space_d          61069 non-null  uint8  \n",
            " 49  gill_space_f          61069 non-null  uint8  \n",
            " 50  gill_space_nan        61069 non-null  uint8  \n",
            " 51  gill_color_b          61069 non-null  uint8  \n",
            " 52  gill_color_e          61069 non-null  uint8  \n",
            " 53  gill_color_f          61069 non-null  uint8  \n",
            " 54  gill_color_g          61069 non-null  uint8  \n",
            " 55  gill_color_k          61069 non-null  uint8  \n",
            " 56  gill_color_n          61069 non-null  uint8  \n",
            " 57  gill_color_o          61069 non-null  uint8  \n",
            " 58  gill_color_p          61069 non-null  uint8  \n",
            " 59  gill_color_r          61069 non-null  uint8  \n",
            " 60  gill_color_u          61069 non-null  uint8  \n",
            " 61  gill_color_w          61069 non-null  uint8  \n",
            " 62  gill_color_y          61069 non-null  uint8  \n",
            " 63  gill_color_nan        61069 non-null  uint8  \n",
            " 64  ring_type_e           61069 non-null  uint8  \n",
            " 65  ring_type_f           61069 non-null  uint8  \n",
            " 66  ring_type_g           61069 non-null  uint8  \n",
            " 67  ring_type_l           61069 non-null  uint8  \n",
            " 68  ring_type_m           61069 non-null  uint8  \n",
            " 69  ring_type_p           61069 non-null  uint8  \n",
            " 70  ring_type_r           61069 non-null  uint8  \n",
            " 71  ring_type_z           61069 non-null  uint8  \n",
            " 72  ring_type_nan         61069 non-null  uint8  \n",
            "dtypes: float64(6), int64(1), uint8(66)\n",
            "memory usage: 7.1 MB\n"
          ]
        }
      ]
    },
    {
      "cell_type": "code",
      "source": [
        "corr6=df2.corr()"
      ],
      "metadata": {
        "id": "WrgsLizjApPJ"
      },
      "execution_count": 299,
      "outputs": []
    },
    {
      "cell_type": "markdown",
      "source": [
        "#Regresja logistyczna na oczyszczonych danych\n"
      ],
      "metadata": {
        "id": "OogAvSPKyY2h"
      }
    },
    {
      "cell_type": "code",
      "source": [
        "df2.info()"
      ],
      "metadata": {
        "id": "YPkhzITlHv0-"
      },
      "execution_count": null,
      "outputs": []
    },
    {
      "cell_type": "code",
      "source": [
        "y2=df2.pop('class')\n",
        "X2=df2"
      ],
      "metadata": {
        "id": "tAe5k6h_yS9r"
      },
      "execution_count": 269,
      "outputs": []
    },
    {
      "cell_type": "code",
      "source": [
        "X2_train, X2_test, y2_train, y2_test=train_test_split(X2,y2, test_size=0.2, random_state=123)"
      ],
      "metadata": {
        "id": "H85YU3VaywRr"
      },
      "execution_count": 272,
      "outputs": []
    },
    {
      "cell_type": "code",
      "source": [
        "model=LogisticRegression()\n",
        "model.fit(X2_train, y2_train)"
      ],
      "metadata": {
        "colab": {
          "base_uri": "https://localhost:8080/"
        },
        "id": "kAfXyO-BzL9z",
        "outputId": "5c1df0d2-2f29-4185-e2ad-b61d1bc310cf"
      },
      "execution_count": 273,
      "outputs": [
        {
          "output_type": "stream",
          "name": "stderr",
          "text": [
            "/usr/local/lib/python3.7/dist-packages/sklearn/linear_model/_logistic.py:818: ConvergenceWarning: lbfgs failed to converge (status=1):\n",
            "STOP: TOTAL NO. of ITERATIONS REACHED LIMIT.\n",
            "\n",
            "Increase the number of iterations (max_iter) or scale the data as shown in:\n",
            "    https://scikit-learn.org/stable/modules/preprocessing.html\n",
            "Please also refer to the documentation for alternative solver options:\n",
            "    https://scikit-learn.org/stable/modules/linear_model.html#logistic-regression\n",
            "  extra_warning_msg=_LOGISTIC_SOLVER_CONVERGENCE_MSG,\n"
          ]
        },
        {
          "output_type": "execute_result",
          "data": {
            "text/plain": [
              "LogisticRegression()"
            ]
          },
          "metadata": {},
          "execution_count": 273
        }
      ]
    },
    {
      "cell_type": "code",
      "source": [
        "y2_pred_train=model.predict(X2_train)\n",
        "y2_pred_test=model.predict(X2_test)"
      ],
      "metadata": {
        "id": "rNbI3IaAzTi-"
      },
      "execution_count": 274,
      "outputs": []
    },
    {
      "cell_type": "code",
      "source": [
        "print(classification_report(y2_train, y2_pred_train))"
      ],
      "metadata": {
        "colab": {
          "base_uri": "https://localhost:8080/"
        },
        "id": "-a4aBDBNzhoh",
        "outputId": "5f7a7d5f-a33f-46c6-85b7-dd51e7fa540f"
      },
      "execution_count": 275,
      "outputs": [
        {
          "output_type": "stream",
          "name": "stdout",
          "text": [
            "              precision    recall  f1-score   support\n",
            "\n",
            "         0.0       0.74      0.79      0.77     27143\n",
            "         1.0       0.72      0.66      0.69     21712\n",
            "\n",
            "    accuracy                           0.73     48855\n",
            "   macro avg       0.73      0.73      0.73     48855\n",
            "weighted avg       0.73      0.73      0.73     48855\n",
            "\n"
          ]
        }
      ]
    },
    {
      "cell_type": "code",
      "source": [
        "print(classification_report(y2_test, y2_pred_test))"
      ],
      "metadata": {
        "colab": {
          "base_uri": "https://localhost:8080/"
        },
        "id": "xhjKQZ0tz17W",
        "outputId": "bd0b81b4-d2bd-458c-d56c-dbc7647fda80"
      },
      "execution_count": 276,
      "outputs": [
        {
          "output_type": "stream",
          "name": "stdout",
          "text": [
            "              precision    recall  f1-score   support\n",
            "\n",
            "         0.0       0.74      0.79      0.76      6745\n",
            "         1.0       0.72      0.65      0.68      5469\n",
            "\n",
            "    accuracy                           0.73     12214\n",
            "   macro avg       0.73      0.72      0.72     12214\n",
            "weighted avg       0.73      0.73      0.73     12214\n",
            "\n"
          ]
        }
      ]
    },
    {
      "cell_type": "code",
      "source": [
        "cm_train=confusion_matrix(y2_train, y2_pred_train)\n",
        "sns.heatmap(cm_train, annot=True, fmt='d')\n",
        "plt.show()"
      ],
      "metadata": {
        "colab": {
          "base_uri": "https://localhost:8080/",
          "height": 265
        },
        "id": "7rkYvRU80FPD",
        "outputId": "1874abff-d548-4824-fd00-35b11abb1422"
      },
      "execution_count": 277,
      "outputs": [
        {
          "output_type": "display_data",
          "data": {
            "text/plain": [
              "<Figure size 432x288 with 2 Axes>"
            ],
            "image/png": "[encoded data removed]"
          },
          "metadata": {
            "needs_background": "light"
          }
        }
      ]
    },
    {
      "cell_type": "code",
      "source": [
        "cm_train=confusion_matrix(y2_test, y2_pred_test)\n",
        "sns.heatmap(cm_train, annot=True, fmt='d')\n",
        "plt.show()"
      ],
      "metadata": {
        "colab": {
          "base_uri": "https://localhost:8080/",
          "height": 265
        },
        "id": "FnftW-nM0LD4",
        "outputId": "3c3ae0e6-a524-44bc-b889-0143936b2fe0"
      },
      "execution_count": 278,
      "outputs": [
        {
          "output_type": "display_data",
          "data": {
            "text/plain": [
              "<Figure size 432x288 with 2 Axes>"
            ],
            "image/png": "[encoded data removed]"
          },
          "metadata": {
            "needs_background": "light"
          }
        }
      ]
    },
    {
      "cell_type": "markdown",
      "source": [
        "#Drzewo decyzyjne"
      ],
      "metadata": {
        "id": "7GlvTE8j0SIu"
      }
    },
    {
      "cell_type": "code",
      "source": [
        "from sklearn.tree import DecisionTreeClassifier"
      ],
      "metadata": {
        "id": "REzjL-2d0FTK"
      },
      "execution_count": 279,
      "outputs": []
    },
    {
      "cell_type": "code",
      "source": [
        "dt=DecisionTreeClassifier()\n",
        "dt.fit(X2_train, y2_train)\n",
        "y_dt=dt.predict(X2_test)"
      ],
      "metadata": {
        "id": "mYbDYXeo4Pzn"
      },
      "execution_count": 281,
      "outputs": []
    },
    {
      "cell_type": "code",
      "source": [
        "y_dt_train=dt.predict(X2_train)"
      ],
      "metadata": {
        "id": "I4WEghMH5QlY"
      },
      "execution_count": 282,
      "outputs": []
    },
    {
      "cell_type": "code",
      "source": [
        "print(classification_report(y2_test, y_dt ))"
      ],
      "metadata": {
        "colab": {
          "base_uri": "https://localhost:8080/"
        },
        "id": "GCzjoRx46lrL",
        "outputId": "81ddb70f-3319-48c1-b7d0-13b31efe8240"
      },
      "execution_count": 285,
      "outputs": [
        {
          "output_type": "stream",
          "name": "stdout",
          "text": [
            "              precision    recall  f1-score   support\n",
            "\n",
            "         0.0       1.00      1.00      1.00      6745\n",
            "         1.0       1.00      1.00      1.00      5469\n",
            "\n",
            "    accuracy                           1.00     12214\n",
            "   macro avg       1.00      1.00      1.00     12214\n",
            "weighted avg       1.00      1.00      1.00     12214\n",
            "\n"
          ]
        }
      ]
    },
    {
      "cell_type": "markdown",
      "source": [
        "#SVC transformacja przestrzeni"
      ],
      "metadata": {
        "id": "_qBd_BDH8F65"
      }
    },
    {
      "cell_type": "code",
      "source": [
        "from sklearn.svm import SVC"
      ],
      "metadata": {
        "id": "l5RE2Yfh76P5"
      },
      "execution_count": 286,
      "outputs": []
    },
    {
      "cell_type": "code",
      "source": [
        "df2.head()"
      ],
      "metadata": {
        "colab": {
          "base_uri": "https://localhost:8080/",
          "height": 300
        },
        "id": "mdqGy4w_8PhA",
        "outputId": "2013008f-bddd-442a-aa0d-a56753b58ea8"
      },
      "execution_count": 295,
      "outputs": [
        {
          "output_type": "execute_result",
          "data": {
            "text/plain": [
              "   cap_diameter  does_bruise_or_bleed  stem_height  stem_width  veil_type  \\\n",
              "0         15.26                   1.0        16.95       17.09          1   \n",
              "1         16.60                   1.0        17.99       18.19          1   \n",
              "2         14.07                   1.0        17.80       17.74          1   \n",
              "3         14.17                   1.0        15.77       15.98          1   \n",
              "4         14.64                   1.0        16.53       17.20          1   \n",
              "\n",
              "   has_ring  Gill_attachment_a  Gill_attachment_d  Gill_attachment_e  \\\n",
              "0       2.0                  0                  0                  1   \n",
              "1       2.0                  0                  0                  1   \n",
              "2       2.0                  0                  0                  1   \n",
              "3       2.0                  0                  0                  1   \n",
              "4       2.0                  0                  0                  1   \n",
              "\n",
              "   Gill_attachment_f  ...  gill_color_nan  ring_type_e  ring_type_f  \\\n",
              "0                  0  ...               0            0            0   \n",
              "1                  0  ...               0            0            0   \n",
              "2                  0  ...               0            0            0   \n",
              "3                  0  ...               0            0            0   \n",
              "4                  0  ...               0            0            0   \n",
              "\n",
              "   ring_type_g  ring_type_l  ring_type_m  ring_type_p  ring_type_r  \\\n",
              "0            1            0            0            0            0   \n",
              "1            1            0            0            0            0   \n",
              "2            1            0            0            0            0   \n",
              "3            0            0            0            1            0   \n",
              "4            0            0            0            1            0   \n",
              "\n",
              "   ring_type_z  ring_type_nan  \n",
              "0            0              0  \n",
              "1            0              0  \n",
              "2            0              0  \n",
              "3            0              0  \n",
              "4            0              0  \n",
              "\n",
              "[5 rows x 72 columns]"
            ],
            "text/html": [
              "\n",
              "  <div id=\"df-f714fba3-6771-4b3f-b29f-dd9b0cfebb61\">\n",
              "    <div class=\"colab-df-container\">\n",
              "      <div>\n",
              "<style scoped>\n",
              "    .dataframe tbody tr th:only-of-type {\n",
              "        vertical-align: middle;\n",
              "    }\n",
              "\n",
              "    .dataframe tbody tr th {\n",
              "        vertical-align: top;\n",
              "    }\n",
              "\n",
              "    .dataframe thead th {\n",
              "        text-align: right;\n",
              "    }\n",
              "</style>\n",
              "<table border=\"1\" class=\"dataframe\">\n",
              "  <thead>\n",
              "    <tr style=\"text-align: right;\">\n",
              "      <th></th>\n",
              "      <th>cap_diameter</th>\n",
              "      <th>does_bruise_or_bleed</th>\n",
              "      <th>stem_height</th>\n",
              "      <th>stem_width</th>\n",
              "      <th>veil_type</th>\n",
              "      <th>has_ring</th>\n",
              "      <th>Gill_attachment_a</th>\n",
              "      <th>Gill_attachment_d</th>\n",
              "      <th>Gill_attachment_e</th>\n",
              "      <th>Gill_attachment_f</th>\n",
              "      <th>...</th>\n",
              "      <th>gill_color_nan</th>\n",
              "      <th>ring_type_e</th>\n",
              "      <th>ring_type_f</th>\n",
              "      <th>ring_type_g</th>\n",
              "      <th>ring_type_l</th>\n",
              "      <th>ring_type_m</th>\n",
              "      <th>ring_type_p</th>\n",
              "      <th>ring_type_r</th>\n",
              "      <th>ring_type_z</th>\n",
              "      <th>ring_type_nan</th>\n",
              "    </tr>\n",
              "  </thead>\n",
              "  <tbody>\n",
              "    <tr>\n",
              "      <th>0</th>\n",
              "      <td>15.26</td>\n",
              "      <td>1.0</td>\n",
              "      <td>16.95</td>\n",
              "      <td>17.09</td>\n",
              "      <td>1</td>\n",
              "      <td>2.0</td>\n",
              "      <td>0</td>\n",
              "      <td>0</td>\n",
              "      <td>1</td>\n",
              "      <td>0</td>\n",
              "      <td>...</td>\n",
              "      <td>0</td>\n",
              "      <td>0</td>\n",
              "      <td>0</td>\n",
              "      <td>1</td>\n",
              "      <td>0</td>\n",
              "      <td>0</td>\n",
              "      <td>0</td>\n",
              "      <td>0</td>\n",
              "      <td>0</td>\n",
              "      <td>0</td>\n",
              "    </tr>\n",
              "    <tr>\n",
              "      <th>1</th>\n",
              "      <td>16.60</td>\n",
              "      <td>1.0</td>\n",
              "      <td>17.99</td>\n",
              "      <td>18.19</td>\n",
              "      <td>1</td>\n",
              "      <td>2.0</td>\n",
              "      <td>0</td>\n",
              "      <td>0</td>\n",
              "      <td>1</td>\n",
              "      <td>0</td>\n",
              "      <td>...</td>\n",
              "      <td>0</td>\n",
              "      <td>0</td>\n",
              "      <td>0</td>\n",
              "      <td>1</td>\n",
              "      <td>0</td>\n",
              "      <td>0</td>\n",
              "      <td>0</td>\n",
              "      <td>0</td>\n",
              "      <td>0</td>\n",
              "      <td>0</td>\n",
              "    </tr>\n",
              "    <tr>\n",
              "      <th>2</th>\n",
              "      <td>14.07</td>\n",
              "      <td>1.0</td>\n",
              "      <td>17.80</td>\n",
              "      <td>17.74</td>\n",
              "      <td>1</td>\n",
              "      <td>2.0</td>\n",
              "      <td>0</td>\n",
              "      <td>0</td>\n",
              "      <td>1</td>\n",
              "      <td>0</td>\n",
              "      <td>...</td>\n",
              "      <td>0</td>\n",
              "      <td>0</td>\n",
              "      <td>0</td>\n",
              "      <td>1</td>\n",
              "      <td>0</td>\n",
              "      <td>0</td>\n",
              "      <td>0</td>\n",
              "      <td>0</td>\n",
              "      <td>0</td>\n",
              "      <td>0</td>\n",
              "    </tr>\n",
              "    <tr>\n",
              "      <th>3</th>\n",
              "      <td>14.17</td>\n",
              "      <td>1.0</td>\n",
              "      <td>15.77</td>\n",
              "      <td>15.98</td>\n",
              "      <td>1</td>\n",
              "      <td>2.0</td>\n",
              "      <td>0</td>\n",
              "      <td>0</td>\n",
              "      <td>1</td>\n",
              "      <td>0</td>\n",
              "      <td>...</td>\n",
              "      <td>0</td>\n",
              "      <td>0</td>\n",
              "      <td>0</td>\n",
              "      <td>0</td>\n",
              "      <td>0</td>\n",
              "      <td>0</td>\n",
              "      <td>1</td>\n",
              "      <td>0</td>\n",
              "      <td>0</td>\n",
              "      <td>0</td>\n",
              "    </tr>\n",
              "    <tr>\n",
              "      <th>4</th>\n",
              "      <td>14.64</td>\n",
              "      <td>1.0</td>\n",
              "      <td>16.53</td>\n",
              "      <td>17.20</td>\n",
              "      <td>1</td>\n",
              "      <td>2.0</td>\n",
              "      <td>0</td>\n",
              "      <td>0</td>\n",
              "      <td>1</td>\n",
              "      <td>0</td>\n",
              "      <td>...</td>\n",
              "      <td>0</td>\n",
              "      <td>0</td>\n",
              "      <td>0</td>\n",
              "      <td>0</td>\n",
              "      <td>0</td>\n",
              "      <td>0</td>\n",
              "      <td>1</td>\n",
              "      <td>0</td>\n",
              "      <td>0</td>\n",
              "      <td>0</td>\n",
              "    </tr>\n",
              "  </tbody>\n",
              "</table>\n",
              "<p>5 rows × 72 columns</p>\n",
              "</div>\n",
              "      <button class=\"colab-df-convert\" onclick=\"convertToInteractive('df-f714fba3-6771-4b3f-b29f-dd9b0cfebb61')\"\n",
              "              title=\"Convert this dataframe to an interactive table.\"\n",
              "              style=\"display:none;\">\n",
              "        \n",
              "  <svg xmlns=\"http://www.w3.org/2000/svg\" height=\"24px\"viewBox=\"0 0 24 24\"\n",
              "       width=\"24px\">\n",
              "    <path d=\"M0 0h24v24H0V0z\" fill=\"none\"/>\n",
              "    <path d=\"M18.56 5.44l.94 2.06.94-2.06 2.06-.94-2.06-.94-.94-2.06-.94 2.06-2.06.94zm-11 1L8.5 8.5l.94-2.06 2.06-.94-2.06-.94L8.5 2.5l-.94 2.06-2.06.94zm10 10l.94 2.06.94-2.06 2.06-.94-2.06-.94-.94-2.06-.94 2.06-2.06.94z\"/><path d=\"M17.41 7.96l-1.37-1.37c-.4-.4-.92-.59-1.43-.59-.52 0-1.04.2-1.43.59L10.3 9.45l-7.72 7.72c-.78.78-.78 2.05 0 2.83L4 21.41c.39.39.9.59 1.41.59.51 0 1.02-.2 1.41-.59l7.78-7.78 2.81-2.81c.8-.78.8-2.07 0-2.86zM5.41 20L4 18.59l7.72-7.72 1.47 1.35L5.41 20z\"/>\n",
              "  </svg>\n",
              "      </button>\n",
              "      \n",
              "  <style>\n",
              "    .colab-df-container {\n",
              "      display:flex;\n",
              "      flex-wrap:wrap;\n",
              "      gap: 12px;\n",
              "    }\n",
              "\n",
              "    .colab-df-convert {\n",
              "      background-color: #E8F0FE;\n",
              "      border: none;\n",
              "      border-radius: 50%;\n",
              "      cursor: pointer;\n",
              "      display: none;\n",
              "      fill: #1967D2;\n",
              "      height: 32px;\n",
              "      padding: 0 0 0 0;\n",
              "      width: 32px;\n",
              "    }\n",
              "\n",
              "    .colab-df-convert:hover {\n",
              "      background-color: #E2EBFA;\n",
              "      box-shadow: 0px 1px 2px rgba(60, 64, 67, 0.3), 0px 1px 3px 1px rgba(60, 64, 67, 0.15);\n",
              "      fill: #174EA6;\n",
              "    }\n",
              "\n",
              "    [theme=dark] .colab-df-convert {\n",
              "      background-color: #3B4455;\n",
              "      fill: #D2E3FC;\n",
              "    }\n",
              "\n",
              "    [theme=dark] .colab-df-convert:hover {\n",
              "      background-color: #434B5C;\n",
              "      box-shadow: 0px 1px 3px 1px rgba(0, 0, 0, 0.15);\n",
              "      filter: drop-shadow(0px 1px 2px rgba(0, 0, 0, 0.3));\n",
              "      fill: #FFFFFF;\n",
              "    }\n",
              "  </style>\n",
              "\n",
              "      <script>\n",
              "        const buttonEl =\n",
              "          document.querySelector('#df-f714fba3-6771-4b3f-b29f-dd9b0cfebb61 button.colab-df-convert');\n",
              "        buttonEl.style.display =\n",
              "          google.colab.kernel.accessAllowed ? 'block' : 'none';\n",
              "\n",
              "        async function convertToInteractive(key) {\n",
              "          const element = document.querySelector('#df-f714fba3-6771-4b3f-b29f-dd9b0cfebb61');\n",
              "          const dataTable =\n",
              "            await google.colab.kernel.invokeFunction('convertToInteractive',\n",
              "                                                     [key], {});\n",
              "          if (!dataTable) return;\n",
              "\n",
              "          const docLinkHtml = 'Like what you see? Visit the ' +\n",
              "            '<a target=\"_blank\" href=https://colab.research.google.com/notebooks/data_table.ipynb>data table notebook</a>'\n",
              "            + ' to learn more about interactive tables.';\n",
              "          element.innerHTML = '';\n",
              "          dataTable['output_type'] = 'display_data';\n",
              "          await google.colab.output.renderOutput(dataTable, element);\n",
              "          const docLink = document.createElement('div');\n",
              "          docLink.innerHTML = docLinkHtml;\n",
              "          element.appendChild(docLink);\n",
              "        }\n",
              "      </script>\n",
              "    </div>\n",
              "  </div>\n",
              "  "
            ]
          },
          "metadata": {},
          "execution_count": 295
        }
      ]
    },
    {
      "cell_type": "code",
      "source": [
        "svm1=SVC(C=1, kernel='rbf')\n",
        "svm1.fit(X2, y2)\n",
        "pred_svm1=svm1.predict(X2)"
      ],
      "metadata": {
        "id": "DTiHpIe99TXI"
      },
      "execution_count": 296,
      "outputs": []
    },
    {
      "cell_type": "code",
      "source": [
        "print(classification_report(y2, pred_svm1))"
      ],
      "metadata": {
        "colab": {
          "base_uri": "https://localhost:8080/"
        },
        "id": "2DJ27FNm84iu",
        "outputId": "4ed8f7fa-056d-4112-869d-5c98cbb02bf5"
      },
      "execution_count": 297,
      "outputs": [
        {
          "output_type": "stream",
          "name": "stdout",
          "text": [
            "              precision    recall  f1-score   support\n",
            "\n",
            "         0.0       0.86      0.95      0.90     33888\n",
            "         1.0       0.92      0.80      0.86     27181\n",
            "\n",
            "    accuracy                           0.88     61069\n",
            "   macro avg       0.89      0.87      0.88     61069\n",
            "weighted avg       0.89      0.88      0.88     61069\n",
            "\n"
          ]
        }
      ]
    },
    {
      "cell_type": "code",
      "source": [
        "svm2=SVC(C=0.01, kernel='poly', degree=3)\n",
        "svm2.fit(X2, y2)\n",
        "pred_svm2=svm2.predict(X2)"
      ],
      "metadata": {
        "id": "g4Gj_Ac2AKxQ"
      },
      "execution_count": 298,
      "outputs": []
    },
    {
      "cell_type": "code",
      "source": [
        "print(classification_report(y2, pred_svm2))"
      ],
      "metadata": {
        "colab": {
          "base_uri": "https://localhost:8080/"
        },
        "id": "sgs7GWAjDbQX",
        "outputId": "ba7b1c78-3d59-46cb-9672-8b31a7e54a17"
      },
      "execution_count": 300,
      "outputs": [
        {
          "output_type": "stream",
          "name": "stdout",
          "text": [
            "              precision    recall  f1-score   support\n",
            "\n",
            "         0.0       0.59      0.98      0.74     33888\n",
            "         1.0       0.85      0.15      0.26     27181\n",
            "\n",
            "    accuracy                           0.61     61069\n",
            "   macro avg       0.72      0.57      0.50     61069\n",
            "weighted avg       0.70      0.61      0.53     61069\n",
            "\n"
          ]
        }
      ]
    },
    {
      "cell_type": "code",
      "source": [
        "from sklearn.model_selection import GridSearchCV"
      ],
      "metadata": {
        "id": "OLojjTBqDjax"
      },
      "execution_count": 301,
      "outputs": []
    },
    {
      "cell_type": "code",
      "source": [
        "svm=SVC()"
      ],
      "metadata": {
        "id": "OoznyXl8DmqV"
      },
      "execution_count": 302,
      "outputs": []
    },
    {
      "cell_type": "code",
      "source": [
        "parameters={'gamma':[0.00001, 0.0001, 0.001, 0.001, 0.1]} #możemy sprawdzić dla którego parametru search będzie najlepszy\n",
        "searcher=GridSearchCV(svm, parameters)\n",
        "searcher.fit(X2,y2)"
      ],
      "metadata": {
        "id": "693QYDaRDoDG"
      },
      "execution_count": null,
      "outputs": []
    },
    {
      "cell_type": "code",
      "source": [
        "print(\"Best CV params\", searcher.best_params_)"
      ],
      "metadata": {
        "id": "8SmHWrq3D1xx"
      },
      "execution_count": null,
      "outputs": []
    }
  ]
}